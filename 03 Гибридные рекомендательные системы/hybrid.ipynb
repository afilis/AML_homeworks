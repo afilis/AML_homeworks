{
 "cells": [
  {
   "cell_type": "markdown",
   "metadata": {},
   "source": [
    "**Домашнее задание**\n",
    "\n",
    "Что делать?  \n",
    "1.Датасет ml-latest  \n",
    "2.Вспомнить подходы, которые мы разбирали  \n",
    "3.Выбрать понравившийся подход к гибридным системам  \n",
    "4.Написать свою  "
   ]
  },
  {
   "cell_type": "code",
   "execution_count": 1,
   "metadata": {},
   "outputs": [],
   "source": [
    "from surprise import SVD\n",
    "from surprise import Dataset\n",
    "from surprise import accuracy\n",
    "from surprise import Reader\n",
    "from surprise.model_selection import train_test_split\n",
    "\n",
    "from sklearn.feature_extraction.text import TfidfTransformer, CountVectorizer\n",
    "from sklearn.neighbors import NearestNeighbors\n",
    "\n",
    "import numpy as np\n",
    "import pandas as pd"
   ]
  },
  {
   "cell_type": "code",
   "execution_count": 2,
   "metadata": {},
   "outputs": [],
   "source": [
    "movies = pd.read_csv('movies.csv')\n",
    "ratings = pd.read_csv('ratings.csv')\n",
    "genome_scores = pd.read_csv('genome-scores.csv')\n",
    "genome_tag = pd.read_csv('genome-tags.csv')"
   ]
  },
  {
   "cell_type": "markdown",
   "metadata": {},
   "source": [
    "Отбросим ненужные данные."
   ]
  },
  {
   "cell_type": "code",
   "execution_count": 3,
   "metadata": {},
   "outputs": [],
   "source": [
    "ratings.drop(columns=[\"timestamp\"], inplace=True)"
   ]
  },
  {
   "cell_type": "markdown",
   "metadata": {},
   "source": [
    "Восстановим геном тегов."
   ]
  },
  {
   "cell_type": "code",
   "execution_count": 4,
   "metadata": {},
   "outputs": [
    {
     "data": {
      "text/html": [
       "<div>\n",
       "<style scoped>\n",
       "    .dataframe tbody tr th:only-of-type {\n",
       "        vertical-align: middle;\n",
       "    }\n",
       "\n",
       "    .dataframe tbody tr th {\n",
       "        vertical-align: top;\n",
       "    }\n",
       "\n",
       "    .dataframe thead th {\n",
       "        text-align: right;\n",
       "    }\n",
       "</style>\n",
       "<table border=\"1\" class=\"dataframe\">\n",
       "  <thead>\n",
       "    <tr style=\"text-align: right;\">\n",
       "      <th></th>\n",
       "      <th>movieId</th>\n",
       "      <th>007</th>\n",
       "      <th>007 (series)</th>\n",
       "      <th>18th century</th>\n",
       "      <th>1920s</th>\n",
       "      <th>1930s</th>\n",
       "      <th>1950s</th>\n",
       "      <th>1960s</th>\n",
       "      <th>1970s</th>\n",
       "      <th>1980s</th>\n",
       "      <th>...</th>\n",
       "      <th>world politics</th>\n",
       "      <th>world war i</th>\n",
       "      <th>world war ii</th>\n",
       "      <th>writer's life</th>\n",
       "      <th>writers</th>\n",
       "      <th>writing</th>\n",
       "      <th>wuxia</th>\n",
       "      <th>wwii</th>\n",
       "      <th>zombie</th>\n",
       "      <th>zombies</th>\n",
       "    </tr>\n",
       "  </thead>\n",
       "  <tbody>\n",
       "    <tr>\n",
       "      <th>0</th>\n",
       "      <td>1</td>\n",
       "      <td>0.02900</td>\n",
       "      <td>0.02375</td>\n",
       "      <td>0.05425</td>\n",
       "      <td>0.06875</td>\n",
       "      <td>0.16000</td>\n",
       "      <td>0.19525</td>\n",
       "      <td>0.07600</td>\n",
       "      <td>0.25200</td>\n",
       "      <td>0.22750</td>\n",
       "      <td>...</td>\n",
       "      <td>0.03775</td>\n",
       "      <td>0.02250</td>\n",
       "      <td>0.04075</td>\n",
       "      <td>0.03175</td>\n",
       "      <td>0.12950</td>\n",
       "      <td>0.04550</td>\n",
       "      <td>0.02000</td>\n",
       "      <td>0.03850</td>\n",
       "      <td>0.09125</td>\n",
       "      <td>0.02225</td>\n",
       "    </tr>\n",
       "    <tr>\n",
       "      <th>1</th>\n",
       "      <td>2</td>\n",
       "      <td>0.03625</td>\n",
       "      <td>0.03625</td>\n",
       "      <td>0.08275</td>\n",
       "      <td>0.08175</td>\n",
       "      <td>0.10200</td>\n",
       "      <td>0.06900</td>\n",
       "      <td>0.05775</td>\n",
       "      <td>0.10100</td>\n",
       "      <td>0.08225</td>\n",
       "      <td>...</td>\n",
       "      <td>0.04775</td>\n",
       "      <td>0.02050</td>\n",
       "      <td>0.01650</td>\n",
       "      <td>0.02450</td>\n",
       "      <td>0.13050</td>\n",
       "      <td>0.02700</td>\n",
       "      <td>0.01825</td>\n",
       "      <td>0.01225</td>\n",
       "      <td>0.09925</td>\n",
       "      <td>0.01850</td>\n",
       "    </tr>\n",
       "    <tr>\n",
       "      <th>2</th>\n",
       "      <td>3</td>\n",
       "      <td>0.04150</td>\n",
       "      <td>0.04950</td>\n",
       "      <td>0.03000</td>\n",
       "      <td>0.09525</td>\n",
       "      <td>0.04525</td>\n",
       "      <td>0.05925</td>\n",
       "      <td>0.04000</td>\n",
       "      <td>0.14150</td>\n",
       "      <td>0.04075</td>\n",
       "      <td>...</td>\n",
       "      <td>0.05800</td>\n",
       "      <td>0.02375</td>\n",
       "      <td>0.03550</td>\n",
       "      <td>0.02125</td>\n",
       "      <td>0.12775</td>\n",
       "      <td>0.03250</td>\n",
       "      <td>0.01625</td>\n",
       "      <td>0.02125</td>\n",
       "      <td>0.09525</td>\n",
       "      <td>0.01750</td>\n",
       "    </tr>\n",
       "    <tr>\n",
       "      <th>3</th>\n",
       "      <td>4</td>\n",
       "      <td>0.03350</td>\n",
       "      <td>0.03675</td>\n",
       "      <td>0.04275</td>\n",
       "      <td>0.02625</td>\n",
       "      <td>0.05250</td>\n",
       "      <td>0.03025</td>\n",
       "      <td>0.02425</td>\n",
       "      <td>0.07475</td>\n",
       "      <td>0.03750</td>\n",
       "      <td>...</td>\n",
       "      <td>0.04900</td>\n",
       "      <td>0.03275</td>\n",
       "      <td>0.02125</td>\n",
       "      <td>0.03675</td>\n",
       "      <td>0.15925</td>\n",
       "      <td>0.05225</td>\n",
       "      <td>0.01500</td>\n",
       "      <td>0.01600</td>\n",
       "      <td>0.09175</td>\n",
       "      <td>0.01500</td>\n",
       "    </tr>\n",
       "    <tr>\n",
       "      <th>4</th>\n",
       "      <td>5</td>\n",
       "      <td>0.04050</td>\n",
       "      <td>0.05175</td>\n",
       "      <td>0.03600</td>\n",
       "      <td>0.04625</td>\n",
       "      <td>0.05500</td>\n",
       "      <td>0.08000</td>\n",
       "      <td>0.02150</td>\n",
       "      <td>0.07375</td>\n",
       "      <td>0.02825</td>\n",
       "      <td>...</td>\n",
       "      <td>0.05375</td>\n",
       "      <td>0.02625</td>\n",
       "      <td>0.02050</td>\n",
       "      <td>0.02125</td>\n",
       "      <td>0.17725</td>\n",
       "      <td>0.02050</td>\n",
       "      <td>0.01500</td>\n",
       "      <td>0.01550</td>\n",
       "      <td>0.08875</td>\n",
       "      <td>0.01575</td>\n",
       "    </tr>\n",
       "  </tbody>\n",
       "</table>\n",
       "<p>5 rows × 1129 columns</p>\n",
       "</div>"
      ],
      "text/plain": [
       "   movieId      007  007 (series)  18th century    1920s    1930s    1950s  \\\n",
       "0        1  0.02900       0.02375       0.05425  0.06875  0.16000  0.19525   \n",
       "1        2  0.03625       0.03625       0.08275  0.08175  0.10200  0.06900   \n",
       "2        3  0.04150       0.04950       0.03000  0.09525  0.04525  0.05925   \n",
       "3        4  0.03350       0.03675       0.04275  0.02625  0.05250  0.03025   \n",
       "4        5  0.04050       0.05175       0.03600  0.04625  0.05500  0.08000   \n",
       "\n",
       "     1960s    1970s    1980s  ...  world politics  world war i  world war ii  \\\n",
       "0  0.07600  0.25200  0.22750  ...         0.03775      0.02250       0.04075   \n",
       "1  0.05775  0.10100  0.08225  ...         0.04775      0.02050       0.01650   \n",
       "2  0.04000  0.14150  0.04075  ...         0.05800      0.02375       0.03550   \n",
       "3  0.02425  0.07475  0.03750  ...         0.04900      0.03275       0.02125   \n",
       "4  0.02150  0.07375  0.02825  ...         0.05375      0.02625       0.02050   \n",
       "\n",
       "   writer's life  writers  writing    wuxia     wwii   zombie  zombies  \n",
       "0        0.03175  0.12950  0.04550  0.02000  0.03850  0.09125  0.02225  \n",
       "1        0.02450  0.13050  0.02700  0.01825  0.01225  0.09925  0.01850  \n",
       "2        0.02125  0.12775  0.03250  0.01625  0.02125  0.09525  0.01750  \n",
       "3        0.03675  0.15925  0.05225  0.01500  0.01600  0.09175  0.01500  \n",
       "4        0.02125  0.17725  0.02050  0.01500  0.01550  0.08875  0.01575  \n",
       "\n",
       "[5 rows x 1129 columns]"
      ]
     },
     "execution_count": 4,
     "metadata": {},
     "output_type": "execute_result"
    }
   ],
   "source": [
    "genomes = genome_scores.pivot(index='movieId', columns='tagId', values='relevance').reset_index()\n",
    "genomes.columns = [\"movieId\"] + genome_tag[\"tag\"].tolist()\n",
    "genomes.dropna(inplace=True)\n",
    "genome_scores = None\n",
    "genome_tag = None\n",
    "genomes.head()"
   ]
  },
  {
   "cell_type": "markdown",
   "metadata": {},
   "source": [
    "Оставим только те movieId, которые есть всех датафреймах."
   ]
  },
  {
   "cell_type": "code",
   "execution_count": 5,
   "metadata": {},
   "outputs": [],
   "source": [
    "m = set(movies[\"movieId\"])\n",
    "r = set(ratings[\"movieId\"])\n",
    "g = set(genomes[\"movieId\"])\n",
    "common_ids = m.intersection(r).intersection(g)\n",
    "movies = movies[movies['movieId'].isin(common_ids)]\n",
    "ratings = ratings[ratings['movieId'].isin(common_ids)]\n",
    "genomes = genomes[genomes['movieId'].isin(common_ids)]"
   ]
  },
  {
   "cell_type": "markdown",
   "metadata": {},
   "source": [
    "В результате данной операции остается примерно 1/4 от исходного объема movieId. что для реальной задачи недопустимо. Но цель данной работы опробовать гибридные рекомендательные системы, поэтому, считаю, что такое в данном случае допустимо."
   ]
  },
  {
   "cell_type": "markdown",
   "metadata": {},
   "source": [
    "Обучаем SVD на рейтингах."
   ]
  },
  {
   "cell_type": "code",
   "execution_count": 6,
   "metadata": {},
   "outputs": [
    {
     "name": "stdout",
     "output_type": "stream",
     "text": [
      "RMSE: 0.7950\n"
     ]
    },
    {
     "data": {
      "text/plain": [
       "0.7950404843090519"
      ]
     },
     "execution_count": 6,
     "metadata": {},
     "output_type": "execute_result"
    }
   ],
   "source": [
    "# ВНИМАНИЕ: данная ячейка требует 15+ GB RAM\n",
    "\n",
    "dataset = pd.DataFrame({\n",
    "    'uid': ratings[\"userId\"],\n",
    "    'iid': ratings[\"movieId\"],\n",
    "    'rating': ratings[\"rating\"]\n",
    "})\n",
    "\n",
    "reader = Reader(rating_scale=(ratings[\"rating\"].min(), ratings[\"rating\"].max()))\n",
    "data = Dataset.load_from_df(dataset, reader)\n",
    "\n",
    "trainset, testset = train_test_split(data, test_size=.15, random_state=42)\n",
    "\n",
    "ratings_algo = SVD(n_factors=20, n_epochs=20)\n",
    "ratings_algo.fit(trainset)\n",
    "\n",
    "test_pred = ratings_algo.test(testset)\n",
    "accuracy.rmse(test_pred, verbose=True)"
   ]
  },
  {
   "cell_type": "markdown",
   "metadata": {},
   "source": [
    "Обучаем модель с использованием алгоритма ближайших соседей на жанрах."
   ]
  },
  {
   "cell_type": "code",
   "execution_count": 7,
   "metadata": {},
   "outputs": [],
   "source": [
    "def change_string(g):\n",
    "    return g.replace(' ', '').replace('-', '').replace('|', ' ')\n",
    "\n",
    "movie_genres = [change_string(g) for g in movies.genres.values]\n",
    "\n",
    "count_vect = CountVectorizer()\n",
    "X_train_counts = count_vect.fit_transform(movie_genres)\n",
    "\n",
    "tfidf_transformer = TfidfTransformer()\n",
    "X_train_tfidf = tfidf_transformer.fit_transform(X_train_counts)\n",
    "X_train_tfidf\n",
    "\n",
    "genres_algo = NearestNeighbors(n_neighbors=50, n_jobs=-1, metric='euclidean') \n",
    "genres_algo.fit(X_train_tfidf);"
   ]
  },
  {
   "cell_type": "markdown",
   "metadata": {},
   "source": [
    "Обучаем модель с использованием алгоритма ближайших соседей на геноме тегов."
   ]
  },
  {
   "cell_type": "code",
   "execution_count": 8,
   "metadata": {},
   "outputs": [],
   "source": [
    "genomes.set_index(\"movieId\", inplace=True)\n",
    "genomes_algo = NearestNeighbors(n_neighbors=50, n_jobs=-1, metric='euclidean') \n",
    "genomes_algo.fit(genomes);"
   ]
  },
  {
   "cell_type": "markdown",
   "metadata": {},
   "source": [
    "Строим функцию предсказания."
   ]
  },
  {
   "cell_type": "code",
   "execution_count": 9,
   "metadata": {},
   "outputs": [],
   "source": [
    "def recommend_for_user(user_id):\n",
    "    # получаем список фильмов для данного пользователя\n",
    "    user_movies = ratings[ratings[\"userId\"] == user_id][\"movieId\"].unique()\n",
    "    \n",
    "    # берем последний просмотренный пользователем фильм\n",
    "    last_user_movie = user_movies[-1]\n",
    "    \n",
    "    # получаем жанры и готовим их к применению в TF-IDF\n",
    "    movie_genres = change_string(movies.loc[movies[\"movieId\"] == last_user_movie][\"genres\"].item())\n",
    "\n",
    "    # на уже обученной модели получаем предсказание по жанру последнего фильма\n",
    "    predict = count_vect.transform([movie_genres])\n",
    "    X_tfidf2 = tfidf_transformer.transform(predict)\n",
    "    res = genres_algo.kneighbors(X_tfidf2, return_distance=True)\n",
    "    genres_ids = set(res[1][0])\n",
    "    \n",
    "    # на уже обученной модели получаем предсказание по геному тэгов последнего фильма\n",
    "    res = genomes_algo.kneighbors([genomes.loc[last_user_movie]], return_distance=True)\n",
    "    genomes_ids = set(res[1][0])\n",
    "    \n",
    "    # выполняем смешивание предсказания лучших фильмов от обеих моделей\n",
    "    movies_to_score = genres_ids.union(genomes_ids)\n",
    "\n",
    "    # для предсказанных фильмов, не вошедших в список уже просмотренных пользователем,\n",
    "    # предсказываем оценку на скрытых факторах\n",
    "    scores = []\n",
    "    ids = []\n",
    "    for movie in movies_to_score:\n",
    "        if movie in user_movies:\n",
    "            continue\n",
    "        scores.append(ratings_algo.predict(uid=user_id, iid=movie).est)\n",
    "        ids.append(movie)\n",
    "        \n",
    "    # сортируем и формируем датафрейм с рекомендациями\n",
    "    best_indexes = np.argsort(scores)[-10:]\n",
    "    mov = []\n",
    "    sc = []\n",
    "    for i in reversed(best_indexes):\n",
    "        mov.append(movies.loc[movies[\"movieId\"] == ids[i]][\"title\"].item())\n",
    "        sc.append(scores[i])\n",
    "        \n",
    "    return pd.DataFrame({\"Movie\": mov, \"Predict rating\": sc})"
   ]
  },
  {
   "cell_type": "markdown",
   "metadata": {},
   "source": [
    "Строим рекомендации для пользователя."
   ]
  },
  {
   "cell_type": "code",
   "execution_count": 10,
   "metadata": {},
   "outputs": [
    {
     "name": "stdout",
     "output_type": "stream",
     "text": [
      "Рекомендации для пользователя с ID = 42.\n"
     ]
    },
    {
     "data": {
      "text/html": [
       "<div>\n",
       "<style scoped>\n",
       "    .dataframe tbody tr th:only-of-type {\n",
       "        vertical-align: middle;\n",
       "    }\n",
       "\n",
       "    .dataframe tbody tr th {\n",
       "        vertical-align: top;\n",
       "    }\n",
       "\n",
       "    .dataframe thead th {\n",
       "        text-align: right;\n",
       "    }\n",
       "</style>\n",
       "<table border=\"1\" class=\"dataframe\">\n",
       "  <thead>\n",
       "    <tr style=\"text-align: right;\">\n",
       "      <th></th>\n",
       "      <th>Movie</th>\n",
       "      <th>Predict rating</th>\n",
       "    </tr>\n",
       "  </thead>\n",
       "  <tbody>\n",
       "    <tr>\n",
       "      <th>0</th>\n",
       "      <td>Spirited Away (Sen to Chihiro no kamikakushi) ...</td>\n",
       "      <td>4.572820</td>\n",
       "    </tr>\n",
       "    <tr>\n",
       "      <th>1</th>\n",
       "      <td>Amelie (Fabuleux destin d'Amélie Poulain, Le) ...</td>\n",
       "      <td>4.494807</td>\n",
       "    </tr>\n",
       "    <tr>\n",
       "      <th>2</th>\n",
       "      <td>In a Lonely Place (1950)</td>\n",
       "      <td>4.279389</td>\n",
       "    </tr>\n",
       "    <tr>\n",
       "      <th>3</th>\n",
       "      <td>Inherit the Wind (1960)</td>\n",
       "      <td>4.210076</td>\n",
       "    </tr>\n",
       "    <tr>\n",
       "      <th>4</th>\n",
       "      <td>Killing, The (1956)</td>\n",
       "      <td>4.200182</td>\n",
       "    </tr>\n",
       "    <tr>\n",
       "      <th>5</th>\n",
       "      <td>Scratch (2001)</td>\n",
       "      <td>4.125531</td>\n",
       "    </tr>\n",
       "    <tr>\n",
       "      <th>6</th>\n",
       "      <td>Diary of a Country Priest (Journal d'un curé d...</td>\n",
       "      <td>4.043176</td>\n",
       "    </tr>\n",
       "    <tr>\n",
       "      <th>7</th>\n",
       "      <td>Standing in the Shadows of Motown (2002)</td>\n",
       "      <td>3.936566</td>\n",
       "    </tr>\n",
       "    <tr>\n",
       "      <th>8</th>\n",
       "      <td>Man of Marble (Czlowiek z Marmuru) (1977)</td>\n",
       "      <td>3.901991</td>\n",
       "    </tr>\n",
       "    <tr>\n",
       "      <th>9</th>\n",
       "      <td>Strange Brew (1983)</td>\n",
       "      <td>3.883549</td>\n",
       "    </tr>\n",
       "  </tbody>\n",
       "</table>\n",
       "</div>"
      ],
      "text/plain": [
       "                                               Movie  Predict rating\n",
       "0  Spirited Away (Sen to Chihiro no kamikakushi) ...        4.572820\n",
       "1  Amelie (Fabuleux destin d'Amélie Poulain, Le) ...        4.494807\n",
       "2                           In a Lonely Place (1950)        4.279389\n",
       "3                            Inherit the Wind (1960)        4.210076\n",
       "4                                Killing, The (1956)        4.200182\n",
       "5                                     Scratch (2001)        4.125531\n",
       "6  Diary of a Country Priest (Journal d'un curé d...        4.043176\n",
       "7           Standing in the Shadows of Motown (2002)        3.936566\n",
       "8          Man of Marble (Czlowiek z Marmuru) (1977)        3.901991\n",
       "9                                Strange Brew (1983)        3.883549"
      ]
     },
     "execution_count": 10,
     "metadata": {},
     "output_type": "execute_result"
    }
   ],
   "source": [
    "user_id = 42\n",
    "print(f\"Рекомендации для пользователя с ID = {user_id}.\")\n",
    "recommend_for_user(user_id)"
   ]
  },
  {
   "cell_type": "code",
   "execution_count": null,
   "metadata": {},
   "outputs": [],
   "source": []
  }
 ],
 "metadata": {
  "kernelspec": {
   "display_name": "Python 3",
   "language": "python",
   "name": "python3"
  },
  "language_info": {
   "codemirror_mode": {
    "name": "ipython",
    "version": 3
   },
   "file_extension": ".py",
   "mimetype": "text/x-python",
   "name": "python",
   "nbconvert_exporter": "python",
   "pygments_lexer": "ipython3",
   "version": "3.7.6"
  }
 },
 "nbformat": 4,
 "nbformat_minor": 4
}
