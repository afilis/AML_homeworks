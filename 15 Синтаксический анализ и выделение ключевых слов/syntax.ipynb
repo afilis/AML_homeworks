{
  "nbformat": 4,
  "nbformat_minor": 0,
  "metadata": {
    "colab": {
      "name": "syntax.ipynb",
      "provenance": [],
      "collapsed_sections": []
    },
    "kernelspec": {
      "display_name": "Python 3",
      "language": "python",
      "name": "python3"
    },
    "language_info": {
      "codemirror_mode": {
        "name": "ipython",
        "version": 3
      },
      "file_extension": ".py",
      "mimetype": "text/x-python",
      "name": "python",
      "nbconvert_exporter": "python",
      "pygments_lexer": "ipython3",
      "version": "3.7.6"
    }
  },
  "cells": [
    {
      "cell_type": "code",
      "metadata": {
        "id": "ywig2z6CtjZN"
      },
      "source": [
        "import json\n",
        "import bz2\n",
        "import re\n",
        "from tqdm import tqdm\n",
        "from scipy import sparse"
      ],
      "execution_count": 22,
      "outputs": []
    },
    {
      "cell_type": "code",
      "metadata": {
        "colab": {
          "base_uri": "https://localhost:8080/"
        },
        "id": "Q4lQikV9tjZY",
        "outputId": "e53048df-13b4-4be0-9f6b-6bcdda00df66"
      },
      "source": [
        "import pandas as pd\n",
        "import numpy as np\n",
        "import nltk\n",
        "import matplotlib.pyplot as plt\n",
        "import seaborn as sns\n",
        "%matplotlib inline\n",
        "%pylab inline"
      ],
      "execution_count": 23,
      "outputs": [
        {
          "output_type": "stream",
          "text": [
            "Populating the interactive namespace from numpy and matplotlib\n"
          ],
          "name": "stdout"
        }
      ]
    },
    {
      "cell_type": "markdown",
      "metadata": {
        "id": "529poFPb723o"
      },
      "source": [
        "Подключим Google Drive."
      ]
    },
    {
      "cell_type": "code",
      "metadata": {
        "colab": {
          "base_uri": "https://localhost:8080/"
        },
        "id": "dbUjUQMetrF7",
        "outputId": "775a1cfc-41b6-4f66-f04d-8324a5f31988"
      },
      "source": [
        "from google.colab import drive\n",
        "drive.mount('/content/drive')\n",
        "\n",
        "base_dir = '/content/drive/MyDrive/Colab Notebooks/003'"
      ],
      "execution_count": 24,
      "outputs": [
        {
          "output_type": "stream",
          "text": [
            "Drive already mounted at /content/drive; to attempt to forcibly remount, call drive.mount(\"/content/drive\", force_remount=True).\n"
          ],
          "name": "stdout"
        }
      ]
    },
    {
      "cell_type": "markdown",
      "metadata": {
        "id": "9DVc1oVS7-ap"
      },
      "source": [
        "Функции, которые помогут отслеживать память и сохранять промежуточные значения, чтобы не допустить превышения лимитов."
      ]
    },
    {
      "cell_type": "code",
      "metadata": {
        "id": "aQj87CmZ-SJ0"
      },
      "source": [
        "import inspect\n",
        "import pickle\n",
        "import os\n",
        "import sys\n",
        "\n",
        "def sizeof_fmt(num, suffix='B'):\n",
        "    ''' by Fred Cirera,  https://stackoverflow.com/a/1094933/1870254, modified'''\n",
        "    for unit in ['','Ki','Mi','Gi','Ti','Pi','Ei','Zi']:\n",
        "        if abs(num) < 1024.0:\n",
        "            return \"%3.1f %s%s\" % (num, unit, suffix)\n",
        "        num /= 1024.0\n",
        "    return \"%.1f %s%s\" % (num, 'Yi', suffix)\n",
        "\n",
        "def show_memory_usage(objs=locals().items()):\n",
        "    for name, size in sorted(((name, sys.getsizeof(value)) for name, value in objs), key=lambda x: -x[1])[:10]:\n",
        "        if name[0] != '_' and name not in ['rcParams', 'rcParamsDefault', 'rcParamsOrig', 'sctypeNA']:\n",
        "            print(f\"{name:>30}: {sizeof_fmt(size):>8}\")\n",
        "\n",
        "def save_pickle(obj, fname, dir=base_dir):\n",
        "    full_fname = dir + '/' + fname\n",
        "    with open(full_fname, 'wb') as pickle_file:\n",
        "        pickle.dump(obj, pickle_file)\n",
        "    print(f\"saved \\\"{fname}\\\" ({sizeof_fmt(os.path.getsize(full_fname))}).\")\n",
        "\n",
        "def load_pickle(fname, dir=base_dir):\n",
        "    full_fname = dir + '/' + fname\n",
        "    with open(full_fname, 'rb') as pickle_file:\n",
        "        obj = pickle.load(pickle_file)\n",
        "    print(f\"loaded \\\"{fname}\\\" ({sizeof_fmt(os.path.getsize(full_fname))}).\")\n",
        "    return obj"
      ],
      "execution_count": 25,
      "outputs": []
    },
    {
      "cell_type": "code",
      "metadata": {
        "colab": {
          "base_uri": "https://localhost:8080/"
        },
        "id": "qWqyMLj2tjZb",
        "scrolled": true,
        "outputId": "5a1f0d65-1454-44c0-87e9-7bc8ab8ef72f"
      },
      "source": [
        "responses = []\n",
        "with bz2.BZ2File(base_dir + '/banki_responses.json.bz2', 'r') as thefile:\n",
        "    for row in tqdm(thefile):\n",
        "        resp = json.loads(row)\n",
        "        if not resp['rating_not_checked'] and (len(resp['text'].split()) > 0):\n",
        "            responses.append(resp)\n",
        "\n",
        "save_pickle(responses, \"responses.pickle\")"
      ],
      "execution_count": null,
      "outputs": [
        {
          "output_type": "stream",
          "text": [
            "201030it [02:17, 1458.21it/s]\n"
          ],
          "name": "stderr"
        },
        {
          "output_type": "stream",
          "text": [
            "saved \"responses.pickle\" (470.2 MiB).\n"
          ],
          "name": "stdout"
        }
      ]
    },
    {
      "cell_type": "markdown",
      "metadata": {
        "id": "pv-zIu2MtjZc"
      },
      "source": [
        "#  Домашнее задание по NLP # 1 [100 баллов]\n",
        "## Классификация по тональности \n",
        "\n",
        "В этом домашнем задании вам предстоит классифицировать по тональности отзывы на банки с сайта banki.ru.\n",
        "\n",
        "Данные содержат непосредственно тексты отзывов, некоторую дополнительную информацию, а также оценку по шкале от 1 до 5. \n",
        "\n",
        "Тексты хранятся в json-ах в массиве responses.\n",
        "\n",
        "Посмотрим на пример отзыва:"
      ]
    },
    {
      "cell_type": "code",
      "metadata": {
        "colab": {
          "base_uri": "https://localhost:8080/"
        },
        "id": "0dM2ojINtjZe",
        "outputId": "965b7750-46fc-45f3-bf3a-d88a302a16ab"
      },
      "source": [
        "responses[99]"
      ],
      "execution_count": null,
      "outputs": [
        {
          "output_type": "execute_result",
          "data": {
            "text/plain": [
              "{'author': 'ronnichka',\n",
              " 'bank_license': 'лицензия № 880',\n",
              " 'bank_name': 'Югра',\n",
              " 'city': 'г. Саратов',\n",
              " 'datetime': '2015-06-03 20:56:57',\n",
              " 'num_comments': 0,\n",
              " 'rating_grade': 3,\n",
              " 'rating_not_checked': False,\n",
              " 'text': 'Здравствуйте! Хотела написать, что мне месяц не выдают карту ко вкладу, ссылаясь на \"нам же их из Самары везут\" (на секундочку 5 часов езды от нашего города). Но! Прочитала, что людям 3,5 месяцев не выдают карту, и поняла, что у меня все хорошо, пока что. И подарок мне дали, и кулер в отделении есть. Так что я, конечно, готова ждать. Правда хотелось бы не очень долго.',\n",
              " 'title': 'Карта ко вкладу'}"
            ]
          },
          "metadata": {
            "tags": []
          },
          "execution_count": 5
        }
      ]
    },
    {
      "cell_type": "markdown",
      "metadata": {
        "id": "dexlSrCotjZf"
      },
      "source": [
        "## Часть 1. Анализ текстов [40/100]\n",
        "\n",
        "1. Посчитайте количество отзывов в разных городах и на разные банки\n",
        "2. Постройте гистограмы длин слов в символах и в словах\n",
        "3. Найдите 10 самых частых:\n",
        "    * слов\n",
        "    * слов без стоп-слов\n",
        "    * лемм \n",
        "* существительных\n",
        "4. Постройте кривые Ципфа и Хипса\n",
        "5. Ответьте на следующие вопросы:\n",
        "    * какое слово встречается чаще, \"сотрудник\" или \"клиент\"?\n",
        "    * сколько раз встречается слова \"мошенничество\" и \"доверие\"?\n",
        "6. В поле \"rating_grade\" записана оценка отзыва по шкале от 1 до 5. Используйте меру $tf-idf$, для того, чтобы найти ключевые слова и биграмы для положительных отзывов (с оценкой 5) и отрицательных отзывов (с оценкой 1)"
      ]
    },
    {
      "cell_type": "code",
      "metadata": {
        "colab": {
          "base_uri": "https://localhost:8080/",
          "height": 589
        },
        "id": "iwYeO15ptjZh",
        "outputId": "55445c03-3c0e-4153-a9f4-3697c472b415"
      },
      "source": [
        "df = pd.DataFrame(responses)\n",
        "df"
      ],
      "execution_count": null,
      "outputs": [
        {
          "output_type": "execute_result",
          "data": {
            "text/html": [
              "<div>\n",
              "<style scoped>\n",
              "    .dataframe tbody tr th:only-of-type {\n",
              "        vertical-align: middle;\n",
              "    }\n",
              "\n",
              "    .dataframe tbody tr th {\n",
              "        vertical-align: top;\n",
              "    }\n",
              "\n",
              "    .dataframe thead th {\n",
              "        text-align: right;\n",
              "    }\n",
              "</style>\n",
              "<table border=\"1\" class=\"dataframe\">\n",
              "  <thead>\n",
              "    <tr style=\"text-align: right;\">\n",
              "      <th></th>\n",
              "      <th>city</th>\n",
              "      <th>rating_not_checked</th>\n",
              "      <th>title</th>\n",
              "      <th>num_comments</th>\n",
              "      <th>bank_license</th>\n",
              "      <th>author</th>\n",
              "      <th>bank_name</th>\n",
              "      <th>datetime</th>\n",
              "      <th>text</th>\n",
              "      <th>rating_grade</th>\n",
              "    </tr>\n",
              "  </thead>\n",
              "  <tbody>\n",
              "    <tr>\n",
              "      <th>0</th>\n",
              "      <td>г. Москва</td>\n",
              "      <td>False</td>\n",
              "      <td>Жалоба</td>\n",
              "      <td>0</td>\n",
              "      <td>лицензия № 2562</td>\n",
              "      <td>uhnov1</td>\n",
              "      <td>Бинбанк</td>\n",
              "      <td>2015-06-08 12:50:54</td>\n",
              "      <td>Добрый день! Я не являюсь клиентом банка и пор...</td>\n",
              "      <td>NaN</td>\n",
              "    </tr>\n",
              "    <tr>\n",
              "      <th>1</th>\n",
              "      <td>г. Новосибирск</td>\n",
              "      <td>False</td>\n",
              "      <td>Не могу пользоваться услугой Сбербанк он-лайн</td>\n",
              "      <td>0</td>\n",
              "      <td>лицензия № 1481</td>\n",
              "      <td>Foryou</td>\n",
              "      <td>Сбербанк России</td>\n",
              "      <td>2015-06-08 11:09:57</td>\n",
              "      <td>Доброго дня! Являюсь держателем зарплатной кар...</td>\n",
              "      <td>NaN</td>\n",
              "    </tr>\n",
              "    <tr>\n",
              "      <th>2</th>\n",
              "      <td>г. Москва</td>\n",
              "      <td>False</td>\n",
              "      <td>Двойное списание за один товар.</td>\n",
              "      <td>1</td>\n",
              "      <td>лицензия № 2562</td>\n",
              "      <td>Vladimir84</td>\n",
              "      <td>Бинбанк</td>\n",
              "      <td>2015-06-05 20:14:28</td>\n",
              "      <td>Здравствуйте!  Дублирую свое заявление от 03.0...</td>\n",
              "      <td>NaN</td>\n",
              "    </tr>\n",
              "    <tr>\n",
              "      <th>3</th>\n",
              "      <td>г. Ставрополь</td>\n",
              "      <td>False</td>\n",
              "      <td>Меняют проценты комиссии  не предупредив и не ...</td>\n",
              "      <td>2</td>\n",
              "      <td>лицензия № 1481</td>\n",
              "      <td>643609</td>\n",
              "      <td>Сбербанк России</td>\n",
              "      <td>2015-06-05 13:51:01</td>\n",
              "      <td>Добрый день!! Я открыл расчетный счет в СберБа...</td>\n",
              "      <td>NaN</td>\n",
              "    </tr>\n",
              "    <tr>\n",
              "      <th>4</th>\n",
              "      <td>г. Челябинск</td>\n",
              "      <td>False</td>\n",
              "      <td>Верните денежные средства за страховку</td>\n",
              "      <td>1</td>\n",
              "      <td>лицензия № 2766</td>\n",
              "      <td>anfisa-2003</td>\n",
              "      <td>ОТП Банк</td>\n",
              "      <td>2015-06-05 10:58:12</td>\n",
              "      <td>04.03.2015 г. взяла кредит в вашем банке, заяв...</td>\n",
              "      <td>NaN</td>\n",
              "    </tr>\n",
              "    <tr>\n",
              "      <th>...</th>\n",
              "      <td>...</td>\n",
              "      <td>...</td>\n",
              "      <td>...</td>\n",
              "      <td>...</td>\n",
              "      <td>...</td>\n",
              "      <td>...</td>\n",
              "      <td>...</td>\n",
              "      <td>...</td>\n",
              "      <td>...</td>\n",
              "      <td>...</td>\n",
              "    </tr>\n",
              "    <tr>\n",
              "      <th>153494</th>\n",
              "      <td>None</td>\n",
              "      <td>False</td>\n",
              "      <td>Не все так страшно</td>\n",
              "      <td>0</td>\n",
              "      <td>лицензия № 2557</td>\n",
              "      <td>Вера</td>\n",
              "      <td>Ситибанк</td>\n",
              "      <td>2005-05-18 14:38:00</td>\n",
              "      <td>Слишком большой банк, не всегда учитывает нашу...</td>\n",
              "      <td>5.0</td>\n",
              "    </tr>\n",
              "    <tr>\n",
              "      <th>153495</th>\n",
              "      <td>None</td>\n",
              "      <td>False</td>\n",
              "      <td>А вы договор читали?</td>\n",
              "      <td>0</td>\n",
              "      <td>лицензия № 2557</td>\n",
              "      <td>Kirill</td>\n",
              "      <td>Ситибанк</td>\n",
              "      <td>2005-04-14 15:25:00</td>\n",
              "      <td>Вы сами виноваты в своих проблемах, кроме пред...</td>\n",
              "      <td>3.0</td>\n",
              "    </tr>\n",
              "    <tr>\n",
              "      <th>153496</th>\n",
              "      <td>None</td>\n",
              "      <td>False</td>\n",
              "      <td>Филиал банка \"ОВК\" в г. Иваново</td>\n",
              "      <td>1</td>\n",
              "      <td>лицензия № 2272</td>\n",
              "      <td>AlexU-post</td>\n",
              "      <td>Росбанк</td>\n",
              "      <td>2005-04-08 14:07:00</td>\n",
              "      <td>Уважаемое руководство банка «ОВК»! Я проживаю ...</td>\n",
              "      <td>1.0</td>\n",
              "    </tr>\n",
              "    <tr>\n",
              "      <th>153497</th>\n",
              "      <td>None</td>\n",
              "      <td>False</td>\n",
              "      <td>В Альфа-Банк больше обращаться не буду.</td>\n",
              "      <td>0</td>\n",
              "      <td>лицензия № 1326</td>\n",
              "      <td>Ирина</td>\n",
              "      <td>Альфа-Банк</td>\n",
              "      <td>2005-04-14 15:16:00</td>\n",
              "      <td>Пробовала 10.04.05 оформить товар в кредит в А...</td>\n",
              "      <td>1.0</td>\n",
              "    </tr>\n",
              "    <tr>\n",
              "      <th>153498</th>\n",
              "      <td>None</td>\n",
              "      <td>False</td>\n",
              "      <td>Быстро и удобно</td>\n",
              "      <td>0</td>\n",
              "      <td>лицензия № 1326</td>\n",
              "      <td>Денис</td>\n",
              "      <td>Альфа-Банк</td>\n",
              "      <td>2005-04-13 17:43:00</td>\n",
              "      <td>Если коротко, то мне нравится. Кридит получать...</td>\n",
              "      <td>5.0</td>\n",
              "    </tr>\n",
              "  </tbody>\n",
              "</table>\n",
              "<p>153499 rows × 10 columns</p>\n",
              "</div>"
            ],
            "text/plain": [
              "                  city  ...  rating_grade\n",
              "0            г. Москва  ...           NaN\n",
              "1       г. Новосибирск  ...           NaN\n",
              "2            г. Москва  ...           NaN\n",
              "3        г. Ставрополь  ...           NaN\n",
              "4         г. Челябинск  ...           NaN\n",
              "...                ...  ...           ...\n",
              "153494            None  ...           5.0\n",
              "153495            None  ...           3.0\n",
              "153496            None  ...           1.0\n",
              "153497            None  ...           1.0\n",
              "153498            None  ...           5.0\n",
              "\n",
              "[153499 rows x 10 columns]"
            ]
          },
          "metadata": {
            "tags": []
          },
          "execution_count": 6
        }
      ]
    },
    {
      "cell_type": "markdown",
      "metadata": {
        "id": "rNEhSeOatjZi"
      },
      "source": [
        "Подготовим данные"
      ]
    },
    {
      "cell_type": "code",
      "metadata": {
        "colab": {
          "base_uri": "https://localhost:8080/",
          "height": 589
        },
        "id": "-H8xRHditjZj",
        "outputId": "6e9afb87-66fe-4bc4-c518-f5b059e3cd5b"
      },
      "source": [
        "df['rating_grade'].dropna(inplace=True)\n",
        "df['city'].fillna('Другой', inplace=True)\n",
        "df"
      ],
      "execution_count": null,
      "outputs": [
        {
          "output_type": "execute_result",
          "data": {
            "text/html": [
              "<div>\n",
              "<style scoped>\n",
              "    .dataframe tbody tr th:only-of-type {\n",
              "        vertical-align: middle;\n",
              "    }\n",
              "\n",
              "    .dataframe tbody tr th {\n",
              "        vertical-align: top;\n",
              "    }\n",
              "\n",
              "    .dataframe thead th {\n",
              "        text-align: right;\n",
              "    }\n",
              "</style>\n",
              "<table border=\"1\" class=\"dataframe\">\n",
              "  <thead>\n",
              "    <tr style=\"text-align: right;\">\n",
              "      <th></th>\n",
              "      <th>city</th>\n",
              "      <th>rating_not_checked</th>\n",
              "      <th>title</th>\n",
              "      <th>num_comments</th>\n",
              "      <th>bank_license</th>\n",
              "      <th>author</th>\n",
              "      <th>bank_name</th>\n",
              "      <th>datetime</th>\n",
              "      <th>text</th>\n",
              "      <th>rating_grade</th>\n",
              "    </tr>\n",
              "  </thead>\n",
              "  <tbody>\n",
              "    <tr>\n",
              "      <th>0</th>\n",
              "      <td>г. Москва</td>\n",
              "      <td>False</td>\n",
              "      <td>Жалоба</td>\n",
              "      <td>0</td>\n",
              "      <td>лицензия № 2562</td>\n",
              "      <td>uhnov1</td>\n",
              "      <td>Бинбанк</td>\n",
              "      <td>2015-06-08 12:50:54</td>\n",
              "      <td>Добрый день! Я не являюсь клиентом банка и пор...</td>\n",
              "      <td>NaN</td>\n",
              "    </tr>\n",
              "    <tr>\n",
              "      <th>1</th>\n",
              "      <td>г. Новосибирск</td>\n",
              "      <td>False</td>\n",
              "      <td>Не могу пользоваться услугой Сбербанк он-лайн</td>\n",
              "      <td>0</td>\n",
              "      <td>лицензия № 1481</td>\n",
              "      <td>Foryou</td>\n",
              "      <td>Сбербанк России</td>\n",
              "      <td>2015-06-08 11:09:57</td>\n",
              "      <td>Доброго дня! Являюсь держателем зарплатной кар...</td>\n",
              "      <td>NaN</td>\n",
              "    </tr>\n",
              "    <tr>\n",
              "      <th>2</th>\n",
              "      <td>г. Москва</td>\n",
              "      <td>False</td>\n",
              "      <td>Двойное списание за один товар.</td>\n",
              "      <td>1</td>\n",
              "      <td>лицензия № 2562</td>\n",
              "      <td>Vladimir84</td>\n",
              "      <td>Бинбанк</td>\n",
              "      <td>2015-06-05 20:14:28</td>\n",
              "      <td>Здравствуйте!  Дублирую свое заявление от 03.0...</td>\n",
              "      <td>NaN</td>\n",
              "    </tr>\n",
              "    <tr>\n",
              "      <th>3</th>\n",
              "      <td>г. Ставрополь</td>\n",
              "      <td>False</td>\n",
              "      <td>Меняют проценты комиссии  не предупредив и не ...</td>\n",
              "      <td>2</td>\n",
              "      <td>лицензия № 1481</td>\n",
              "      <td>643609</td>\n",
              "      <td>Сбербанк России</td>\n",
              "      <td>2015-06-05 13:51:01</td>\n",
              "      <td>Добрый день!! Я открыл расчетный счет в СберБа...</td>\n",
              "      <td>NaN</td>\n",
              "    </tr>\n",
              "    <tr>\n",
              "      <th>4</th>\n",
              "      <td>г. Челябинск</td>\n",
              "      <td>False</td>\n",
              "      <td>Верните денежные средства за страховку</td>\n",
              "      <td>1</td>\n",
              "      <td>лицензия № 2766</td>\n",
              "      <td>anfisa-2003</td>\n",
              "      <td>ОТП Банк</td>\n",
              "      <td>2015-06-05 10:58:12</td>\n",
              "      <td>04.03.2015 г. взяла кредит в вашем банке, заяв...</td>\n",
              "      <td>NaN</td>\n",
              "    </tr>\n",
              "    <tr>\n",
              "      <th>...</th>\n",
              "      <td>...</td>\n",
              "      <td>...</td>\n",
              "      <td>...</td>\n",
              "      <td>...</td>\n",
              "      <td>...</td>\n",
              "      <td>...</td>\n",
              "      <td>...</td>\n",
              "      <td>...</td>\n",
              "      <td>...</td>\n",
              "      <td>...</td>\n",
              "    </tr>\n",
              "    <tr>\n",
              "      <th>153494</th>\n",
              "      <td>Другой</td>\n",
              "      <td>False</td>\n",
              "      <td>Не все так страшно</td>\n",
              "      <td>0</td>\n",
              "      <td>лицензия № 2557</td>\n",
              "      <td>Вера</td>\n",
              "      <td>Ситибанк</td>\n",
              "      <td>2005-05-18 14:38:00</td>\n",
              "      <td>Слишком большой банк, не всегда учитывает нашу...</td>\n",
              "      <td>5.0</td>\n",
              "    </tr>\n",
              "    <tr>\n",
              "      <th>153495</th>\n",
              "      <td>Другой</td>\n",
              "      <td>False</td>\n",
              "      <td>А вы договор читали?</td>\n",
              "      <td>0</td>\n",
              "      <td>лицензия № 2557</td>\n",
              "      <td>Kirill</td>\n",
              "      <td>Ситибанк</td>\n",
              "      <td>2005-04-14 15:25:00</td>\n",
              "      <td>Вы сами виноваты в своих проблемах, кроме пред...</td>\n",
              "      <td>3.0</td>\n",
              "    </tr>\n",
              "    <tr>\n",
              "      <th>153496</th>\n",
              "      <td>Другой</td>\n",
              "      <td>False</td>\n",
              "      <td>Филиал банка \"ОВК\" в г. Иваново</td>\n",
              "      <td>1</td>\n",
              "      <td>лицензия № 2272</td>\n",
              "      <td>AlexU-post</td>\n",
              "      <td>Росбанк</td>\n",
              "      <td>2005-04-08 14:07:00</td>\n",
              "      <td>Уважаемое руководство банка «ОВК»! Я проживаю ...</td>\n",
              "      <td>1.0</td>\n",
              "    </tr>\n",
              "    <tr>\n",
              "      <th>153497</th>\n",
              "      <td>Другой</td>\n",
              "      <td>False</td>\n",
              "      <td>В Альфа-Банк больше обращаться не буду.</td>\n",
              "      <td>0</td>\n",
              "      <td>лицензия № 1326</td>\n",
              "      <td>Ирина</td>\n",
              "      <td>Альфа-Банк</td>\n",
              "      <td>2005-04-14 15:16:00</td>\n",
              "      <td>Пробовала 10.04.05 оформить товар в кредит в А...</td>\n",
              "      <td>1.0</td>\n",
              "    </tr>\n",
              "    <tr>\n",
              "      <th>153498</th>\n",
              "      <td>Другой</td>\n",
              "      <td>False</td>\n",
              "      <td>Быстро и удобно</td>\n",
              "      <td>0</td>\n",
              "      <td>лицензия № 1326</td>\n",
              "      <td>Денис</td>\n",
              "      <td>Альфа-Банк</td>\n",
              "      <td>2005-04-13 17:43:00</td>\n",
              "      <td>Если коротко, то мне нравится. Кридит получать...</td>\n",
              "      <td>5.0</td>\n",
              "    </tr>\n",
              "  </tbody>\n",
              "</table>\n",
              "<p>153499 rows × 10 columns</p>\n",
              "</div>"
            ],
            "text/plain": [
              "                  city  ...  rating_grade\n",
              "0            г. Москва  ...           NaN\n",
              "1       г. Новосибирск  ...           NaN\n",
              "2            г. Москва  ...           NaN\n",
              "3        г. Ставрополь  ...           NaN\n",
              "4         г. Челябинск  ...           NaN\n",
              "...                ...  ...           ...\n",
              "153494          Другой  ...           5.0\n",
              "153495          Другой  ...           3.0\n",
              "153496          Другой  ...           1.0\n",
              "153497          Другой  ...           1.0\n",
              "153498          Другой  ...           5.0\n",
              "\n",
              "[153499 rows x 10 columns]"
            ]
          },
          "metadata": {
            "tags": []
          },
          "execution_count": 7
        }
      ]
    },
    {
      "cell_type": "code",
      "metadata": {
        "colab": {
          "base_uri": "https://localhost:8080/"
        },
        "id": "4SmoBeN2Qg1S",
        "outputId": "f474d931-8fa4-4924-cb8e-08eb30ceb36b"
      },
      "source": [
        "# clear memory\n",
        "del responses\n",
        "\n",
        "show_memory_usage()"
      ],
      "execution_count": null,
      "outputs": [
        {
          "output_type": "stream",
          "text": [
            "                            df: 560.1 MiB\n"
          ],
          "name": "stdout"
        }
      ]
    },
    {
      "cell_type": "markdown",
      "metadata": {
        "id": "nIIEY7w_tjZk"
      },
      "source": [
        "1. Посчитайте количество отзывов в разных городах и на разные банки"
      ]
    },
    {
      "cell_type": "code",
      "metadata": {
        "colab": {
          "base_uri": "https://localhost:8080/",
          "height": 419
        },
        "id": "-yT4mmGKtjZk",
        "outputId": "e3e4e4c0-d023-48a0-d300-ceacf05fb1d7"
      },
      "source": [
        "from collections import Counter\n",
        "\n",
        "cities = df['city'].tolist()     # тут, конечно, можно было использовать встроенные\n",
        "banks = df['bank_name'].tolist() # средства pandas место Counter для подсчета кол-ва\n",
        "\n",
        "cities_freq = Counter(cities)\n",
        "banks_freq = Counter(banks)\n",
        "\n",
        "frame = pd.DataFrame(cities_freq.most_common(), columns=['Город', 'Кол-во'])\n",
        "frame"
      ],
      "execution_count": null,
      "outputs": [
        {
          "output_type": "execute_result",
          "data": {
            "text/html": [
              "<div>\n",
              "<style scoped>\n",
              "    .dataframe tbody tr th:only-of-type {\n",
              "        vertical-align: middle;\n",
              "    }\n",
              "\n",
              "    .dataframe tbody tr th {\n",
              "        vertical-align: top;\n",
              "    }\n",
              "\n",
              "    .dataframe thead th {\n",
              "        text-align: right;\n",
              "    }\n",
              "</style>\n",
              "<table border=\"1\" class=\"dataframe\">\n",
              "  <thead>\n",
              "    <tr style=\"text-align: right;\">\n",
              "      <th></th>\n",
              "      <th>Город</th>\n",
              "      <th>Кол-во</th>\n",
              "    </tr>\n",
              "  </thead>\n",
              "  <tbody>\n",
              "    <tr>\n",
              "      <th>0</th>\n",
              "      <td>г. Москва</td>\n",
              "      <td>55354</td>\n",
              "    </tr>\n",
              "    <tr>\n",
              "      <th>1</th>\n",
              "      <td>Другой</td>\n",
              "      <td>15174</td>\n",
              "    </tr>\n",
              "    <tr>\n",
              "      <th>2</th>\n",
              "      <td>г. Санкт-Петербург</td>\n",
              "      <td>14342</td>\n",
              "    </tr>\n",
              "    <tr>\n",
              "      <th>3</th>\n",
              "      <td>г. Екатеринбург</td>\n",
              "      <td>2337</td>\n",
              "    </tr>\n",
              "    <tr>\n",
              "      <th>4</th>\n",
              "      <td>г. Новосибирск</td>\n",
              "      <td>2300</td>\n",
              "    </tr>\n",
              "    <tr>\n",
              "      <th>...</th>\n",
              "      <td>...</td>\n",
              "      <td>...</td>\n",
              "    </tr>\n",
              "    <tr>\n",
              "      <th>5819</th>\n",
              "      <td>г. Москва, павелецкое отделение</td>\n",
              "      <td>1</td>\n",
              "    </tr>\n",
              "    <tr>\n",
              "      <th>5820</th>\n",
              "      <td>г. вся РФ</td>\n",
              "      <td>1</td>\n",
              "    </tr>\n",
              "    <tr>\n",
              "      <th>5821</th>\n",
              "      <td>г. Москва-Владимир</td>\n",
              "      <td>1</td>\n",
              "    </tr>\n",
              "    <tr>\n",
              "      <th>5822</th>\n",
              "      <td>г. СПб.</td>\n",
              "      <td>1</td>\n",
              "    </tr>\n",
              "    <tr>\n",
              "      <th>5823</th>\n",
              "      <td>г. Краснодарский край, ст.Павловская</td>\n",
              "      <td>1</td>\n",
              "    </tr>\n",
              "  </tbody>\n",
              "</table>\n",
              "<p>5824 rows × 2 columns</p>\n",
              "</div>"
            ],
            "text/plain": [
              "                                     Город  Кол-во\n",
              "0                                г. Москва   55354\n",
              "1                                   Другой   15174\n",
              "2                       г. Санкт-Петербург   14342\n",
              "3                          г. Екатеринбург    2337\n",
              "4                           г. Новосибирск    2300\n",
              "...                                    ...     ...\n",
              "5819       г. Москва, павелецкое отделение       1\n",
              "5820                             г. вся РФ       1\n",
              "5821                    г. Москва-Владимир       1\n",
              "5822                               г. СПб.       1\n",
              "5823  г. Краснодарский край, ст.Павловская       1\n",
              "\n",
              "[5824 rows x 2 columns]"
            ]
          },
          "metadata": {
            "tags": []
          },
          "execution_count": 10
        }
      ]
    },
    {
      "cell_type": "code",
      "metadata": {
        "colab": {
          "base_uri": "https://localhost:8080/",
          "height": 419
        },
        "id": "r-l1CllGPY0K",
        "outputId": "9211f325-2988-4fe8-d6f2-d5db89715987"
      },
      "source": [
        "frame = pd.DataFrame(banks_freq.most_common(), columns=['Банк', 'Кол-во'])\n",
        "frame"
      ],
      "execution_count": null,
      "outputs": [
        {
          "output_type": "execute_result",
          "data": {
            "text/html": [
              "<div>\n",
              "<style scoped>\n",
              "    .dataframe tbody tr th:only-of-type {\n",
              "        vertical-align: middle;\n",
              "    }\n",
              "\n",
              "    .dataframe tbody tr th {\n",
              "        vertical-align: top;\n",
              "    }\n",
              "\n",
              "    .dataframe thead th {\n",
              "        text-align: right;\n",
              "    }\n",
              "</style>\n",
              "<table border=\"1\" class=\"dataframe\">\n",
              "  <thead>\n",
              "    <tr style=\"text-align: right;\">\n",
              "      <th></th>\n",
              "      <th>Банк</th>\n",
              "      <th>Кол-во</th>\n",
              "    </tr>\n",
              "  </thead>\n",
              "  <tbody>\n",
              "    <tr>\n",
              "      <th>0</th>\n",
              "      <td>Сбербанк России</td>\n",
              "      <td>26327</td>\n",
              "    </tr>\n",
              "    <tr>\n",
              "      <th>1</th>\n",
              "      <td>Альфа-Банк</td>\n",
              "      <td>10224</td>\n",
              "    </tr>\n",
              "    <tr>\n",
              "      <th>2</th>\n",
              "      <td>ВТБ 24</td>\n",
              "      <td>8185</td>\n",
              "    </tr>\n",
              "    <tr>\n",
              "      <th>3</th>\n",
              "      <td>Русский Стандарт</td>\n",
              "      <td>7943</td>\n",
              "    </tr>\n",
              "    <tr>\n",
              "      <th>4</th>\n",
              "      <td>Хоум Кредит Банк</td>\n",
              "      <td>7549</td>\n",
              "    </tr>\n",
              "    <tr>\n",
              "      <th>...</th>\n",
              "      <td>...</td>\n",
              "      <td>...</td>\n",
              "    </tr>\n",
              "    <tr>\n",
              "      <th>665</th>\n",
              "      <td>Петровка</td>\n",
              "      <td>1</td>\n",
              "    </tr>\n",
              "    <tr>\n",
              "      <th>666</th>\n",
              "      <td>Алмазэргиэнбанк</td>\n",
              "      <td>1</td>\n",
              "    </tr>\n",
              "    <tr>\n",
              "      <th>667</th>\n",
              "      <td>Юникбанк</td>\n",
              "      <td>1</td>\n",
              "    </tr>\n",
              "    <tr>\n",
              "      <th>668</th>\n",
              "      <td>Витязь</td>\n",
              "      <td>1</td>\n",
              "    </tr>\n",
              "    <tr>\n",
              "      <th>669</th>\n",
              "      <td>Независимый Банк Развития</td>\n",
              "      <td>1</td>\n",
              "    </tr>\n",
              "  </tbody>\n",
              "</table>\n",
              "<p>670 rows × 2 columns</p>\n",
              "</div>"
            ],
            "text/plain": [
              "                          Банк  Кол-во\n",
              "0              Сбербанк России   26327\n",
              "1                   Альфа-Банк   10224\n",
              "2                       ВТБ 24    8185\n",
              "3             Русский Стандарт    7943\n",
              "4             Хоум Кредит Банк    7549\n",
              "..                         ...     ...\n",
              "665                   Петровка       1\n",
              "666            Алмазэргиэнбанк       1\n",
              "667                   Юникбанк       1\n",
              "668                     Витязь       1\n",
              "669  Независимый Банк Развития       1\n",
              "\n",
              "[670 rows x 2 columns]"
            ]
          },
          "metadata": {
            "tags": []
          },
          "execution_count": 11
        }
      ]
    },
    {
      "cell_type": "code",
      "metadata": {
        "colab": {
          "base_uri": "https://localhost:8080/"
        },
        "id": "TW-5tac9PmQl",
        "outputId": "c8c7a2c5-15b2-4d27-84f4-cf2b4cccbd16"
      },
      "source": [
        "# clear memory\n",
        "del cities\n",
        "del banks\n",
        "del cities_freq\n",
        "del banks_freq\n",
        "del frame\n",
        "\n",
        "show_memory_usage()"
      ],
      "execution_count": null,
      "outputs": [
        {
          "output_type": "stream",
          "text": [
            "                            df: 560.1 MiB\n"
          ],
          "name": "stdout"
        }
      ]
    },
    {
      "cell_type": "markdown",
      "metadata": {
        "id": "RxVV3hw7tjZl"
      },
      "source": [
        "2. Постройте гистограмы длин слов в символах и в словах"
      ]
    },
    {
      "cell_type": "markdown",
      "metadata": {
        "id": "yZRds6hA2b9M"
      },
      "source": [
        "Воспользуемся regexp токенайзером, чтобы сразу выкинуть пунктуацию."
      ]
    },
    {
      "cell_type": "code",
      "metadata": {
        "id": "Yt_xfFnQtjZl"
      },
      "source": [
        "from nltk.tokenize import toktok, word_tokenize, RegexpTokenizer\n",
        "\n",
        "def lower_words_only_tokenizer(text, tokenizer, tokens, tokens_full):\n",
        "    tks = [token for token in tokenizer(text.lower())]\n",
        "    tokens.append(tks)\n",
        "    tokens_full += tks\n",
        "    return \" \".join(tks)\n",
        "\n",
        "def drop_stop_words(text, stopwords, tokens, tokens_full):\n",
        "    tks = [word for word in text.split() if word not in stopwords]\n",
        "    tokens.append(tks)\n",
        "    tokens_full += tks\n",
        "    return \" \".join(tks)"
      ],
      "execution_count": null,
      "outputs": []
    },
    {
      "cell_type": "code",
      "metadata": {
        "colab": {
          "base_uri": "https://localhost:8080/"
        },
        "id": "1Ic2IyxVj9fG",
        "outputId": "1fae6ee2-37db-452d-eae6-822e77fabb5c"
      },
      "source": [
        "nltk.download('punkt')\n",
        "\n",
        "#tokenizer = toktok.ToktokTokenizer().tokenize\n",
        "#tokenizer = word_tokenize\n",
        "tokenizer = RegexpTokenizer(r'\\w+').tokenize\n",
        "tokens = []\n",
        "corpus = []\n",
        "df['text_mdf'] = df['text'].apply(lower_words_only_tokenizer, tokenizer=tokenizer, tokens=tokens, tokens_full=corpus)\n",
        "\n",
        "len(corpus), len(tokens)"
      ],
      "execution_count": null,
      "outputs": [
        {
          "output_type": "stream",
          "text": [
            "[nltk_data] Downloading package punkt to /root/nltk_data...\n",
            "[nltk_data]   Unzipping tokenizers/punkt.zip.\n"
          ],
          "name": "stdout"
        },
        {
          "output_type": "execute_result",
          "data": {
            "text/plain": [
              "(37002810, 153499)"
            ]
          },
          "metadata": {
            "tags": []
          },
          "execution_count": 14
        }
      ]
    },
    {
      "cell_type": "code",
      "metadata": {
        "colab": {
          "base_uri": "https://localhost:8080/",
          "height": 295
        },
        "id": "cbKCi5ojtjZo",
        "outputId": "81ee2ff1-7fc8-4af6-8dc7-f8555037c52e"
      },
      "source": [
        "lens = list(map(len, corpus))\n",
        "lens_freq = Counter(lens)\n",
        "mc = np.array(lens_freq.most_common())\n",
        "\n",
        "plt.bar(mc[:,0], height=np.log(mc[:,1]), width=1)\n",
        "plt.title(\"Экспоненциальная гистограмма длины слов\")\n",
        "plt.xlabel(\"Длина слова\")\n",
        "plt.show()"
      ],
      "execution_count": null,
      "outputs": [
        {
          "output_type": "display_data",
          "data": {
            "image/png": "[encoded data removed]",
            "text/plain": [
              "<Figure size 432x288 with 1 Axes>"
            ]
          },
          "metadata": {
            "tags": []
          }
        }
      ]
    },
    {
      "cell_type": "markdown",
      "metadata": {
        "id": "CCy7JHl92sSW"
      },
      "source": [
        "Какие-то странные слова получились с большой длиной. Посмотрим на них."
      ]
    },
    {
      "cell_type": "code",
      "metadata": {
        "colab": {
          "base_uri": "https://localhost:8080/"
        },
        "id": "_rXJ6z3G06GR",
        "outputId": "25f2476d-efda-471e-901b-7f95afedc5af"
      },
      "source": [
        "words = []\n",
        "for i in range(len(lens)):\n",
        "    if lens[i] > 30:\n",
        "        words.append(corpus[i])\n",
        "    if len(words) == 10:\n",
        "        break\n",
        "\n",
        "for word in words:\n",
        "    print(word)"
      ],
      "execution_count": null,
      "outputs": [
        {
          "output_type": "stream",
          "text": [
            "po_initsiative_nagatinskoy_mezhrayonnoy_prokuratury_vozbuzhdeno_ugolovnoe_delo_o_moshennichestve_pri\n",
            "ab2932e4423f0f3f740a4d6747fb7fb7\n",
            "57af51f34d67a37027635ae36d516dbe\n",
            "terms_of_integrated_banking_services\n",
            "terms_of_integrated_banking_services\n",
            "spravochnik_sms_uvedomlenij_22_10_14\n",
            "b603c14a53b16359d0d1c6c85a16affd55a7dfae4bd3f2e8ccbc8dab193d6c4b08c9416996685386v6nen\n",
            "b603c14a53b16359d0d1c6c85a16affd52a0dda84fd9afe2c4e581a91e32335c0f804d68966853v8n7n\n",
            "b603c14a53b16359d0d1c6c85a16affd55a7dfae4bd3f2e8ccbc8dab193d6c4b08c9416996685387v6nfn\n",
            "b603c14a53b16359d0d1cec64e7efaae59a1dbaa46daf0b5c6b4d4a71b3a63141fce0865976856876fvcnfnи\n"
          ],
          "name": "stdout"
        }
      ]
    },
    {
      "cell_type": "markdown",
      "metadata": {
        "id": "hpifQP-F227T"
      },
      "source": [
        "Похожи на какие-то детали транзакций. Не совсем ясно оставлять их или нет: с одной стороны - это не слова, с другой - есть повторения, а значит они могут быть использованы при построении тем. Оставим."
      ]
    },
    {
      "cell_type": "code",
      "metadata": {
        "colab": {
          "base_uri": "https://localhost:8080/"
        },
        "id": "Rm2rRvaXQGVH",
        "outputId": "3cc3bd4e-2855-4804-f392-325ff03eb2e8"
      },
      "source": [
        "# clear memory\n",
        "del lens\n",
        "del lens_freq\n",
        "del mc\n",
        "\n",
        "show_memory_usage()"
      ],
      "execution_count": null,
      "outputs": [
        {
          "output_type": "stream",
          "text": [
            "                            df: 1009.5 MiB\n",
            "                        corpus: 306.9 MiB\n",
            "                        tokens:  1.3 MiB\n"
          ],
          "name": "stdout"
        }
      ]
    },
    {
      "cell_type": "markdown",
      "metadata": {
        "id": "axvc7yGlyJAP"
      },
      "source": [
        "3. Найдите 10 самых частых:  \n",
        "а) слов"
      ]
    },
    {
      "cell_type": "code",
      "metadata": {
        "colab": {
          "base_uri": "https://localhost:8080/",
          "height": 419
        },
        "id": "fpjqYKw7tjZq",
        "outputId": "d9bbae7b-d5a0-4a20-98fb-18e0a61904a0"
      },
      "source": [
        "words_freq = Counter(corpus)\n",
        "frame = pd.DataFrame(words_freq.most_common(), columns=['Слово', 'Кол-во'])\n",
        "frame"
      ],
      "execution_count": null,
      "outputs": [
        {
          "output_type": "execute_result",
          "data": {
            "text/html": [
              "<div>\n",
              "<style scoped>\n",
              "    .dataframe tbody tr th:only-of-type {\n",
              "        vertical-align: middle;\n",
              "    }\n",
              "\n",
              "    .dataframe tbody tr th {\n",
              "        vertical-align: top;\n",
              "    }\n",
              "\n",
              "    .dataframe thead th {\n",
              "        text-align: right;\n",
              "    }\n",
              "</style>\n",
              "<table border=\"1\" class=\"dataframe\">\n",
              "  <thead>\n",
              "    <tr style=\"text-align: right;\">\n",
              "      <th></th>\n",
              "      <th>Слово</th>\n",
              "      <th>Кол-во</th>\n",
              "    </tr>\n",
              "  </thead>\n",
              "  <tbody>\n",
              "    <tr>\n",
              "      <th>0</th>\n",
              "      <td>в</td>\n",
              "      <td>1330103</td>\n",
              "    </tr>\n",
              "    <tr>\n",
              "      <th>1</th>\n",
              "      <td>и</td>\n",
              "      <td>1058934</td>\n",
              "    </tr>\n",
              "    <tr>\n",
              "      <th>2</th>\n",
              "      <td>не</td>\n",
              "      <td>852416</td>\n",
              "    </tr>\n",
              "    <tr>\n",
              "      <th>3</th>\n",
              "      <td>на</td>\n",
              "      <td>707784</td>\n",
              "    </tr>\n",
              "    <tr>\n",
              "      <th>4</th>\n",
              "      <td>что</td>\n",
              "      <td>640053</td>\n",
              "    </tr>\n",
              "    <tr>\n",
              "      <th>...</th>\n",
              "      <td>...</td>\n",
              "      <td>...</td>\n",
              "    </tr>\n",
              "    <tr>\n",
              "      <th>347043</th>\n",
              "      <td>терпиливое</td>\n",
              "      <td>1</td>\n",
              "    </tr>\n",
              "    <tr>\n",
              "      <th>347044</th>\n",
              "      <td>усачевой</td>\n",
              "      <td>1</td>\n",
              "    </tr>\n",
              "    <tr>\n",
              "      <th>347045</th>\n",
              "      <td>коммисий</td>\n",
              "      <td>1</td>\n",
              "    </tr>\n",
              "    <tr>\n",
              "      <th>347046</th>\n",
              "      <td>проясняются</td>\n",
              "      <td>1</td>\n",
              "    </tr>\n",
              "    <tr>\n",
              "      <th>347047</th>\n",
              "      <td>0аа8ст00к0</td>\n",
              "      <td>1</td>\n",
              "    </tr>\n",
              "  </tbody>\n",
              "</table>\n",
              "<p>347048 rows × 2 columns</p>\n",
              "</div>"
            ],
            "text/plain": [
              "              Слово   Кол-во\n",
              "0                 в  1330103\n",
              "1                 и  1058934\n",
              "2                не   852416\n",
              "3                на   707784\n",
              "4               что   640053\n",
              "...             ...      ...\n",
              "347043   терпиливое        1\n",
              "347044     усачевой        1\n",
              "347045     коммисий        1\n",
              "347046  проясняются        1\n",
              "347047   0аа8ст00к0        1\n",
              "\n",
              "[347048 rows x 2 columns]"
            ]
          },
          "metadata": {
            "tags": []
          },
          "execution_count": 27
        }
      ]
    },
    {
      "cell_type": "markdown",
      "metadata": {
        "id": "k4lQlbu8zFAq"
      },
      "source": [
        "б) слов без стоп-слов"
      ]
    },
    {
      "cell_type": "code",
      "metadata": {
        "colab": {
          "base_uri": "https://localhost:8080/"
        },
        "id": "4EqzWYvQtjZq",
        "outputId": "ceae77eb-0d00-4408-f9c0-c533fdb61f0c"
      },
      "source": [
        "from nltk.corpus import stopwords\n",
        "\n",
        "nltk.download('stopwords')\n",
        "russian_stopwords = stopwords.words('russian') + ['это', 'наш' , 'тыс', 'млн', 'млрд', 'также',  'т', 'д']\n",
        "tokens_wo_stops = []\n",
        "corpus_wo_stops = []\n",
        "df['text_mdf'] = df['text_mdf'].apply(drop_stop_words, stopwords=russian_stopwords, tokens=tokens_wo_stops, tokens_full=corpus_wo_stops)\n",
        "\n",
        "len(corpus_wo_stops), len(tokens_wo_stops)"
      ],
      "execution_count": null,
      "outputs": [
        {
          "output_type": "stream",
          "text": [
            "[nltk_data] Downloading package stopwords to /root/nltk_data...\n",
            "[nltk_data]   Unzipping corpora/stopwords.zip.\n"
          ],
          "name": "stdout"
        },
        {
          "output_type": "execute_result",
          "data": {
            "text/plain": [
              "(23616136, 153499)"
            ]
          },
          "metadata": {
            "tags": []
          },
          "execution_count": 28
        }
      ]
    },
    {
      "cell_type": "code",
      "metadata": {
        "colab": {
          "base_uri": "https://localhost:8080/",
          "height": 419
        },
        "id": "afNGKhsftjZq",
        "outputId": "791d408a-473b-4e5d-bf01-fa37b727b46f"
      },
      "source": [
        "words_freq_wo_stops = Counter(corpus_wo_stops)\n",
        "frame = pd.DataFrame(words_freq_wo_stops.most_common(), columns=['Слово', 'Кол-во'])\n",
        "frame"
      ],
      "execution_count": null,
      "outputs": [
        {
          "output_type": "execute_result",
          "data": {
            "text/html": [
              "<div>\n",
              "<style scoped>\n",
              "    .dataframe tbody tr th:only-of-type {\n",
              "        vertical-align: middle;\n",
              "    }\n",
              "\n",
              "    .dataframe tbody tr th {\n",
              "        vertical-align: top;\n",
              "    }\n",
              "\n",
              "    .dataframe thead th {\n",
              "        text-align: right;\n",
              "    }\n",
              "</style>\n",
              "<table border=\"1\" class=\"dataframe\">\n",
              "  <thead>\n",
              "    <tr style=\"text-align: right;\">\n",
              "      <th></th>\n",
              "      <th>Слово</th>\n",
              "      <th>Кол-во</th>\n",
              "    </tr>\n",
              "  </thead>\n",
              "  <tbody>\n",
              "    <tr>\n",
              "      <th>0</th>\n",
              "      <td>банка</td>\n",
              "      <td>275765</td>\n",
              "    </tr>\n",
              "    <tr>\n",
              "      <th>1</th>\n",
              "      <td>банк</td>\n",
              "      <td>215209</td>\n",
              "    </tr>\n",
              "    <tr>\n",
              "      <th>2</th>\n",
              "      <td>деньги</td>\n",
              "      <td>131197</td>\n",
              "    </tr>\n",
              "    <tr>\n",
              "      <th>3</th>\n",
              "      <td>карту</td>\n",
              "      <td>105824</td>\n",
              "    </tr>\n",
              "    <tr>\n",
              "      <th>4</th>\n",
              "      <td>карты</td>\n",
              "      <td>101814</td>\n",
              "    </tr>\n",
              "    <tr>\n",
              "      <th>...</th>\n",
              "      <td>...</td>\n",
              "      <td>...</td>\n",
              "    </tr>\n",
              "    <tr>\n",
              "      <th>346884</th>\n",
              "      <td>терпиливое</td>\n",
              "      <td>1</td>\n",
              "    </tr>\n",
              "    <tr>\n",
              "      <th>346885</th>\n",
              "      <td>усачевой</td>\n",
              "      <td>1</td>\n",
              "    </tr>\n",
              "    <tr>\n",
              "      <th>346886</th>\n",
              "      <td>коммисий</td>\n",
              "      <td>1</td>\n",
              "    </tr>\n",
              "    <tr>\n",
              "      <th>346887</th>\n",
              "      <td>проясняются</td>\n",
              "      <td>1</td>\n",
              "    </tr>\n",
              "    <tr>\n",
              "      <th>346888</th>\n",
              "      <td>0аа8ст00к0</td>\n",
              "      <td>1</td>\n",
              "    </tr>\n",
              "  </tbody>\n",
              "</table>\n",
              "<p>346889 rows × 2 columns</p>\n",
              "</div>"
            ],
            "text/plain": [
              "              Слово  Кол-во\n",
              "0             банка  275765\n",
              "1              банк  215209\n",
              "2            деньги  131197\n",
              "3             карту  105824\n",
              "4             карты  101814\n",
              "...             ...     ...\n",
              "346884   терпиливое       1\n",
              "346885     усачевой       1\n",
              "346886     коммисий       1\n",
              "346887  проясняются       1\n",
              "346888   0аа8ст00к0       1\n",
              "\n",
              "[346889 rows x 2 columns]"
            ]
          },
          "metadata": {
            "tags": []
          },
          "execution_count": 29
        }
      ]
    },
    {
      "cell_type": "code",
      "metadata": {
        "colab": {
          "base_uri": "https://localhost:8080/"
        },
        "id": "Xyl26_oMb78h",
        "outputId": "7d36ecb0-63b6-4d86-a635-cb9b76626b81"
      },
      "source": [
        "# clear memory\n",
        "del corpus\n",
        "del corpus_wo_stops\n",
        "del words_freq\n",
        "del tokens\n",
        "del frame\n",
        "\n",
        "show_memory_usage()"
      ],
      "execution_count": null,
      "outputs": [
        {
          "output_type": "stream",
          "text": [
            "                            df:  1.6 GiB\n",
            "           words_freq_wo_stops: 10.0 MiB\n",
            "               tokens_wo_stops:  1.3 MiB\n"
          ],
          "name": "stdout"
        }
      ]
    },
    {
      "cell_type": "code",
      "metadata": {
        "colab": {
          "base_uri": "https://localhost:8080/"
        },
        "id": "Gj_1zPJujzL8",
        "outputId": "218d05dd-d17e-4ee7-b633-b836fc294e8d"
      },
      "source": [
        "save_pickle(df, \"df_wo_stops.pickle\")\n",
        "save_pickle(words_freq_wo_stops, \"words_freq_wo_stops.pickle\")\n",
        "save_pickle(tokens_wo_stops, \"tokens_wo_stops.pickle\")"
      ],
      "execution_count": null,
      "outputs": [
        {
          "output_type": "stream",
          "text": [
            "saved \"df_wo_stops.pickle\" (769.2 MiB).\n",
            "saved \"words_freq_wo_stops.pickle\" (9.3 MiB).\n",
            "saved \"tokens_wo_stops.pickle\" (526.4 MiB).\n"
          ],
          "name": "stdout"
        }
      ]
    },
    {
      "cell_type": "markdown",
      "metadata": {
        "id": "FY3PLXAA8XcQ"
      },
      "source": [
        "в) лемм"
      ]
    },
    {
      "cell_type": "code",
      "metadata": {
        "id": "EJGGyOP_ooij"
      },
      "source": [
        "!pip install pymorphy2 >/dev/null"
      ],
      "execution_count": null,
      "outputs": []
    },
    {
      "cell_type": "code",
      "metadata": {
        "colab": {
          "base_uri": "https://localhost:8080/"
        },
        "id": "qLct_AO9oFYd",
        "outputId": "5e814295-d288-47f8-ef37-2a6e640dea7e"
      },
      "source": [
        "from pymorphy2 import MorphAnalyzer # https://pymorphy2.readthedocs.io/en/0.2/user/index.html\n",
        "\n",
        "\n",
        "def lemmatize_words(text, analyzer, lemmas, lemmas_nouns):\n",
        "    lms = []\n",
        "    tks = [word for word in text.split()]\n",
        "    for word in tks:\n",
        "        an = analyzer.parse(word)[0]\n",
        "        lms.append(an.normal_form)\n",
        "        if 'NOUN' in an.tag:\n",
        "            lemmas_nouns.append(an.normal_form)\n",
        "    lemmas += lms\n",
        "    return \" \".join(lms)\n",
        "\n",
        "\n",
        "analyzer = MorphAnalyzer()\n",
        "lemmas = []\n",
        "lemmas_nouns = []\n",
        "df['text_mdf'] = df['text_mdf'].apply(lemmatize_words, analyzer=analyzer, lemmas=lemmas, lemmas_nouns=lemmas_nouns)\n",
        "len(lemmas)"
      ],
      "execution_count": null,
      "outputs": [
        {
          "output_type": "execute_result",
          "data": {
            "text/plain": [
              "23616136"
            ]
          },
          "metadata": {
            "tags": []
          },
          "execution_count": 8
        }
      ]
    },
    {
      "cell_type": "code",
      "metadata": {
        "colab": {
          "base_uri": "https://localhost:8080/",
          "height": 419
        },
        "id": "MjCygKeonzf4",
        "outputId": "b7acf2cb-57f9-4410-9939-b68d1ed50fca"
      },
      "source": [
        "from collections import Counter\n",
        "\n",
        "lemmas_freq = Counter(lemmas)\n",
        "frame = pd.DataFrame(lemmas_freq.most_common(), columns=['Слово', 'Кол-во'])\n",
        "frame"
      ],
      "execution_count": null,
      "outputs": [
        {
          "output_type": "execute_result",
          "data": {
            "text/html": [
              "<div>\n",
              "<style scoped>\n",
              "    .dataframe tbody tr th:only-of-type {\n",
              "        vertical-align: middle;\n",
              "    }\n",
              "\n",
              "    .dataframe tbody tr th {\n",
              "        vertical-align: top;\n",
              "    }\n",
              "\n",
              "    .dataframe thead th {\n",
              "        text-align: right;\n",
              "    }\n",
              "</style>\n",
              "<table border=\"1\" class=\"dataframe\">\n",
              "  <thead>\n",
              "    <tr style=\"text-align: right;\">\n",
              "      <th></th>\n",
              "      <th>Слово</th>\n",
              "      <th>Кол-во</th>\n",
              "    </tr>\n",
              "  </thead>\n",
              "  <tbody>\n",
              "    <tr>\n",
              "      <th>0</th>\n",
              "      <td>банк</td>\n",
              "      <td>668070</td>\n",
              "    </tr>\n",
              "    <tr>\n",
              "      <th>1</th>\n",
              "      <td>карта</td>\n",
              "      <td>334980</td>\n",
              "    </tr>\n",
              "    <tr>\n",
              "      <th>2</th>\n",
              "      <td>деньга</td>\n",
              "      <td>179814</td>\n",
              "    </tr>\n",
              "    <tr>\n",
              "      <th>3</th>\n",
              "      <td>день</td>\n",
              "      <td>173578</td>\n",
              "    </tr>\n",
              "    <tr>\n",
              "      <th>4</th>\n",
              "      <td>мой</td>\n",
              "      <td>168990</td>\n",
              "    </tr>\n",
              "    <tr>\n",
              "      <th>...</th>\n",
              "      <td>...</td>\n",
              "      <td>...</td>\n",
              "    </tr>\n",
              "    <tr>\n",
              "      <th>171753</th>\n",
              "      <td>учытывать</td>\n",
              "      <td>1</td>\n",
              "    </tr>\n",
              "    <tr>\n",
              "      <th>171754</th>\n",
              "      <td>правдо</td>\n",
              "      <td>1</td>\n",
              "    </tr>\n",
              "    <tr>\n",
              "      <th>171755</th>\n",
              "      <td>касатться</td>\n",
              "      <td>1</td>\n",
              "    </tr>\n",
              "    <tr>\n",
              "      <th>171756</th>\n",
              "      <td>удостверенний</td>\n",
              "      <td>1</td>\n",
              "    </tr>\n",
              "    <tr>\n",
              "      <th>171757</th>\n",
              "      <td>0аа8ст00к0</td>\n",
              "      <td>1</td>\n",
              "    </tr>\n",
              "  </tbody>\n",
              "</table>\n",
              "<p>171758 rows × 2 columns</p>\n",
              "</div>"
            ],
            "text/plain": [
              "                Слово  Кол-во\n",
              "0                банк  668070\n",
              "1               карта  334980\n",
              "2              деньга  179814\n",
              "3                день  173578\n",
              "4                 мой  168990\n",
              "...               ...     ...\n",
              "171753      учытывать       1\n",
              "171754         правдо       1\n",
              "171755      касатться       1\n",
              "171756  удостверенний       1\n",
              "171757     0аа8ст00к0       1\n",
              "\n",
              "[171758 rows x 2 columns]"
            ]
          },
          "metadata": {
            "tags": []
          },
          "execution_count": 11
        }
      ]
    },
    {
      "cell_type": "markdown",
      "metadata": {
        "id": "K48GkGSOpX3N"
      },
      "source": [
        "г) существительных"
      ]
    },
    {
      "cell_type": "code",
      "metadata": {
        "colab": {
          "base_uri": "https://localhost:8080/"
        },
        "id": "-krBgvS2oFnh",
        "outputId": "5769b919-bce7-409e-e80b-d8737d47de8c"
      },
      "source": [
        "len(lemmas_nouns)"
      ],
      "execution_count": null,
      "outputs": [
        {
          "output_type": "execute_result",
          "data": {
            "text/plain": [
              "10674783"
            ]
          },
          "metadata": {
            "tags": []
          },
          "execution_count": 12
        }
      ]
    },
    {
      "cell_type": "code",
      "metadata": {
        "colab": {
          "base_uri": "https://localhost:8080/",
          "height": 419
        },
        "id": "JSMdGc6aDa7J",
        "outputId": "8fec1e2e-97d0-42b8-9675-b5dd52c9af0c"
      },
      "source": [
        "lemmas_nouns_freq = Counter(lemmas_nouns)\n",
        "frame = pd.DataFrame(lemmas_nouns_freq.most_common(), columns=['Слово', 'Кол-во'])\n",
        "frame"
      ],
      "execution_count": null,
      "outputs": [
        {
          "output_type": "execute_result",
          "data": {
            "text/html": [
              "<div>\n",
              "<style scoped>\n",
              "    .dataframe tbody tr th:only-of-type {\n",
              "        vertical-align: middle;\n",
              "    }\n",
              "\n",
              "    .dataframe tbody tr th {\n",
              "        vertical-align: top;\n",
              "    }\n",
              "\n",
              "    .dataframe thead th {\n",
              "        text-align: right;\n",
              "    }\n",
              "</style>\n",
              "<table border=\"1\" class=\"dataframe\">\n",
              "  <thead>\n",
              "    <tr style=\"text-align: right;\">\n",
              "      <th></th>\n",
              "      <th>Слово</th>\n",
              "      <th>Кол-во</th>\n",
              "    </tr>\n",
              "  </thead>\n",
              "  <tbody>\n",
              "    <tr>\n",
              "      <th>0</th>\n",
              "      <td>банк</td>\n",
              "      <td>668070</td>\n",
              "    </tr>\n",
              "    <tr>\n",
              "      <th>1</th>\n",
              "      <td>карта</td>\n",
              "      <td>334980</td>\n",
              "    </tr>\n",
              "    <tr>\n",
              "      <th>2</th>\n",
              "      <td>деньга</td>\n",
              "      <td>179814</td>\n",
              "    </tr>\n",
              "    <tr>\n",
              "      <th>3</th>\n",
              "      <td>день</td>\n",
              "      <td>173578</td>\n",
              "    </tr>\n",
              "    <tr>\n",
              "      <th>4</th>\n",
              "      <td>кредит</td>\n",
              "      <td>156145</td>\n",
              "    </tr>\n",
              "    <tr>\n",
              "      <th>...</th>\n",
              "      <td>...</td>\n",
              "      <td>...</td>\n",
              "    </tr>\n",
              "    <tr>\n",
              "      <th>53815</th>\n",
              "      <td>сберка</td>\n",
              "      <td>1</td>\n",
              "    </tr>\n",
              "    <tr>\n",
              "      <th>53816</th>\n",
              "      <td>мерс</td>\n",
              "      <td>1</td>\n",
              "    </tr>\n",
              "    <tr>\n",
              "      <th>53817</th>\n",
              "      <td>170р</td>\n",
              "      <td>1</td>\n",
              "    </tr>\n",
              "    <tr>\n",
              "      <th>53818</th>\n",
              "      <td>нюанас</td>\n",
              "      <td>1</td>\n",
              "    </tr>\n",
              "    <tr>\n",
              "      <th>53819</th>\n",
              "      <td>смыло</td>\n",
              "      <td>1</td>\n",
              "    </tr>\n",
              "  </tbody>\n",
              "</table>\n",
              "<p>53820 rows × 2 columns</p>\n",
              "</div>"
            ],
            "text/plain": [
              "        Слово  Кол-во\n",
              "0        банк  668070\n",
              "1       карта  334980\n",
              "2      деньга  179814\n",
              "3        день  173578\n",
              "4      кредит  156145\n",
              "...       ...     ...\n",
              "53815  сберка       1\n",
              "53816    мерс       1\n",
              "53817    170р       1\n",
              "53818  нюанас       1\n",
              "53819   смыло       1\n",
              "\n",
              "[53820 rows x 2 columns]"
            ]
          },
          "metadata": {
            "tags": []
          },
          "execution_count": 13
        }
      ]
    },
    {
      "cell_type": "code",
      "metadata": {
        "colab": {
          "base_uri": "https://localhost:8080/"
        },
        "id": "2d5tFX4hlHg7",
        "outputId": "692d366c-936b-467e-aab7-bf9be2717176"
      },
      "source": [
        "save_pickle(lemmas, \"lemmas.pickle\")\n",
        "save_pickle(lemmas_nouns, \"lemmas_nouns.pickle\")\n",
        "save_pickle(words_freq_wo_stops, \"words_freq_wo_stops.pickle\")\n",
        "save_pickle(lemmas_freq, \"lemmas_freq.pickle\")\n",
        "save_pickle(df, \"df_lemmas.pickle\")\n",
        "save_pickle(tokens_wo_stops, \"tokens_wo_stops.pickle\")"
      ],
      "execution_count": null,
      "outputs": [
        {
          "output_type": "stream",
          "text": [
            "saved \"lemmas.pickle\" (516.7 MiB).\n",
            "saved \"lemmas_nouns.pickle\" (230.6 MiB).\n",
            "saved \"words_freq_wo_stops.pickle\" (9.3 MiB).\n",
            "saved \"lemmas_freq.pickle\" (4.1 MiB).\n",
            "saved \"df_lemmas.pickle\" (763.5 MiB).\n",
            "saved \"tokens_wo_stops.pickle\" (526.4 MiB).\n"
          ],
          "name": "stdout"
        }
      ]
    },
    {
      "cell_type": "code",
      "metadata": {
        "colab": {
          "base_uri": "https://localhost:8080/"
        },
        "id": "uG6RQJjp7MI3",
        "outputId": "13f8cf6e-e9c0-437f-a7bd-394577c1a058"
      },
      "source": [
        "# clear memory\n",
        "del lemmas\n",
        "del lemmas_nouns\n",
        "del lemmas_nouns_freq\n",
        "del frame\n",
        "\n",
        "show_memory_usage()"
      ],
      "execution_count": null,
      "outputs": [
        {
          "output_type": "stream",
          "text": [
            "                            df:  1.6 GiB\n",
            "           words_freq_wo_stops: 10.0 MiB\n",
            "                   lemmas_freq:  5.0 MiB\n",
            "               tokens_wo_stops:  1.3 MiB\n"
          ],
          "name": "stdout"
        }
      ]
    },
    {
      "cell_type": "markdown",
      "metadata": {
        "id": "c0D0M5BFsTbF"
      },
      "source": [
        "4. Постройте кривые Ципфа и Хипса"
      ]
    },
    {
      "cell_type": "code",
      "metadata": {
        "colab": {
          "base_uri": "https://localhost:8080/",
          "height": 281
        },
        "id": "8tGcm459oFqF",
        "outputId": "1db85871-b8a3-4718-e46d-d37c0777c0dd"
      },
      "source": [
        "freqs = list(words_freq_wo_stops.values())\n",
        "freqs = sorted(freqs, reverse=True)\n",
        "\n",
        "plt.plot(freqs[:300], range(300))\n",
        "plt.title(\"Кривая Ципфа\")\n",
        "plt.show()"
      ],
      "execution_count": 27,
      "outputs": [
        {
          "output_type": "display_data",
          "data": {
            "image/png": "[encoded data removed]",
            "text/plain": [
              "<Figure size 432x288 with 1 Axes>"
            ]
          },
          "metadata": {
            "tags": [],
            "needs_background": "light"
          }
        }
      ]
    },
    {
      "cell_type": "code",
      "metadata": {
        "colab": {
          "base_uri": "https://localhost:8080/"
        },
        "id": "RoiKygV9oFtB",
        "outputId": "cb853d98-c6e7-449f-db0a-d1e4fcb80bc4"
      },
      "source": [
        "cnt = Counter()\n",
        "n_words = []\n",
        "n_tokens = []\n",
        "for tokens in tqdm(tokens_wo_stops):\n",
        "    cnt.update(tokens)\n",
        "    n_words.append(len(cnt))\n",
        "    n_tokens.append(sum(list(cnt.values())))"
      ],
      "execution_count": 28,
      "outputs": [
        {
          "output_type": "stream",
          "text": [
            "100%|██████████| 153499/153499 [55:20<00:00, 46.22it/s]\n"
          ],
          "name": "stderr"
        }
      ]
    },
    {
      "cell_type": "code",
      "metadata": {
        "colab": {
          "base_uri": "https://localhost:8080/",
          "height": 294
        },
        "id": "vtHW6zgGoFvp",
        "outputId": "0b4ed1f5-0fdd-448b-d5ad-f192eb11096a"
      },
      "source": [
        "plt.plot(n_tokens, n_words)\n",
        "plt.title(\"Кривая Хипса\")\n",
        "plt.show()"
      ],
      "execution_count": 29,
      "outputs": [
        {
          "output_type": "display_data",
          "data": {
            "image/png": "[encoded data removed]",
            "text/plain": [
              "<Figure size 432x288 with 1 Axes>"
            ]
          },
          "metadata": {
            "tags": [],
            "needs_background": "light"
          }
        }
      ]
    },
    {
      "cell_type": "code",
      "metadata": {
        "colab": {
          "base_uri": "https://localhost:8080/"
        },
        "id": "rhoP8J1TMWUw",
        "outputId": "9eef3b14-14ce-4f1b-f412-80e031618142"
      },
      "source": [
        "# clear memory\n",
        "del words_freq_wo_stops\n",
        "del freqs\n",
        "del cnt\n",
        "del n_words\n",
        "del n_tokens\n",
        "del tokens_wo_stops\n",
        "\n",
        "show_memory_usage()"
      ],
      "execution_count": 30,
      "outputs": [
        {
          "output_type": "stream",
          "text": [
            "                            df: 917.8 MiB\n",
            "                   lemmas_freq:  5.0 MiB\n",
            "                       Subplot:  5.4 KiB\n"
          ],
          "name": "stdout"
        }
      ]
    },
    {
      "cell_type": "markdown",
      "metadata": {
        "id": "9wb2VIFkv3jf"
      },
      "source": [
        "5. Ответьте на следующие вопросы:  \n",
        "а) какое слово встречается чаще, \"сотрудник\" или \"клиент\"?\n"
      ]
    },
    {
      "cell_type": "code",
      "metadata": {
        "colab": {
          "base_uri": "https://localhost:8080/"
        },
        "id": "bVYVmTZKoFy8",
        "outputId": "c058213c-45b5-4b8d-903a-6b4e3d4b907a"
      },
      "source": [
        "def more_often_word(freq, first, second):\n",
        "    w1 = lemmas_freq[first]\n",
        "    w2 = lemmas_freq[second]\n",
        "    if w1 > w2:\n",
        "        print(f\"Слово '{first}' встречается чаще слова '{second}' ({w1} > {w2}).\")\n",
        "    elif w1 < w2:\n",
        "        print(f\"Слово '{second}' встречается чаще слова '{first}' ({w2} > {w1}).\")\n",
        "    else:\n",
        "        if w1 != 0:\n",
        "            print(f\"Слова '{first}' и '{second}' встречаются одинаковое кол-во раз ({w1}).\")\n",
        "        else:\n",
        "            print(f\"Слова '{first}' и '{second}' не встречаются в тексте.\")\n",
        "\n",
        "def get_count(freq, word):\n",
        "    w = lemmas_freq[word]\n",
        "    if w != 0:\n",
        "        print(f\"Слово '{word}' встречается в тексте {w} раз.\")\n",
        "    else:\n",
        "        print(f\"Слово '{word}' не встречается в тексте.\")\n",
        "\n",
        "\n",
        "more_often_word(lemmas_freq, 'сотрудник', 'клиент')"
      ],
      "execution_count": 32,
      "outputs": [
        {
          "output_type": "stream",
          "text": [
            "Слово 'клиент' встречается чаще слова 'сотрудник' (136877 > 134163).\n"
          ],
          "name": "stdout"
        }
      ]
    },
    {
      "cell_type": "markdown",
      "metadata": {
        "id": "EG8zwfEj2rxr"
      },
      "source": [
        "б) сколько раз встречаются слова \"мошенничество\" и \"доверие\"?"
      ]
    },
    {
      "cell_type": "code",
      "metadata": {
        "colab": {
          "base_uri": "https://localhost:8080/"
        },
        "id": "bn4drqLPuSdZ",
        "outputId": "f280c28d-677e-4edc-92eb-5a15333025cc"
      },
      "source": [
        "get_count(lemmas_freq, 'мошенничество')\n",
        "get_count(lemmas_freq, 'доверие')"
      ],
      "execution_count": 33,
      "outputs": [
        {
          "output_type": "stream",
          "text": [
            "Слово 'мошенничество' встречается в тексте 3244 раз.\n",
            "Слово 'доверие' встречается в тексте 2108 раз.\n"
          ],
          "name": "stdout"
        }
      ]
    },
    {
      "cell_type": "code",
      "metadata": {
        "colab": {
          "base_uri": "https://localhost:8080/"
        },
        "id": "towO1gVIMDnx",
        "outputId": "52efd39d-9f8e-4a3c-8587-47f8bd571d39"
      },
      "source": [
        "# clear space\n",
        "del lemmas_freq\n",
        "\n",
        "show_memory_usage()"
      ],
      "execution_count": 34,
      "outputs": [
        {
          "output_type": "stream",
          "text": [
            "                            df: 917.8 MiB\n",
            "                       Subplot:  5.4 KiB\n",
            "                        typeNA:  4.6 KiB\n"
          ],
          "name": "stdout"
        }
      ]
    },
    {
      "cell_type": "markdown",
      "metadata": {
        "id": "xunFAJxl4R6l"
      },
      "source": [
        "6. В поле \"rating_grade\" записана оценка отзыва по шкале от 1 до 5. Используйте меру  tf−idf , для того, чтобы найти ключевые слова и биграмы для положительных отзывов (с оценкой 5) и отрицательных отзывов (с оценкой 1)"
      ]
    },
    {
      "cell_type": "code",
      "metadata": {
        "id": "dO5lJY4CuSgF"
      },
      "source": [
        "from sklearn.feature_extraction.text import TfidfVectorizer\n",
        "import numpy as np\n",
        "\n",
        "\n",
        "def get_keywords(lst, ngrams, text_id):\n",
        "    tfidf = TfidfVectorizer(analyzer='word', ngram_range=(ngrams, ngrams), min_df = 0)\n",
        "    tfidf_matrix =  tfidf.fit_transform(lst)\n",
        "    feature_names = tfidf.get_feature_names()\n",
        "    #dense = tfidf_matrix.todense()\n",
        "    #text = dense[text_id].tolist()[0]\n",
        "    text = tfidf_matrix[text_id, :].toarray().tolist()[0]\n",
        "    phrase_scores = [pair for pair in zip(range(0, len(text)), text) if pair[1] > 0]\n",
        "    sorted_phrase_scores = sorted(phrase_scores, key=lambda t: t[1] * -1)\n",
        "\n",
        "    tfidf_ranking = []\n",
        "    for phrase, score in [(feature_names[word_id], score) for (word_id, score) in sorted_phrase_scores][:40]:\n",
        "        tfidf_ranking.append(phrase)\n",
        "\n",
        "    rankings = pd.DataFrame({'tf-idf': tfidf_ranking})\n",
        "    return rankings"
      ],
      "execution_count": 35,
      "outputs": []
    },
    {
      "cell_type": "code",
      "metadata": {
        "id": "G3clb3VgO5h2"
      },
      "source": [
        "text_id = 5\n",
        "lst = df[df[\"rating_grade\"] == 5.0][\"text_mdf\"].tolist()"
      ],
      "execution_count": 36,
      "outputs": []
    },
    {
      "cell_type": "code",
      "metadata": {
        "colab": {
          "base_uri": "https://localhost:8080/",
          "height": 204
        },
        "id": "gp9OMh2RuSkI",
        "outputId": "ae63eab2-9611-43ad-bb32-ed3b2160ec8f"
      },
      "source": [
        "df1 = get_keywords(lst, 1, text_id)\n",
        "df1.head()"
      ],
      "execution_count": 37,
      "outputs": [
        {
          "output_type": "execute_result",
          "data": {
            "text/html": [
              "<div>\n",
              "<style scoped>\n",
              "    .dataframe tbody tr th:only-of-type {\n",
              "        vertical-align: middle;\n",
              "    }\n",
              "\n",
              "    .dataframe tbody tr th {\n",
              "        vertical-align: top;\n",
              "    }\n",
              "\n",
              "    .dataframe thead th {\n",
              "        text-align: right;\n",
              "    }\n",
              "</style>\n",
              "<table border=\"1\" class=\"dataframe\">\n",
              "  <thead>\n",
              "    <tr style=\"text-align: right;\">\n",
              "      <th></th>\n",
              "      <th>tf-idf</th>\n",
              "    </tr>\n",
              "  </thead>\n",
              "  <tbody>\n",
              "    <tr>\n",
              "      <th>0</th>\n",
              "      <td>реструктуризация</td>\n",
              "    </tr>\n",
              "    <tr>\n",
              "      <th>1</th>\n",
              "      <td>неугодов</td>\n",
              "    </tr>\n",
              "    <tr>\n",
              "      <th>2</th>\n",
              "      <td>вариант</td>\n",
              "    </tr>\n",
              "    <tr>\n",
              "      <th>3</th>\n",
              "      <td>обрисовать</td>\n",
              "    </tr>\n",
              "    <tr>\n",
              "      <th>4</th>\n",
              "      <td>наталия</td>\n",
              "    </tr>\n",
              "  </tbody>\n",
              "</table>\n",
              "</div>"
            ],
            "text/plain": [
              "             tf-idf\n",
              "0  реструктуризация\n",
              "1          неугодов\n",
              "2           вариант\n",
              "3        обрисовать\n",
              "4           наталия"
            ]
          },
          "metadata": {
            "tags": []
          },
          "execution_count": 37
        }
      ]
    },
    {
      "cell_type": "code",
      "metadata": {
        "colab": {
          "base_uri": "https://localhost:8080/"
        },
        "id": "iS_nghz-wWDp",
        "outputId": "9089f140-cbc9-4edb-8afb-7b832997a667"
      },
      "source": [
        "show_memory_usage()"
      ],
      "execution_count": 38,
      "outputs": [
        {
          "output_type": "stream",
          "text": [
            "                            df: 917.8 MiB\n",
            "                           lst: 115.0 KiB\n",
            "                       Subplot:  5.4 KiB\n"
          ],
          "name": "stdout"
        }
      ]
    },
    {
      "cell_type": "code",
      "metadata": {
        "colab": {
          "base_uri": "https://localhost:8080/",
          "height": 204
        },
        "id": "4iiWPhYuLtxU",
        "outputId": "56e6d09e-a98a-4cdb-e2d3-02fef2afd692"
      },
      "source": [
        "df2 = get_keywords(lst, 2, text_id)\n",
        "df2.head()"
      ],
      "execution_count": 39,
      "outputs": [
        {
          "output_type": "execute_result",
          "data": {
            "text/html": [
              "<div>\n",
              "<style scoped>\n",
              "    .dataframe tbody tr th:only-of-type {\n",
              "        vertical-align: middle;\n",
              "    }\n",
              "\n",
              "    .dataframe tbody tr th {\n",
              "        vertical-align: top;\n",
              "    }\n",
              "\n",
              "    .dataframe thead th {\n",
              "        text-align: right;\n",
              "    }\n",
              "</style>\n",
              "<table border=\"1\" class=\"dataframe\">\n",
              "  <thead>\n",
              "    <tr style=\"text-align: right;\">\n",
              "      <th></th>\n",
              "      <th>tf-idf</th>\n",
              "    </tr>\n",
              "  </thead>\n",
              "  <tbody>\n",
              "    <tr>\n",
              "      <th>0</th>\n",
              "      <td>анна внимательно</td>\n",
              "    </tr>\n",
              "    <tr>\n",
              "      <th>1</th>\n",
              "      <td>выгода предложение</td>\n",
              "    </tr>\n",
              "    <tr>\n",
              "      <th>2</th>\n",
              "      <td>думать обрисовать</td>\n",
              "    </tr>\n",
              "    <tr>\n",
              "      <th>3</th>\n",
              "      <td>неугодов наталия</td>\n",
              "    </tr>\n",
              "    <tr>\n",
              "      <th>4</th>\n",
              "      <td>нужно помочь</td>\n",
              "    </tr>\n",
              "  </tbody>\n",
              "</table>\n",
              "</div>"
            ],
            "text/plain": [
              "               tf-idf\n",
              "0    анна внимательно\n",
              "1  выгода предложение\n",
              "2   думать обрисовать\n",
              "3    неугодов наталия\n",
              "4        нужно помочь"
            ]
          },
          "metadata": {
            "tags": []
          },
          "execution_count": 39
        }
      ]
    },
    {
      "cell_type": "code",
      "metadata": {
        "id": "6pVpEVKDO-87"
      },
      "source": [
        "text_id = 7\n",
        "lst = df[df[\"rating_grade\"] == 1.0][\"text_mdf\"].tolist()"
      ],
      "execution_count": 40,
      "outputs": []
    },
    {
      "cell_type": "code",
      "metadata": {
        "colab": {
          "base_uri": "https://localhost:8080/",
          "height": 204
        },
        "id": "vduzE59f0Ika",
        "outputId": "b1507bb7-866c-441c-af88-95bc63b42eac"
      },
      "source": [
        "df1 = get_keywords(lst, 1, text_id)\n",
        "df1.head()"
      ],
      "execution_count": 41,
      "outputs": [
        {
          "output_type": "execute_result",
          "data": {
            "text/html": [
              "<div>\n",
              "<style scoped>\n",
              "    .dataframe tbody tr th:only-of-type {\n",
              "        vertical-align: middle;\n",
              "    }\n",
              "\n",
              "    .dataframe tbody tr th {\n",
              "        vertical-align: top;\n",
              "    }\n",
              "\n",
              "    .dataframe thead th {\n",
              "        text-align: right;\n",
              "    }\n",
              "</style>\n",
              "<table border=\"1\" class=\"dataframe\">\n",
              "  <thead>\n",
              "    <tr style=\"text-align: right;\">\n",
              "      <th></th>\n",
              "      <th>tf-idf</th>\n",
              "    </tr>\n",
              "  </thead>\n",
              "  <tbody>\n",
              "    <tr>\n",
              "      <th>0</th>\n",
              "      <td>сытый</td>\n",
              "    </tr>\n",
              "    <tr>\n",
              "      <th>1</th>\n",
              "      <td>клерк</td>\n",
              "    </tr>\n",
              "    <tr>\n",
              "      <th>2</th>\n",
              "      <td>легко</td>\n",
              "    </tr>\n",
              "    <tr>\n",
              "      <th>3</th>\n",
              "      <td>репутация</td>\n",
              "    </tr>\n",
              "    <tr>\n",
              "      <th>4</th>\n",
              "      <td>заявлять</td>\n",
              "    </tr>\n",
              "  </tbody>\n",
              "</table>\n",
              "</div>"
            ],
            "text/plain": [
              "      tf-idf\n",
              "0      сытый\n",
              "1      клерк\n",
              "2      легко\n",
              "3  репутация\n",
              "4   заявлять"
            ]
          },
          "metadata": {
            "tags": []
          },
          "execution_count": 41
        }
      ]
    },
    {
      "cell_type": "code",
      "metadata": {
        "colab": {
          "base_uri": "https://localhost:8080/",
          "height": 204
        },
        "id": "eC-5gBDN0Ixf",
        "outputId": "babc2551-a830-4ba3-f524-df62152e5378"
      },
      "source": [
        "df2 = get_keywords(lst, 2, text_id)\n",
        "df2.head()"
      ],
      "execution_count": 42,
      "outputs": [
        {
          "output_type": "execute_result",
          "data": {
            "text/html": [
              "<div>\n",
              "<style scoped>\n",
              "    .dataframe tbody tr th:only-of-type {\n",
              "        vertical-align: middle;\n",
              "    }\n",
              "\n",
              "    .dataframe tbody tr th {\n",
              "        vertical-align: top;\n",
              "    }\n",
              "\n",
              "    .dataframe thead th {\n",
              "        text-align: right;\n",
              "    }\n",
              "</style>\n",
              "<table border=\"1\" class=\"dataframe\">\n",
              "  <thead>\n",
              "    <tr style=\"text-align: right;\">\n",
              "      <th></th>\n",
              "      <th>tf-idf</th>\n",
              "    </tr>\n",
              "  </thead>\n",
              "  <tbody>\n",
              "    <tr>\n",
              "      <th>0</th>\n",
              "      <td>довольный сытый</td>\n",
              "    </tr>\n",
              "    <tr>\n",
              "      <th>1</th>\n",
              "      <td>заявлять клерк</td>\n",
              "    </tr>\n",
              "    <tr>\n",
              "      <th>2</th>\n",
              "      <td>июль известно</td>\n",
              "    </tr>\n",
              "    <tr>\n",
              "      <th>3</th>\n",
              "      <td>отказать сидеть</td>\n",
              "    </tr>\n",
              "    <tr>\n",
              "      <th>4</th>\n",
              "      <td>репутация заявлять</td>\n",
              "    </tr>\n",
              "  </tbody>\n",
              "</table>\n",
              "</div>"
            ],
            "text/plain": [
              "               tf-idf\n",
              "0     довольный сытый\n",
              "1      заявлять клерк\n",
              "2       июль известно\n",
              "3     отказать сидеть\n",
              "4  репутация заявлять"
            ]
          },
          "metadata": {
            "tags": []
          },
          "execution_count": 42
        }
      ]
    },
    {
      "cell_type": "code",
      "metadata": {
        "colab": {
          "base_uri": "https://localhost:8080/"
        },
        "id": "FX6Ya23iM8XU",
        "outputId": "74db4975-ead5-41cc-db4a-096e71486a29"
      },
      "source": [
        "# clear space\n",
        "del lst\n",
        "del df1\n",
        "del df2\n",
        "\n",
        "show_memory_usage()"
      ],
      "execution_count": 43,
      "outputs": [
        {
          "output_type": "stream",
          "text": [
            "                            df: 917.8 MiB\n",
            "                       Subplot:  5.4 KiB\n",
            "                        typeNA:  4.6 KiB\n"
          ],
          "name": "stdout"
        }
      ]
    },
    {
      "cell_type": "markdown",
      "metadata": {
        "id": "wciPl_iWtjZr"
      },
      "source": [
        "## Часть 2. Тематическое моделирование [20/100]\n",
        "\n",
        "Эта часть задания может быть сделана с использованием gensim. "
      ]
    },
    {
      "cell_type": "markdown",
      "metadata": {
        "id": "JuXm8kBqEOQc"
      },
      "source": [
        "1. Постройте несколько тематических моделей коллекции документов с разным числом тем. Приведите примеры понятных (интерпретируемых) тем."
      ]
    },
    {
      "cell_type": "markdown",
      "metadata": {
        "id": "0GJ6UMMuxCYX"
      },
      "source": [
        "Сформируем 30 тем."
      ]
    },
    {
      "cell_type": "code",
      "metadata": {
        "id": "9aobhAGe8jmN"
      },
      "source": [
        "from gensim.corpora import Dictionary\n",
        "from gensim.models import TfidfModel\n",
        "from gensim import similarities\n",
        "from gensim.models import lsimodel"
      ],
      "execution_count": 44,
      "outputs": []
    },
    {
      "cell_type": "code",
      "metadata": {
        "id": "yHZh7NIu9H3g"
      },
      "source": [
        "texts = [text.split() for text in df[\"text_mdf\"]]\n",
        "dictionary = Dictionary(texts)\n",
        "corpus = [dictionary.doc2bow(text) for text in texts]"
      ],
      "execution_count": 45,
      "outputs": []
    },
    {
      "cell_type": "code",
      "metadata": {
        "id": "Iwq6N0wi9mMA"
      },
      "source": [
        "tfidf = TfidfModel(corpus)\n",
        "corpus_tfidf = tfidf[corpus]"
      ],
      "execution_count": 46,
      "outputs": []
    },
    {
      "cell_type": "code",
      "metadata": {
        "id": "Rfk95n9w8jhu"
      },
      "source": [
        "lsi = lsimodel.LsiModel(corpus=corpus_tfidf, id2word=dictionary, num_topics=30)"
      ],
      "execution_count": 47,
      "outputs": []
    },
    {
      "cell_type": "code",
      "metadata": {
        "colab": {
          "base_uri": "https://localhost:8080/"
        },
        "id": "CHDdzhG-8jgA",
        "outputId": "88e8067d-e6bf-4030-c852-0ab997f3e9ed"
      },
      "source": [
        "lsi.show_topics(5)"
      ],
      "execution_count": 48,
      "outputs": [
        {
          "output_type": "execute_result",
          "data": {
            "text/plain": [
              "[(0,\n",
              "  '0.184*\"карта\" + 0.129*\"кредит\" + 0.110*\"деньга\" + 0.103*\"счёт\" + 0.103*\"заявление\" + 0.102*\"вклад\" + 0.097*\"отделение\" + 0.097*\"банкомат\" + 0.089*\"сумма\" + 0.089*\"сбербанк\"'),\n",
              " (1,\n",
              "  '-0.571*\"вклад\" + 0.248*\"кредит\" + -0.155*\"очередь\" + 0.139*\"платёж\" + -0.137*\"открыть\" + 0.132*\"задолженность\" + 0.110*\"погашение\" + 0.103*\"страховка\" + 0.096*\"звонок\" + -0.095*\"офис\"'),\n",
              " (2,\n",
              "  '0.344*\"банкомат\" + -0.291*\"кредит\" + 0.282*\"карта\" + -0.248*\"вклад\" + 0.186*\"сбербанк\" + -0.160*\"страховка\" + 0.157*\"деньга\" + -0.150*\"договор\" + 0.143*\"операция\" + 0.121*\"средство\"'),\n",
              " (3,\n",
              "  '0.336*\"вклад\" + 0.193*\"сумма\" + 0.159*\"договор\" + -0.157*\"карта\" + -0.154*\"заявка\" + 0.153*\"руб\" + -0.146*\"номер\" + 0.137*\"погашение\" + 0.136*\"процент\" + 0.135*\"средство\"'),\n",
              " (4,\n",
              "  '0.294*\"вклад\" + 0.263*\"номер\" + -0.224*\"страховка\" + 0.194*\"звонок\" + -0.188*\"кредит\" + -0.175*\"карта\" + -0.164*\"банкомат\" + 0.145*\"телефон\" + 0.132*\"ваш\" + -0.122*\"заявка\"')]"
            ]
          },
          "metadata": {
            "tags": []
          },
          "execution_count": 48
        }
      ]
    },
    {
      "cell_type": "markdown",
      "metadata": {
        "id": "YznXnkThvyxM"
      },
      "source": [
        "В топике с индексом 1 можно проследить тему, связанную с выдачей кредита и задолженность. В топике с индексом 2 - о совершении операции в банкомате. С индексом 3 - операция по вкладу."
      ]
    },
    {
      "cell_type": "code",
      "metadata": {
        "colab": {
          "base_uri": "https://localhost:8080/"
        },
        "id": "s_P4k_grmW7z",
        "outputId": "c77553a7-fe69-465d-d30b-feeee79be3ef"
      },
      "source": [
        "save_pickle(dictionary, \"dictionary.pickle\")\n",
        "save_pickle(corpus_tfidf, \"corpus_tfidf.pickle\")\n",
        "save_pickle(lsi, \"lsi_30.pickle\")"
      ],
      "execution_count": 49,
      "outputs": [
        {
          "output_type": "stream",
          "text": [
            "saved \"dictionary.pickle\" (7.0 MiB).\n",
            "saved \"corpus_tfidf.pickle\" (179.1 MiB).\n",
            "saved \"lsi_30.pickle\" (46.3 MiB).\n"
          ],
          "name": "stdout"
        }
      ]
    },
    {
      "cell_type": "markdown",
      "metadata": {
        "id": "pgdl4DTAxKpx"
      },
      "source": [
        "Сформируем 15 тем."
      ]
    },
    {
      "cell_type": "code",
      "metadata": {
        "id": "TWNUHa5S8jVx"
      },
      "source": [
        "lsi = lsimodel.LsiModel(corpus=corpus_tfidf, id2word=dictionary, num_topics=15)"
      ],
      "execution_count": 57,
      "outputs": []
    },
    {
      "cell_type": "code",
      "metadata": {
        "colab": {
          "base_uri": "https://localhost:8080/"
        },
        "id": "oocu5TXA8jTN",
        "outputId": "0ff3f659-a1b3-4efd-af5f-6a51df6acc86"
      },
      "source": [
        "lsi.show_topics(5)"
      ],
      "execution_count": 58,
      "outputs": [
        {
          "output_type": "execute_result",
          "data": {
            "text/plain": [
              "[(0,\n",
              "  '0.184*\"карта\" + 0.129*\"кредит\" + 0.110*\"деньга\" + 0.103*\"счёт\" + 0.103*\"заявление\" + 0.102*\"вклад\" + 0.097*\"отделение\" + 0.097*\"банкомат\" + 0.089*\"сумма\" + 0.088*\"сбербанк\"'),\n",
              " (1,\n",
              "  '-0.578*\"вклад\" + 0.245*\"кредит\" + -0.153*\"очередь\" + 0.138*\"платёж\" + -0.137*\"открыть\" + 0.132*\"задолженность\" + 0.109*\"погашение\" + 0.104*\"страховка\" + 0.095*\"звонок\" + -0.094*\"офис\"'),\n",
              " (2,\n",
              "  '0.341*\"банкомат\" + -0.294*\"кредит\" + 0.282*\"карта\" + -0.241*\"вклад\" + 0.186*\"сбербанк\" + -0.165*\"страховка\" + 0.158*\"деньга\" + -0.154*\"договор\" + 0.143*\"операция\" + 0.125*\"средство\"'),\n",
              " (3,\n",
              "  '0.338*\"вклад\" + 0.191*\"сумма\" + -0.157*\"карта\" + -0.154*\"заявка\" + 0.153*\"договор\" + 0.150*\"руб\" + -0.144*\"номер\" + 0.138*\"процент\" + 0.135*\"средство\" + 0.133*\"000\"'),\n",
              " (4,\n",
              "  '0.286*\"вклад\" + 0.263*\"номер\" + -0.227*\"страховка\" + -0.196*\"карта\" + 0.192*\"звонок\" + -0.172*\"кредит\" + -0.146*\"банкомат\" + 0.144*\"телефон\" + -0.138*\"лимит\" + 0.127*\"ваш\"')]"
            ]
          },
          "metadata": {
            "tags": []
          },
          "execution_count": 58
        }
      ]
    },
    {
      "cell_type": "markdown",
      "metadata": {
        "id": "cp2dmeqhxPQv"
      },
      "source": [
        "Получился аналогичный вариант, немного отличаются веса."
      ]
    },
    {
      "cell_type": "code",
      "metadata": {
        "colab": {
          "base_uri": "https://localhost:8080/"
        },
        "id": "H3gFckim8jJU",
        "outputId": "7f50cd49-284e-4c87-b885-ab0b4eadd536"
      },
      "source": [
        "save_pickle(lsi, \"lsi_15.pickle\")"
      ],
      "execution_count": 59,
      "outputs": [
        {
          "output_type": "stream",
          "text": [
            "saved \"lsi_15.pickle\" (26.7 MiB).\n"
          ],
          "name": "stdout"
        }
      ]
    },
    {
      "cell_type": "markdown",
      "metadata": {
        "id": "Sl8D3bFCEWyA"
      },
      "source": [
        "2. Найдите темы, в которых упомянуты конкретные банки (Сбербанк, ВТБ, другой банк). Можете ли вы их прокомментировать / объяснить?"
      ]
    },
    {
      "cell_type": "code",
      "metadata": {
        "id": "2Kr3gQaEELoc",
        "colab": {
          "base_uri": "https://localhost:8080/"
        },
        "outputId": "d598eaa7-5022-41e2-b852-110a5b2a0871"
      },
      "source": [
        "lsi.show_topics()"
      ],
      "execution_count": 61,
      "outputs": [
        {
          "output_type": "execute_result",
          "data": {
            "text/plain": [
              "[(0,\n",
              "  '0.184*\"карта\" + 0.129*\"кредит\" + 0.110*\"деньга\" + 0.103*\"счёт\" + 0.103*\"заявление\" + 0.102*\"вклад\" + 0.097*\"отделение\" + 0.097*\"банкомат\" + 0.089*\"сумма\" + 0.088*\"сбербанк\"'),\n",
              " (1,\n",
              "  '-0.578*\"вклад\" + 0.245*\"кредит\" + -0.153*\"очередь\" + 0.138*\"платёж\" + -0.137*\"открыть\" + 0.132*\"задолженность\" + 0.109*\"погашение\" + 0.104*\"страховка\" + 0.095*\"звонок\" + -0.094*\"офис\"'),\n",
              " (2,\n",
              "  '0.341*\"банкомат\" + -0.294*\"кредит\" + 0.282*\"карта\" + -0.241*\"вклад\" + 0.186*\"сбербанк\" + -0.165*\"страховка\" + 0.158*\"деньга\" + -0.154*\"договор\" + 0.143*\"операция\" + 0.125*\"средство\"'),\n",
              " (3,\n",
              "  '0.338*\"вклад\" + 0.191*\"сумма\" + -0.157*\"карта\" + -0.154*\"заявка\" + 0.153*\"договор\" + 0.150*\"руб\" + -0.144*\"номер\" + 0.138*\"процент\" + 0.135*\"средство\" + 0.133*\"000\"'),\n",
              " (4,\n",
              "  '0.286*\"вклад\" + 0.263*\"номер\" + -0.227*\"страховка\" + -0.196*\"карта\" + 0.192*\"звонок\" + -0.172*\"кредит\" + -0.146*\"банкомат\" + 0.144*\"телефон\" + -0.138*\"лимит\" + 0.127*\"ваш\"'),\n",
              " (5,\n",
              "  '0.421*\"банкомат\" + -0.370*\"карта\" + -0.152*\"кредитный\" + 0.148*\"купюра\" + -0.148*\"лимит\" + 0.142*\"очередь\" + 0.135*\"деньга\" + -0.123*\"смс\" + -0.118*\"вклад\" + -0.113*\"интернет\"'),\n",
              " (6,\n",
              "  '0.263*\"заявка\" + -0.227*\"платёж\" + 0.202*\"заявление\" + 0.198*\"страховка\" + 0.160*\"документ\" + 0.145*\"сбербанк\" + 0.141*\"страхование\" + -0.140*\"задолженность\" + 0.135*\"рассмотрение\" + 0.125*\"2014\"'),\n",
              " (7,\n",
              "  '0.277*\"вклад\" + -0.226*\"сбербанк\" + -0.222*\"перевод\" + 0.204*\"карта\" + -0.136*\"страховка\" + -0.134*\"услуга\" + -0.134*\"страхование\" + 0.131*\"звонить\" + -0.126*\"средство\" + 0.121*\"заявка\"'),\n",
              " (8,\n",
              "  '-0.380*\"банкомат\" + 0.263*\"платёж\" + 0.259*\"сбербанк\" + -0.219*\"страховка\" + -0.148*\"страхование\" + -0.134*\"альфа\" + -0.119*\"ваш\" + -0.112*\"звонок\" + 0.112*\"перевод\" + 0.108*\"очередь\"'),\n",
              " (9,\n",
              "  '-0.406*\"страховка\" + -0.323*\"сбербанк\" + -0.192*\"номер\" + -0.166*\"страхование\" + -0.162*\"вклад\" + 0.161*\"кредитный\" + -0.161*\"смс\" + -0.133*\"онлайн\" + 0.121*\"справка\" + -0.118*\"мобильный\"'),\n",
              " (10,\n",
              "  '-0.410*\"сбербанк\" + 0.253*\"заявка\" + 0.236*\"кошелёк\" + -0.188*\"карта\" + 0.180*\"киви\" + 0.159*\"перевод\" + -0.156*\"заявление\" + 0.139*\"qiwi\" + 0.112*\"2014\" + -0.110*\"отделение\"'),\n",
              " (11,\n",
              "  '-0.415*\"кошелёк\" + -0.287*\"киви\" + 0.210*\"2014\" + -0.199*\"qiwi\" + -0.134*\"заблокировать\" + 0.132*\"смс\" + -0.128*\"идентификация\" + 0.120*\"00\" + -0.114*\"деньга\" + 0.111*\"очередь\"'),\n",
              " (12,\n",
              "  '-0.245*\"курс\" + 0.215*\"кошелёк\" + -0.215*\"счёт\" + 0.195*\"2013\" + 0.189*\"терминал\" + 0.174*\"банкомат\" + -0.165*\"перевод\" + 0.160*\"киви\" + -0.152*\"доллар\" + -0.151*\"евро\"'),\n",
              " (13,\n",
              "  '0.259*\"000\" + 0.251*\"курс\" + 0.231*\"сбербанк\" + 0.190*\"рубль\" + -0.181*\"альфа\" + 0.151*\"руб\" + 0.148*\"кошелёк\" + 0.144*\"валюта\" + 0.141*\"лимит\" + 0.141*\"доллар\"'),\n",
              " (14,\n",
              "  '-0.864*\"2015\" + 0.269*\"2013\" + -0.133*\"03\" + -0.127*\"02\" + -0.115*\"04\" + 0.103*\"2014\" + 0.087*\"11\" + 0.086*\"09\" + 0.083*\"2012\" + -0.083*\"01\"')]"
            ]
          },
          "metadata": {
            "tags": []
          },
          "execution_count": 61
        }
      ]
    },
    {
      "cell_type": "markdown",
      "metadata": {
        "id": "7QVxcf293EYQ"
      },
      "source": [
        "В нескольких темах упоминается Сбербанк. Так в топике с индексом 8 Сбербанк входит с довольно большим весом 0.259. Исходя из других слов, представленных в топике, клиенты Сбербанка часто обращаются по поводу платежей и переводов в данной теме. В топике с индексом 10 Сбербанк также имеет большой, но уже отрицательный вес -0.410. В этой теме можно заметить, что речь идет об электронных деньгах (Qiwi) и вполне понятно, почему у Сбербанка здесь такой вес."
      ]
    },
    {
      "cell_type": "code",
      "metadata": {
        "id": "_HZBcgIUEMFQ",
        "colab": {
          "base_uri": "https://localhost:8080/"
        },
        "outputId": "4a0a4f05-6589-4c99-ea0f-0bd3291ab68c"
      },
      "source": [
        "# clear memory\n",
        "del texts\n",
        "del dictionary\n",
        "del corpus\n",
        "del tfidf\n",
        "del corpus_tfidf\n",
        "del lsi\n",
        "\n",
        "show_memory_usage()"
      ],
      "execution_count": 64,
      "outputs": [
        {
          "output_type": "stream",
          "text": [
            "                            df: 917.8 MiB\n",
            "                       Subplot:  5.4 KiB\n",
            "                        typeNA:  4.6 KiB\n"
          ],
          "name": "stdout"
        }
      ]
    },
    {
      "cell_type": "markdown",
      "metadata": {
        "id": "rJaDm_ectjZs"
      },
      "source": [
        "## Часть 3. Классификация текстов [40/100]\n",
        "\n",
        "Сформулируем для простоты задачу бинарной классификации: будем классифицировать на два класса, то есть, различать резко отрицательные отзывы (с оценкой 1) и положительные отзывы (с оценкой 5).\n",
        "\n",
        "Используйте accuracy и F-measure для оценки качества классификации. \n",
        "\n",
        "Эта часть задания может быть сделана с использованием sklearn. "
      ]
    },
    {
      "cell_type": "markdown",
      "metadata": {
        "id": "ZHWQOc9mWeTG"
      },
      "source": [
        "1.  Составьте обучающее и тестовое множество: выберите из всего набора данных N1 отзывов с оценкой 1 и N2 отзывов с оценкой 5 (значение N1 и N2 – на ваше усмотрение). Используйте ```sklearn.model_selection.train_test_split``` для разделения множества отобранных документов на обучающее и тестовое."
      ]
    },
    {
      "cell_type": "code",
      "metadata": {
        "id": "nvBhl-fOXMF5"
      },
      "source": [
        "from sklearn.model_selection import train_test_split\n",
        "from sklearn.feature_extraction.text import CountVectorizer, TfidfVectorizer, TfidfTransformer\n",
        "from sklearn.linear_model import LogisticRegression\n",
        "from sklearn.ensemble import RandomForestClassifier\n",
        "from sklearn.pipeline import Pipeline\n",
        "from sklearn.decomposition import TruncatedSVD, LatentDirichletAllocation\n",
        "from sklearn.metrics import classification_report, accuracy_score"
      ],
      "execution_count": 65,
      "outputs": []
    },
    {
      "cell_type": "code",
      "metadata": {
        "id": "UY8ayXqtk4t0"
      },
      "source": [
        "N1 = 1000\n",
        "N2 = 1000\n",
        "\n",
        "selected = df[df[\"rating_grade\"] == 1.0].head(N1).append(df[df[\"rating_grade\"] == 5.0].head(N2))\n",
        "x_train, x_test, y_train, y_test = train_test_split(selected[\"text_mdf\"], selected[\"rating_grade\"])"
      ],
      "execution_count": 66,
      "outputs": []
    },
    {
      "cell_type": "markdown",
      "metadata": {
        "id": "SCVbwfCTV02y"
      },
      "source": [
        "2. Используйте любой известный вам алгоритм классификации текстов для решения задачи и получите baseline. Сравните разные варианты векторизации текста: использование только униграм, пар или троек слов или с использованием символьных $n$-грам."
      ]
    },
    {
      "cell_type": "code",
      "metadata": {
        "id": "2P7_6vdrk5Cu"
      },
      "source": [
        "def classificate(vectorizer, classifier, x_train, x_test, y_train, y_test):\n",
        "    model = Pipeline([\n",
        "        ('vect', vectorizer),\n",
        "        ('clf', classifier),\n",
        "    ])\n",
        "    model.fit(x_train, y_train)\n",
        "    y_pred = model.predict(x_test)\n",
        "    print(classification_report(y_pred, y_test))"
      ],
      "execution_count": 67,
      "outputs": []
    },
    {
      "cell_type": "code",
      "metadata": {
        "id": "9Qw-DbNBk5Er",
        "colab": {
          "base_uri": "https://localhost:8080/"
        },
        "outputId": "dfd63889-98e4-4b7a-e8dd-4268da33cd31"
      },
      "source": [
        "classificate(CountVectorizer(analyzer='word', ngram_range=(1, 1)), RandomForestClassifier(), x_train, x_test, y_train, y_test)"
      ],
      "execution_count": 68,
      "outputs": [
        {
          "output_type": "stream",
          "text": [
            "              precision    recall  f1-score   support\n",
            "\n",
            "         1.0       0.95      0.86      0.90       265\n",
            "         5.0       0.86      0.95      0.90       235\n",
            "\n",
            "    accuracy                           0.90       500\n",
            "   macro avg       0.90      0.90      0.90       500\n",
            "weighted avg       0.91      0.90      0.90       500\n",
            "\n"
          ],
          "name": "stdout"
        }
      ]
    },
    {
      "cell_type": "code",
      "metadata": {
        "id": "aMKgpRhQk5HY",
        "colab": {
          "base_uri": "https://localhost:8080/"
        },
        "outputId": "0ed1b08e-8c2d-4b18-da8e-5aafd337e4ed"
      },
      "source": [
        "classificate(CountVectorizer(analyzer='word', ngram_range=(2, 3)), RandomForestClassifier(), x_train, x_test, y_train, y_test)"
      ],
      "execution_count": 69,
      "outputs": [
        {
          "output_type": "stream",
          "text": [
            "              precision    recall  f1-score   support\n",
            "\n",
            "         1.0       0.64      0.90      0.75       171\n",
            "         5.0       0.93      0.74      0.83       329\n",
            "\n",
            "    accuracy                           0.79       500\n",
            "   macro avg       0.79      0.82      0.79       500\n",
            "weighted avg       0.83      0.79      0.80       500\n",
            "\n"
          ],
          "name": "stdout"
        }
      ]
    },
    {
      "cell_type": "code",
      "metadata": {
        "id": "RSDe_YgQk5L5",
        "colab": {
          "base_uri": "https://localhost:8080/"
        },
        "outputId": "5741d100-4a58-45f5-d05e-09cd144d46b3"
      },
      "source": [
        "classificate(CountVectorizer(analyzer='char', ngram_range=(1, 1)), RandomForestClassifier(), x_train, x_test, y_train, y_test)"
      ],
      "execution_count": 70,
      "outputs": [
        {
          "output_type": "stream",
          "text": [
            "              precision    recall  f1-score   support\n",
            "\n",
            "         1.0       0.73      0.69      0.71       255\n",
            "         5.0       0.69      0.73      0.71       245\n",
            "\n",
            "    accuracy                           0.71       500\n",
            "   macro avg       0.71      0.71      0.71       500\n",
            "weighted avg       0.71      0.71      0.71       500\n",
            "\n"
          ],
          "name": "stdout"
        }
      ]
    },
    {
      "cell_type": "markdown",
      "metadata": {
        "id": "uD8OLvVq6BRK"
      },
      "source": [
        "Как видим, классификация с использованием n-грамм на словах дало лучшие метерики. Возможно, это произошло потому, что сочетания слов менее полезны в классификации, а символьные n-граммы недостаточно информативны."
      ]
    },
    {
      "cell_type": "markdown",
      "metadata": {
        "id": "dT74gGR4WqCj"
      },
      "source": [
        "3. Сравните, как изменяется качество решения задачи при использовании скрытых тем в качестве признаков:\n",
        "* 1-ый вариант: $tf-idf$ преобразование (```sklearn.feature_extraction.text.TfidfTransformer```) и сингулярное разложение (оно же – латентый семантический анализ) (```sklearn.decomposition.TruncatedSVD```)"
      ]
    },
    {
      "cell_type": "code",
      "metadata": {
        "id": "OWrXiDYyk5OW"
      },
      "source": [
        "def classificate2(vectorizer1, vectorizer2, vectorizer3, classifier, x_train, x_test, y_train, y_test):\n",
        "    model = Pipeline([ \n",
        "        ('vect', vectorizer1), \n",
        "        ('tfidf', vectorizer2), \n",
        "        ('tm', vectorizer3), \n",
        "        ('clf', classifier),\n",
        "    ])\n",
        "    model.fit(x_train, y_train)\n",
        "    y_pred = model.predict(x_test)\n",
        "    print(classification_report(y_pred, y_test))"
      ],
      "execution_count": 71,
      "outputs": []
    },
    {
      "cell_type": "code",
      "metadata": {
        "id": "s-EAR4ORk5RL",
        "colab": {
          "base_uri": "https://localhost:8080/"
        },
        "outputId": "d87729e2-e4bc-4411-d601-37f50df6dfd2"
      },
      "source": [
        "classificate2(CountVectorizer(analyzer='word', ngram_range=(1, 1)), TfidfTransformer(), TruncatedSVD(), RandomForestClassifier(), x_train, x_test, y_train, y_test)"
      ],
      "execution_count": 72,
      "outputs": [
        {
          "output_type": "stream",
          "text": [
            "              precision    recall  f1-score   support\n",
            "\n",
            "         1.0       0.71      0.75      0.73       229\n",
            "         5.0       0.78      0.75      0.76       271\n",
            "\n",
            "    accuracy                           0.75       500\n",
            "   macro avg       0.74      0.75      0.75       500\n",
            "weighted avg       0.75      0.75      0.75       500\n",
            "\n"
          ],
          "name": "stdout"
        }
      ]
    },
    {
      "cell_type": "markdown",
      "metadata": {
        "id": "OdhqZkQC7EwV"
      },
      "source": [
        "Результат сравним с 2-3-граммами, но проигрывает словам 1-граммам."
      ]
    },
    {
      "cell_type": "markdown",
      "metadata": {
        "id": "HuJiZU9eWxTV"
      },
      "source": [
        "* 2-ой вариант: тематические модели LDA (```sklearn.decomposition.LatentDirichletAllocation```)."
      ]
    },
    {
      "cell_type": "code",
      "metadata": {
        "id": "2KjrlcjsWMmf"
      },
      "source": [
        "def classificate3(vectorizer1, vectorizer2, classifier, x_train, x_test, y_train, y_test):\n",
        "    model = Pipeline([ \n",
        "        ('vect', vectorizer1), \n",
        "        ('lda', vectorizer2), \n",
        "        ('clf', classifier),\n",
        "    ])\n",
        "    model.fit(x_train, y_train)\n",
        "    y_pred = model.predict(x_test)\n",
        "    print(classification_report(y_pred, y_test))"
      ],
      "execution_count": 73,
      "outputs": []
    },
    {
      "cell_type": "code",
      "metadata": {
        "id": "6wc2TNMhWMpW",
        "colab": {
          "base_uri": "https://localhost:8080/"
        },
        "outputId": "3f5fe3df-3bda-499c-9ac4-08348c3d7f0a"
      },
      "source": [
        "classificate3(CountVectorizer(analyzer='word', ngram_range=(1, 1)), LatentDirichletAllocation(), RandomForestClassifier(), x_train, x_test, y_train, y_test)"
      ],
      "execution_count": 74,
      "outputs": [
        {
          "output_type": "stream",
          "text": [
            "              precision    recall  f1-score   support\n",
            "\n",
            "         1.0       0.79      0.83      0.81       227\n",
            "         5.0       0.85      0.81      0.83       273\n",
            "\n",
            "    accuracy                           0.82       500\n",
            "   macro avg       0.82      0.82      0.82       500\n",
            "weighted avg       0.82      0.82      0.82       500\n",
            "\n"
          ],
          "name": "stdout"
        }
      ]
    },
    {
      "cell_type": "markdown",
      "metadata": {
        "id": "IeQ4X_wM7YiS"
      },
      "source": [
        "Результат получился немного лучше 2-3-грамм, но всё равно хуже варианта со словами из 1-грамм."
      ]
    },
    {
      "cell_type": "code",
      "metadata": {
        "id": "V20KW-h8WMsj",
        "colab": {
          "base_uri": "https://localhost:8080/"
        },
        "outputId": "d90e61f4-690d-445b-deec-ef19b759032e"
      },
      "source": [
        "# clear memory\n",
        "del df\n",
        "del selected\n",
        "del x_train\n",
        "del x_test\n",
        "del y_train\n",
        "del y_test\n",
        "\n",
        "show_memory_usage()"
      ],
      "execution_count": 76,
      "outputs": [
        {
          "output_type": "stream",
          "text": [
            "                       Subplot:  5.4 KiB\n",
            "                        typeNA:  4.6 KiB\n",
            "                    sctypeDict:  4.6 KiB\n"
          ],
          "name": "stdout"
        }
      ]
    }
  ]
}