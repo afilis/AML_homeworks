{
 "cells": [
  {
   "cell_type": "markdown",
   "metadata": {},
   "source": [
    "**Домашнее задание**\n",
    "\n",
    "Возьмите датасет https://www.kaggle.com/ajayrana/hymenoptera-data\n",
    "\n",
    "Реализуйте сверточную нейронную сеть с использованием tf.keras или keras. Используйте сверточные, пуллинговые и полносвязанные слои. Обучите на train выборке в течении 10 эпох, оцените качество на отложенной выборке\n",
    "\n",
    "Добавьте в предыдущую архитектуру слои BatchNorm. Обучите на train выборке в течении 10 эпох, оцените качество на отложенной выборке\n",
    "\n",
    "Создайте модель ResNet 50 (https://www.tensorflow.org/api_docs/python/tf/keras/applications/ResNet50), инициализированную случайными весами, и обучите ее на train выборке в течении 10 эпох, оцените качество на отложенной выборке\n",
    "\n",
    "Создайте модель ResNet 50, инициализированную весами ImageNet, и обучите ее на train выборке в течении 10 эпох, оцените качество на отложенной выборке\n",
    "\n",
    "Результат пришлите в виде Jupyter Notebook на github’е или расшаренного Google Colab-блокнота"
   ]
  },
  {
   "cell_type": "code",
   "execution_count": 1,
   "metadata": {},
   "outputs": [],
   "source": [
    "import numpy as np\n",
    "from scipy import stats\n",
    "import tensorflow as tf\n",
    "from matplotlib import pyplot as plt\n",
    "from sklearn.metrics import accuracy_score, classification_report, confusion_matrix"
   ]
  },
  {
   "cell_type": "markdown",
   "metadata": {},
   "source": [
    "Загрузим изображения, приведем к единому размеру и разделим выборки."
   ]
  },
  {
   "cell_type": "code",
   "execution_count": 2,
   "metadata": {},
   "outputs": [
    {
     "name": "stdout",
     "output_type": "stream",
     "text": [
      "Found 208 images belonging to 2 classes.\n",
      "Found 36 images belonging to 2 classes.\n",
      "Found 153 images belonging to 2 classes.\n"
     ]
    }
   ],
   "source": [
    "shape=(224, 224, 3)\n",
    "batch_size=32\n",
    "seed=42\n",
    "\n",
    "train_generator = tf.keras.preprocessing.image.ImageDataGenerator(rescale=1./255, validation_split=0.15)\n",
    "val_generator = tf.keras.preprocessing.image.ImageDataGenerator(rescale=1./255.)\n",
    "\n",
    "train = train_generator.flow_from_directory(\"hymenoptera_data/train\", target_size=shape[:2], batch_size=batch_size, class_mode='binary', subset='training', seed=seed)\n",
    "test = train_generator.flow_from_directory(\"hymenoptera_data/train\", target_size=shape[:2], batch_size=batch_size, class_mode='binary', subset='validation', seed=seed)\n",
    "val = val_generator.flow_from_directory(\"hymenoptera_data/val\", target_size=shape[:2], batch_size=batch_size, class_mode='binary')\n",
    "\n",
    "x_val = np.concatenate([val.next()[0] for i in range(val.__len__())])\n",
    "y_val = np.concatenate([val.next()[1] for i in range(val.__len__())])"
   ]
  },
  {
   "cell_type": "markdown",
   "metadata": {},
   "source": [
    "Построим простую модель сверточной сети  и обучим ее."
   ]
  },
  {
   "cell_type": "code",
   "execution_count": 3,
   "metadata": {},
   "outputs": [
    {
     "name": "stdout",
     "output_type": "stream",
     "text": [
      "Model: \"sequential\"\n",
      "_________________________________________________________________\n",
      "Layer (type)                 Output Shape              Param #   \n",
      "=================================================================\n",
      "conv2d (Conv2D)              (None, 224, 224, 6)       168       \n",
      "_________________________________________________________________\n",
      "max_pooling2d (MaxPooling2D) (None, 112, 112, 6)       0         \n",
      "_________________________________________________________________\n",
      "conv2d_1 (Conv2D)            (None, 112, 112, 16)      2416      \n",
      "_________________________________________________________________\n",
      "max_pooling2d_1 (MaxPooling2 (None, 56, 56, 16)        0         \n",
      "_________________________________________________________________\n",
      "flatten (Flatten)            (None, 50176)             0         \n",
      "_________________________________________________________________\n",
      "dense (Dense)                (None, 32)                1605664   \n",
      "_________________________________________________________________\n",
      "dense_1 (Dense)              (None, 1)                 33        \n",
      "=================================================================\n",
      "Total params: 1,608,281\n",
      "Trainable params: 1,608,281\n",
      "Non-trainable params: 0\n",
      "_________________________________________________________________\n",
      "Epoch 1/10\n",
      "7/7 [==============================] - 6s 865ms/step - loss: 1.2105 - accuracy: 0.5399 - val_loss: 0.6986 - val_accuracy: 0.6667\n",
      "Epoch 2/10\n",
      "7/7 [==============================] - 3s 464ms/step - loss: 0.6003 - accuracy: 0.6510 - val_loss: 0.6041 - val_accuracy: 0.5556\n",
      "Epoch 3/10\n",
      "7/7 [==============================] - 3s 460ms/step - loss: 0.6268 - accuracy: 0.6852 - val_loss: 0.6016 - val_accuracy: 0.7222\n",
      "Epoch 4/10\n",
      "7/7 [==============================] - 3s 474ms/step - loss: 0.5716 - accuracy: 0.7473 - val_loss: 0.5421 - val_accuracy: 0.6667\n",
      "Epoch 5/10\n",
      "7/7 [==============================] - 3s 460ms/step - loss: 0.5301 - accuracy: 0.7143 - val_loss: 0.5757 - val_accuracy: 0.6389\n",
      "Epoch 6/10\n",
      "7/7 [==============================] - 3s 500ms/step - loss: 0.5359 - accuracy: 0.7154 - val_loss: 0.5277 - val_accuracy: 0.7222\n",
      "Epoch 7/10\n",
      "7/7 [==============================] - 3s 526ms/step - loss: 0.4559 - accuracy: 0.8626 - val_loss: 0.5122 - val_accuracy: 0.7500\n",
      "Epoch 8/10\n",
      "7/7 [==============================] - 4s 490ms/step - loss: 0.3610 - accuracy: 0.9107 - val_loss: 0.4835 - val_accuracy: 0.6944\n",
      "Epoch 9/10\n",
      "7/7 [==============================] - 4s 494ms/step - loss: 0.3035 - accuracy: 0.9220 - val_loss: 0.4616 - val_accuracy: 0.7500\n",
      "Epoch 10/10\n",
      "7/7 [==============================] - 4s 499ms/step - loss: 0.2680 - accuracy: 0.9206 - val_loss: 0.4813 - val_accuracy: 0.7500\n"
     ]
    }
   ],
   "source": [
    "s_model = tf.keras.models.Sequential([\n",
    "    tf.keras.layers.Conv2D(filters=6,\n",
    "                           kernel_size=(3, 3),\n",
    "                           padding='same',\n",
    "                           activation='relu',\n",
    "                           input_shape=shape),\n",
    "    tf.keras.layers.MaxPool2D(pool_size=(2, 2), padding='valid'),\n",
    "    tf.keras.layers.Conv2D(filters=16, \n",
    "                           kernel_size=(5, 5),\n",
    "                           padding='same',\n",
    "                           activation='relu'),\n",
    "    tf.keras.layers.MaxPool2D(pool_size=(2, 2), padding='valid'),\n",
    "    tf.keras.layers.Flatten(),\n",
    "    tf.keras.layers.Dense(32, activation='relu'),\n",
    "    tf.keras.layers.Dense(1, activation='sigmoid')]\n",
    ")\n",
    "\n",
    "s_model.compile(optimizer='adam', loss='binary_crossentropy', metrics=['accuracy'])\n",
    "s_model.summary()\n",
    "s_model.fit(train, validation_data=test, epochs=10);"
   ]
  },
  {
   "cell_type": "markdown",
   "metadata": {},
   "source": [
    "Посчитаем accuracy на отложенной выборке."
   ]
  },
  {
   "cell_type": "code",
   "execution_count": 4,
   "metadata": {},
   "outputs": [
    {
     "name": "stdout",
     "output_type": "stream",
     "text": [
      "Accuracy: 0.4444444444444444\n",
      "\n",
      "Classification Report\n",
      "              precision    recall  f1-score   support\n",
      "\n",
      "         0.0       0.42      0.54      0.47        70\n",
      "         1.0       0.48      0.36      0.41        83\n",
      "\n",
      "    accuracy                           0.44       153\n",
      "   macro avg       0.45      0.45      0.44       153\n",
      "weighted avg       0.45      0.44      0.44       153\n",
      "\n",
      "Confusion matrix\n",
      "[[38 32]\n",
      " [53 30]]\n"
     ]
    }
   ],
   "source": [
    "def score_and_show(model, x, y):\n",
    "    y_pred = model.predict(x).round()\n",
    "    print(f'Accuracy: {accuracy_score(y, y_pred)}')\n",
    "    print('\\nClassification Report')\n",
    "    print(classification_report(y, y_pred))\n",
    "    print('Confusion matrix')\n",
    "    print(confusion_matrix(y, y_pred))\n",
    "\n",
    "\n",
    "score_and_show(s_model, x_val, y_val)"
   ]
  },
  {
   "cell_type": "markdown",
   "metadata": {},
   "source": [
    "Далеко не лучший результат на отложенной выборке."
   ]
  },
  {
   "cell_type": "markdown",
   "metadata": {},
   "source": [
    "Построим модель со слоями батч-нормализации и обучим ее."
   ]
  },
  {
   "cell_type": "code",
   "execution_count": 5,
   "metadata": {},
   "outputs": [
    {
     "name": "stdout",
     "output_type": "stream",
     "text": [
      "Model: \"sequential_1\"\n",
      "_________________________________________________________________\n",
      "Layer (type)                 Output Shape              Param #   \n",
      "=================================================================\n",
      "batch_normalization (BatchNo (None, 224, 224, 3)       12        \n",
      "_________________________________________________________________\n",
      "conv2d_2 (Conv2D)            (None, 224, 224, 6)       168       \n",
      "_________________________________________________________________\n",
      "max_pooling2d_2 (MaxPooling2 (None, 112, 112, 6)       0         \n",
      "_________________________________________________________________\n",
      "batch_normalization_1 (Batch (None, 112, 112, 6)       24        \n",
      "_________________________________________________________________\n",
      "conv2d_3 (Conv2D)            (None, 112, 112, 16)      2416      \n",
      "_________________________________________________________________\n",
      "max_pooling2d_3 (MaxPooling2 (None, 56, 56, 16)        0         \n",
      "_________________________________________________________________\n",
      "batch_normalization_2 (Batch (None, 56, 56, 16)        64        \n",
      "_________________________________________________________________\n",
      "flatten_1 (Flatten)          (None, 50176)             0         \n",
      "_________________________________________________________________\n",
      "dense_2 (Dense)              (None, 32)                1605664   \n",
      "_________________________________________________________________\n",
      "dense_3 (Dense)              (None, 1)                 33        \n",
      "=================================================================\n",
      "Total params: 1,608,381\n",
      "Trainable params: 1,608,331\n",
      "Non-trainable params: 50\n",
      "_________________________________________________________________\n",
      "Epoch 1/10\n",
      "7/7 [==============================] - 6s 823ms/step - loss: 3.0546 - accuracy: 0.5216 - val_loss: 0.7139 - val_accuracy: 0.5000\n",
      "Epoch 2/10\n",
      "7/7 [==============================] - 5s 721ms/step - loss: 1.1864 - accuracy: 0.7852 - val_loss: 0.6830 - val_accuracy: 0.4722\n",
      "Epoch 3/10\n",
      "7/7 [==============================] - 5s 777ms/step - loss: 0.3995 - accuracy: 0.8481 - val_loss: 0.6836 - val_accuracy: 0.4722\n",
      "Epoch 4/10\n",
      "7/7 [==============================] - 5s 715ms/step - loss: 0.1283 - accuracy: 0.9377 - val_loss: 0.6696 - val_accuracy: 0.5000\n",
      "Epoch 5/10\n",
      "7/7 [==============================] - 5s 706ms/step - loss: 0.1067 - accuracy: 0.9446 - val_loss: 0.6676 - val_accuracy: 0.5278\n",
      "Epoch 6/10\n",
      "7/7 [==============================] - 5s 709ms/step - loss: 0.0531 - accuracy: 0.9559 - val_loss: 0.6878 - val_accuracy: 0.4722\n",
      "Epoch 7/10\n",
      "7/7 [==============================] - 5s 713ms/step - loss: 0.0506 - accuracy: 0.9505 - val_loss: 0.7219 - val_accuracy: 0.5000\n",
      "Epoch 8/10\n",
      "7/7 [==============================] - 5s 710ms/step - loss: 0.0288 - accuracy: 0.9752 - val_loss: 0.7654 - val_accuracy: 0.5000\n",
      "Epoch 9/10\n",
      "7/7 [==============================] - 5s 714ms/step - loss: 0.0196 - accuracy: 0.9945 - val_loss: 0.7832 - val_accuracy: 0.4722\n",
      "Epoch 10/10\n",
      "7/7 [==============================] - 5s 709ms/step - loss: 0.0238 - accuracy: 0.9892 - val_loss: 0.7933 - val_accuracy: 0.5278\n"
     ]
    }
   ],
   "source": [
    "b_model = tf.keras.models.Sequential([\n",
    "    tf.keras.layers.Input(shape=shape),\n",
    "    tf.keras.layers.BatchNormalization(),\n",
    "    tf.keras.layers.Conv2D(filters=6,\n",
    "                           kernel_size=(3, 3),\n",
    "                           padding='same',\n",
    "                           activation='relu'),\n",
    "    tf.keras.layers.MaxPool2D(pool_size=(2, 2), padding='valid'),\n",
    "    tf.keras.layers.BatchNormalization(),\n",
    "    tf.keras.layers.Conv2D(filters=16, \n",
    "                           kernel_size=(5, 5),\n",
    "                           padding='same',\n",
    "                           activation='relu'),\n",
    "    tf.keras.layers.MaxPool2D(pool_size=(2, 2), padding='valid'),\n",
    "    tf.keras.layers.BatchNormalization(),\n",
    "    tf.keras.layers.Flatten(),\n",
    "    tf.keras.layers.Dense(32, activation='relu'),\n",
    "    tf.keras.layers.Dense(1, activation='sigmoid')]\n",
    ")\n",
    "\n",
    "b_model.compile(optimizer='adam', loss='binary_crossentropy', metrics=['accuracy'])\n",
    "b_model.summary()\n",
    "b_model.fit(train, validation_data=test, epochs=10);"
   ]
  },
  {
   "cell_type": "markdown",
   "metadata": {},
   "source": [
    "Посчитаем accuracy на отложенной выборке."
   ]
  },
  {
   "cell_type": "code",
   "execution_count": 6,
   "metadata": {},
   "outputs": [
    {
     "name": "stdout",
     "output_type": "stream",
     "text": [
      "Accuracy: 0.43790849673202614\n",
      "\n",
      "Classification Report\n",
      "              precision    recall  f1-score   support\n",
      "\n",
      "         0.0       0.44      0.77      0.56        70\n",
      "         1.0       0.45      0.16      0.23        83\n",
      "\n",
      "    accuracy                           0.44       153\n",
      "   macro avg       0.44      0.46      0.39       153\n",
      "weighted avg       0.44      0.44      0.38       153\n",
      "\n",
      "Confusion matrix\n",
      "[[54 16]\n",
      " [70 13]]\n"
     ]
    }
   ],
   "source": [
    "score_and_show(b_model, x_val, y_val)"
   ]
  },
  {
   "cell_type": "markdown",
   "metadata": {},
   "source": [
    "Как видим, введение батч-нормализации в нашем случае не помогло. Модель явно переобучилась и на отложенной выборке показала более худший результат."
   ]
  },
  {
   "cell_type": "markdown",
   "metadata": {},
   "source": [
    "Построим модель ResNet 50 инициализированную случайными весами и обучим ее."
   ]
  },
  {
   "cell_type": "code",
   "execution_count": 7,
   "metadata": {},
   "outputs": [
    {
     "name": "stdout",
     "output_type": "stream",
     "text": [
      "Model: \"model\"\n",
      "_________________________________________________________________\n",
      "Layer (type)                 Output Shape              Param #   \n",
      "=================================================================\n",
      "input_2 (InputLayer)         [(None, 224, 224, 3)]     0         \n",
      "_________________________________________________________________\n",
      "tf.cast (TFOpLambda)         (None, 224, 224, 3)       0         \n",
      "_________________________________________________________________\n",
      "tf.__operators__.getitem (Sl (None, 224, 224, 3)       0         \n",
      "_________________________________________________________________\n",
      "tf.nn.bias_add (TFOpLambda)  (None, 224, 224, 3)       0         \n",
      "_________________________________________________________________\n",
      "resnet50 (Functional)        (None, None, None, 2048)  23587712  \n",
      "_________________________________________________________________\n",
      "flatten_2 (Flatten)          (None, 100352)            0         \n",
      "_________________________________________________________________\n",
      "dense_4 (Dense)              (None, 1)                 100353    \n",
      "=================================================================\n",
      "Total params: 23,688,065\n",
      "Trainable params: 23,634,945\n",
      "Non-trainable params: 53,120\n",
      "_________________________________________________________________\n",
      "Epoch 1/10\n",
      "7/7 [==============================] - 73s 10s/step - loss: 16.4476 - accuracy: 0.4990 - val_loss: 1669.6913 - val_accuracy: 0.5000\n",
      "Epoch 2/10\n",
      "7/7 [==============================] - 69s 10s/step - loss: 11.8526 - accuracy: 0.4769 - val_loss: 6303.4277 - val_accuracy: 0.5000\n",
      "Epoch 3/10\n",
      "7/7 [==============================] - 69s 10s/step - loss: 7.4778 - accuracy: 0.5239 - val_loss: 8696.8164 - val_accuracy: 0.5000\n",
      "Epoch 4/10\n",
      "7/7 [==============================] - 69s 10s/step - loss: 4.8582 - accuracy: 0.4183 - val_loss: 22639.0273 - val_accuracy: 0.5000\n",
      "Epoch 5/10\n",
      "7/7 [==============================] - 68s 10s/step - loss: 9.6179 - accuracy: 0.5053 - val_loss: 9741.6006 - val_accuracy: 0.5000\n",
      "Epoch 6/10\n",
      "7/7 [==============================] - 69s 10s/step - loss: 8.7135 - accuracy: 0.4991 - val_loss: 101.7142 - val_accuracy: 0.5000\n",
      "Epoch 7/10\n",
      "7/7 [==============================] - 69s 10s/step - loss: 6.8731 - accuracy: 0.4051 - val_loss: 697.9512 - val_accuracy: 0.5000\n",
      "Epoch 8/10\n",
      "7/7 [==============================] - 68s 10s/step - loss: 4.9922 - accuracy: 0.5114 - val_loss: 334.5601 - val_accuracy: 0.5000\n",
      "Epoch 9/10\n",
      "7/7 [==============================] - 69s 10s/step - loss: 5.5530 - accuracy: 0.4754 - val_loss: 18.2957 - val_accuracy: 0.5000\n",
      "Epoch 10/10\n",
      "7/7 [==============================] - 69s 10s/step - loss: 4.1940 - accuracy: 0.4645 - val_loss: 79.4756 - val_accuracy: 0.5000\n"
     ]
    }
   ],
   "source": [
    "i = tf.keras.layers.Input(shape, dtype=tf.uint8)\n",
    "o = tf.cast(i, tf.float32)\n",
    "o = tf.keras.applications.resnet50.preprocess_input(o)\n",
    "o = tf.keras.applications.ResNet50(include_top=False, weights=None)(o)\n",
    "o = tf.keras.layers.Flatten()(o)\n",
    "o = tf.keras.layers.Dense(1, activation='sigmoid')(o)\n",
    "\n",
    "rnnw_model = tf.keras.Model(inputs=[i], outputs=[o])\n",
    "rnnw_model.compile(optimizer='adam', loss='binary_crossentropy', metrics=['accuracy'])\n",
    "rnnw_model.summary()\n",
    "rnnw_model.fit(train, validation_data=test, epochs=10);"
   ]
  },
  {
   "cell_type": "markdown",
   "metadata": {},
   "source": [
    "Посчитаем accuracy на отложенной выборке."
   ]
  },
  {
   "cell_type": "code",
   "execution_count": 8,
   "metadata": {},
   "outputs": [
    {
     "name": "stdout",
     "output_type": "stream",
     "text": [
      "Accuracy: 0.45751633986928103\n",
      "\n",
      "Classification Report\n",
      "              precision    recall  f1-score   support\n",
      "\n",
      "         0.0       0.46      1.00      0.63        70\n",
      "         1.0       0.00      0.00      0.00        83\n",
      "\n",
      "    accuracy                           0.46       153\n",
      "   macro avg       0.23      0.50      0.31       153\n",
      "weighted avg       0.21      0.46      0.29       153\n",
      "\n",
      "Confusion matrix\n",
      "[[70  0]\n",
      " [83  0]]\n"
     ]
    },
    {
     "name": "stderr",
     "output_type": "stream",
     "text": [
      "/media/ilia/Vol3/anaconda3/lib/python3.7/site-packages/sklearn/metrics/_classification.py:1221: UndefinedMetricWarning: Precision and F-score are ill-defined and being set to 0.0 in labels with no predicted samples. Use `zero_division` parameter to control this behavior.\n",
      "  _warn_prf(average, modifier, msg_start, len(result))\n"
     ]
    }
   ],
   "source": [
    "score_and_show(rnnw_model, x_val, y_val)"
   ]
  },
  {
   "cell_type": "markdown",
   "metadata": {},
   "source": [
    "Как видим, модель всегда предсказывает один и тот же класс. Вероятно, слишком мало сэмплов для обучения."
   ]
  },
  {
   "cell_type": "markdown",
   "metadata": {},
   "source": [
    "Построим модель ResNet 50 инициализированную весами ImageNet и обучим ее."
   ]
  },
  {
   "cell_type": "code",
   "execution_count": 9,
   "metadata": {},
   "outputs": [
    {
     "name": "stdout",
     "output_type": "stream",
     "text": [
      "Model: \"model_1\"\n",
      "_________________________________________________________________\n",
      "Layer (type)                 Output Shape              Param #   \n",
      "=================================================================\n",
      "input_5 (InputLayer)         [(None, 224, 224, 3)]     0         \n",
      "_________________________________________________________________\n",
      "tf.cast_1 (TFOpLambda)       (None, 224, 224, 3)       0         \n",
      "_________________________________________________________________\n",
      "tf.__operators__.getitem_1 ( (None, 224, 224, 3)       0         \n",
      "_________________________________________________________________\n",
      "tf.nn.bias_add_1 (TFOpLambda (None, 224, 224, 3)       0         \n",
      "_________________________________________________________________\n",
      "resnet50 (Functional)        (None, None, None, 2048)  23587712  \n",
      "_________________________________________________________________\n",
      "flatten_3 (Flatten)          (None, 100352)            0         \n",
      "_________________________________________________________________\n",
      "dense_5 (Dense)              (None, 1)                 100353    \n",
      "=================================================================\n",
      "Total params: 23,688,065\n",
      "Trainable params: 100,353\n",
      "Non-trainable params: 23,587,712\n",
      "_________________________________________________________________\n",
      "Epoch 1/10\n",
      "7/7 [==============================] - 19s 2s/step - loss: 2.0235 - accuracy: 0.5185 - val_loss: 1.4646 - val_accuracy: 0.5000\n",
      "Epoch 2/10\n",
      "7/7 [==============================] - 16s 2s/step - loss: 1.5861 - accuracy: 0.5080 - val_loss: 1.1809 - val_accuracy: 0.5000\n",
      "Epoch 3/10\n",
      "7/7 [==============================] - 16s 2s/step - loss: 0.9098 - accuracy: 0.5325 - val_loss: 0.9370 - val_accuracy: 0.5278\n",
      "Epoch 4/10\n",
      "7/7 [==============================] - 16s 2s/step - loss: 0.9409 - accuracy: 0.4408 - val_loss: 1.0034 - val_accuracy: 0.5278\n",
      "Epoch 5/10\n",
      "7/7 [==============================] - 16s 2s/step - loss: 0.8684 - accuracy: 0.5197 - val_loss: 0.7539 - val_accuracy: 0.5278\n",
      "Epoch 6/10\n",
      "7/7 [==============================] - 16s 2s/step - loss: 0.7501 - accuracy: 0.5094 - val_loss: 0.7603 - val_accuracy: 0.5278\n",
      "Epoch 7/10\n",
      "7/7 [==============================] - 16s 2s/step - loss: 0.7508 - accuracy: 0.4974 - val_loss: 0.8302 - val_accuracy: 0.5278\n",
      "Epoch 8/10\n",
      "7/7 [==============================] - 16s 2s/step - loss: 0.7424 - accuracy: 0.5510 - val_loss: 0.7432 - val_accuracy: 0.5278\n",
      "Epoch 9/10\n",
      "7/7 [==============================] - 16s 2s/step - loss: 0.6830 - accuracy: 0.5338 - val_loss: 0.7474 - val_accuracy: 0.5278\n",
      "Epoch 10/10\n",
      "7/7 [==============================] - 16s 2s/step - loss: 0.6583 - accuracy: 0.5708 - val_loss: 0.7120 - val_accuracy: 0.5278\n"
     ]
    }
   ],
   "source": [
    "resnet50 = tf.keras.applications.ResNet50(include_top=False, weights='imagenet')\n",
    "resnet50.trainable = False\n",
    "\n",
    "i = tf.keras.layers.Input(shape=shape, dtype=tf.uint8)\n",
    "o = tf.cast(i, tf.float32)\n",
    "o = tf.keras.applications.resnet50.preprocess_input(o)\n",
    "o = resnet50(o)\n",
    "o = tf.keras.layers.Flatten()(o)\n",
    "o = tf.keras.layers.Dense(1, activation='sigmoid')(o)\n",
    "\n",
    "rniw_model = tf.keras.Model(inputs=[i], outputs=[o])\n",
    "rniw_model.compile(optimizer='adam', loss='binary_crossentropy', metrics=['accuracy'])\n",
    "rniw_model.summary()\n",
    "rniw_model.fit(train, validation_data=test, epochs=10);"
   ]
  },
  {
   "cell_type": "markdown",
   "metadata": {},
   "source": [
    "Посчитаем accuracy на отложенной выборке."
   ]
  },
  {
   "cell_type": "code",
   "execution_count": 10,
   "metadata": {},
   "outputs": [
    {
     "name": "stdout",
     "output_type": "stream",
     "text": [
      "Accuracy: 0.5490196078431373\n",
      "\n",
      "Classification Report\n",
      "              precision    recall  f1-score   support\n",
      "\n",
      "         0.0       0.57      0.06      0.10        70\n",
      "         1.0       0.55      0.96      0.70        83\n",
      "\n",
      "    accuracy                           0.55       153\n",
      "   macro avg       0.56      0.51      0.40       153\n",
      "weighted avg       0.56      0.55      0.43       153\n",
      "\n",
      "Confusion matrix\n",
      "[[ 4 66]\n",
      " [ 3 80]]\n"
     ]
    }
   ],
   "source": [
    "score_and_show(rniw_model, x_val, y_val)"
   ]
  },
  {
   "cell_type": "markdown",
   "metadata": {},
   "source": [
    "На модели с весами ImageNet заметно явное предсказание в пользу одиного из классов. Наличие весов помогло модели несколько лучше произвести классификацию. Тем не менее, результы плохие. Как и в предыдущем случае, проблема скорее всего в малом кол-ве сэмплов для обучения."
   ]
  }
 ],
 "metadata": {
  "kernelspec": {
   "display_name": "Python 3",
   "language": "python",
   "name": "python3"
  },
  "language_info": {
   "codemirror_mode": {
    "name": "ipython",
    "version": 3
   },
   "file_extension": ".py",
   "mimetype": "text/x-python",
   "name": "python",
   "nbconvert_exporter": "python",
   "pygments_lexer": "ipython3",
   "version": "3.7.6"
  }
 },
 "nbformat": 4,
 "nbformat_minor": 4
}
