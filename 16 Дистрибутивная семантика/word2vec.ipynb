{
  "nbformat": 4,
  "nbformat_minor": 0,
  "metadata": {
    "colab": {
      "name": "word2vec.ipynb",
      "provenance": [],
      "collapsed_sections": []
    },
    "kernelspec": {
      "display_name": "Python 3",
      "language": "python",
      "name": "python3"
    },
    "language_info": {
      "codemirror_mode": {
        "name": "ipython",
        "version": 3
      },
      "file_extension": ".py",
      "mimetype": "text/x-python",
      "name": "python",
      "nbconvert_exporter": "python",
      "pygments_lexer": "ipython3",
      "version": "3.7.6"
    }
  },
  "cells": [
    {
      "cell_type": "code",
      "metadata": {
        "id": "ywig2z6CtjZN"
      },
      "source": [
        "import json\n",
        "import bz2\n",
        "import re\n",
        "from tqdm import tqdm\n",
        "from scipy import sparse"
      ],
      "execution_count": 1,
      "outputs": []
    },
    {
      "cell_type": "code",
      "metadata": {
        "id": "Q4lQikV9tjZY"
      },
      "source": [
        "import pandas as pd\n",
        "import numpy as np\n",
        "import nltk\n",
        "import matplotlib.pyplot as plt\n",
        "import seaborn as sns\n",
        "import warnings\n",
        "%matplotlib inline"
      ],
      "execution_count": 2,
      "outputs": []
    },
    {
      "cell_type": "markdown",
      "metadata": {
        "id": "529poFPb723o"
      },
      "source": [
        "Подключим Google Drive."
      ]
    },
    {
      "cell_type": "code",
      "metadata": {
        "colab": {
          "base_uri": "https://localhost:8080/"
        },
        "id": "dbUjUQMetrF7",
        "outputId": "1ccff98c-df0c-4cb2-b2c2-b46f2bb1d186"
      },
      "source": [
        "from google.colab import drive\n",
        "drive.mount('/content/drive')\n",
        "\n",
        "base_dir = '/content/drive/MyDrive/Colab Notebooks/004'"
      ],
      "execution_count": 3,
      "outputs": [
        {
          "output_type": "stream",
          "text": [
            "Drive already mounted at /content/drive; to attempt to forcibly remount, call drive.mount(\"/content/drive\", force_remount=True).\n"
          ],
          "name": "stdout"
        }
      ]
    },
    {
      "cell_type": "markdown",
      "metadata": {
        "id": "9DVc1oVS7-ap"
      },
      "source": [
        "Функции, которые помогут отслеживать память и сохранять промежуточные значения, чтобы не допустить превышения лимитов."
      ]
    },
    {
      "cell_type": "code",
      "metadata": {
        "id": "aQj87CmZ-SJ0"
      },
      "source": [
        "import inspect\n",
        "import pickle\n",
        "import os\n",
        "import sys\n",
        "\n",
        "def sizeof_fmt(num, suffix='B'):\n",
        "    ''' by Fred Cirera,  https://stackoverflow.com/a/1094933/1870254, modified'''\n",
        "    for unit in ['','Ki','Mi','Gi','Ti','Pi','Ei','Zi']:\n",
        "        if abs(num) < 1024.0:\n",
        "            return \"%3.1f %s%s\" % (num, unit, suffix)\n",
        "        num /= 1024.0\n",
        "    return \"%.1f %s%s\" % (num, 'Yi', suffix)\n",
        "\n",
        "def show_memory_usage(objs=locals().items()):\n",
        "    for name, size in sorted(((name, sys.getsizeof(value)) for name, value in objs), key=lambda x: -x[1])[:10]:\n",
        "        if name[0] != '_' and name not in ['rcParams', 'rcParamsDefault', 'rcParamsOrig', 'sctypeNA']:\n",
        "            print(f\"{name:>30}: {sizeof_fmt(size):>8}\")\n",
        "\n",
        "def save_pickle(obj, fname, dir=base_dir):\n",
        "    full_fname = dir + '/' + fname\n",
        "    with open(full_fname, 'wb') as pickle_file:\n",
        "        pickle.dump(obj, pickle_file)\n",
        "    print(f\"saved \\\"{fname}\\\" ({sizeof_fmt(os.path.getsize(full_fname))}).\")\n",
        "\n",
        "def load_pickle(fname, dir=base_dir):\n",
        "    full_fname = dir + '/' + fname\n",
        "    with open(full_fname, 'rb') as pickle_file:\n",
        "        obj = pickle.load(pickle_file)\n",
        "    print(f\"loaded \\\"{fname}\\\" ({sizeof_fmt(os.path.getsize(full_fname))}).\")\n",
        "    return obj"
      ],
      "execution_count": 4,
      "outputs": []
    },
    {
      "cell_type": "code",
      "metadata": {
        "colab": {
          "base_uri": "https://localhost:8080/"
        },
        "id": "qWqyMLj2tjZb",
        "scrolled": true,
        "outputId": "9d5e561d-7bd0-467a-8126-1c42ced3c3aa"
      },
      "source": [
        "responses = []\n",
        "with bz2.BZ2File(base_dir + '/banki_responses.json.bz2', 'r') as thefile:\n",
        "    for row in tqdm(thefile):\n",
        "        resp = json.loads(row)\n",
        "        if not resp['rating_not_checked'] and (len(resp['text'].split()) > 0):\n",
        "            responses.append(resp)\n",
        "\n",
        "save_pickle(responses, \"responses.pickle\")"
      ],
      "execution_count": 8,
      "outputs": [
        {
          "output_type": "stream",
          "text": [
            "201030it [02:54, 1150.88it/s]\n"
          ],
          "name": "stderr"
        },
        {
          "output_type": "stream",
          "text": [
            "saved \"responses.pickle\" (470.2 MiB).\n"
          ],
          "name": "stdout"
        }
      ]
    },
    {
      "cell_type": "markdown",
      "metadata": {
        "id": "pv-zIu2MtjZc"
      },
      "source": [
        "#  Домашнее задание по NLP # 2 [100 баллов]  \n",
        "## Составление словарей для классификации по тональности\n",
        "\n",
        "При классификации текстов или предложений по тональности необходимо использовать оценочные словари для предметной области, то есть, такие словари, в которых содержатся отрицательные и позитивные слова для какой-то предметной области. Идея подобных словарей основана на следующих наблюдениях: во-первых, для разных товаров используются разные оценочные слова (например бывает “захватывающая книга”, но не бывает “захватывающих лыж”), во-вторых, в контексте разных товаров одни и те же слова могут иметь разную окраску (слово “тормоз” в отзыве на велосипед имеет нейтральную окраску, в отзыве на компьютер – резко негативную, “пыль” в контексте пылесосов – нейтральную, в контексте кофемолок – положительную (“мелкий помол в пыль”)). Еще один пример: “теплое пиво” – это плохо, а “теплый свитер” – это хорошо.\n",
        "\n",
        "Составление таких словарей в ручную – трудоемкий процесс, но, к счастью, его не сложно автоматизировать, если собрать достаточно большие корпуса отзывов. В этом домашнем задании вам предстоит попробовать реализовать один их подходов к составлению оценочных словарей, основанный на статье Inducing Domain-Specific Sentiment Lexicons from Unlabeled Corpora ([https://nlp.stanford.edu/pubs/hamilton2016inducing.pdf](https://nlp.stanford.edu/pubs/hamilton2016inducing.pdf)).\n",
        "\n",
        "Данные для задания – уже знакомые вам отзывы на банки, собранные с нескольких сайтов Рунета. Отзывы могут быть как положительными (оценка 5), так и отрицательными (оценка 1).\n",
        "\n",
        "1) Разбейте всю коллекцию отзывов на предложения. Лемматизируйте все слова.\n",
        "Обучите по коллекции предложений word2vec\n",
        "\n",
        "2) Приведите несколько удачных и неудачных примеров решения стандартных текстов для word2vec:  \n",
        "- тест на определение ближайших слов\n",
        "- тест на аналогии (мужчина – король : женщина – королева)\n",
        "- тест на определение лишнего слова.\n",
        "\n",
        "3) Постройте несколько визуализаций:\n",
        "- TSNE для топ-100 (или топ-500) слов и найдите осмысленные кластеры слов\n",
        "- задайте координаты для нового пространства следующим образом: одна ось описывает отношение \"плохо – хорошо\", вторая – \"медленно – быстро\" и найдите координаты названий банков в этих координатах. Более формально: берем вектор слова \"хорошо\", вычитаем из него вектор слова \"плохо\", получаем новый вектор, который описывает разницу между хорошими и плохими словами. Берем вектор слова \"сбербанк\" и умножаем его на этот новый вектор – получаем координату по первой оси. Аналогично – для второй оси. Две координаты уже можно нарисовать на плоскости.\n",
        "\n",
        "Ссылка на примеры визуализаций: [https://towardsdatascience.com/game-of-thrones-word-embeddings-does-r-l-j-part-2-30290b1c0b4b](https://towardsdatascience.com/game-of-thrones-word-embeddings-does-r-l-j-part-2-30290b1c0b4b)\n"
      ]
    },
    {
      "cell_type": "code",
      "metadata": {
        "colab": {
          "base_uri": "https://localhost:8080/"
        },
        "id": "0dM2ojINtjZe",
        "outputId": "965b7750-46fc-45f3-bf3a-d88a302a16ab"
      },
      "source": [
        "responses[99]"
      ],
      "execution_count": null,
      "outputs": [
        {
          "output_type": "execute_result",
          "data": {
            "text/plain": [
              "{'author': 'ronnichka',\n",
              " 'bank_license': 'лицензия № 880',\n",
              " 'bank_name': 'Югра',\n",
              " 'city': 'г. Саратов',\n",
              " 'datetime': '2015-06-03 20:56:57',\n",
              " 'num_comments': 0,\n",
              " 'rating_grade': 3,\n",
              " 'rating_not_checked': False,\n",
              " 'text': 'Здравствуйте! Хотела написать, что мне месяц не выдают карту ко вкладу, ссылаясь на \"нам же их из Самары везут\" (на секундочку 5 часов езды от нашего города). Но! Прочитала, что людям 3,5 месяцев не выдают карту, и поняла, что у меня все хорошо, пока что. И подарок мне дали, и кулер в отделении есть. Так что я, конечно, готова ждать. Правда хотелось бы не очень долго.',\n",
              " 'title': 'Карта ко вкладу'}"
            ]
          },
          "metadata": {
            "tags": []
          },
          "execution_count": 5
        }
      ]
    },
    {
      "cell_type": "markdown",
      "metadata": {
        "id": "k5GnLZsYTfgC"
      },
      "source": [
        "1) Разбейте всю коллекцию отзывов на предложения. Лемматизируйте все слова.\n",
        "Обучите по коллекции предложений word2vec"
      ]
    },
    {
      "cell_type": "markdown",
      "metadata": {
        "id": "sRM3nSHmnn_0"
      },
      "source": [
        "Убираем из данных небуквенные символы, приводим все к нижнему регистру и токенизируем. На выходе получается массив из предложений, каждое из которых представляет собой массив слов."
      ]
    },
    {
      "cell_type": "code",
      "metadata": {
        "colab": {
          "base_uri": "https://localhost:8080/"
        },
        "id": "wg1Ba4PwnEsa",
        "outputId": "dec42bdd-39bf-461b-edb5-45900263c71d"
      },
      "source": [
        "import re\n",
        "import nltk\n",
        "from nltk.corpus import stopwords\n",
        "\n",
        "nltk.download('punkt')\n",
        "nltk.download('stopwords')\n",
        "tokenizer = nltk.data.load('tokenizers/punkt/russian.pickle')"
      ],
      "execution_count": 6,
      "outputs": [
        {
          "output_type": "stream",
          "text": [
            "[nltk_data] Downloading package punkt to /root/nltk_data...\n",
            "[nltk_data]   Unzipping tokenizers/punkt.zip.\n",
            "[nltk_data] Downloading package stopwords to /root/nltk_data...\n",
            "[nltk_data]   Package stopwords is already up-to-date!\n"
          ],
          "name": "stdout"
        }
      ]
    },
    {
      "cell_type": "code",
      "metadata": {
        "id": "iLCQU6cQnEqM"
      },
      "source": [
        "def review_to_wordlist(review, stops):\n",
        "    words = re.sub(\"[^а-я]\", \" \", review.lower()).split()\n",
        "    words = [w for w in words if not w in stops]\n",
        "    return words\n",
        "\n",
        "def review_to_sentences(review, tokenizer, stops):\n",
        "    raw_sentences = tokenizer.tokenize(review.strip())\n",
        "    sentences = []\n",
        "    for raw_sentence in raw_sentences:\n",
        "        if len(raw_sentence) > 0:\n",
        "            sentences.append(review_to_wordlist(raw_sentence, stops))\n",
        "    return sentences"
      ],
      "execution_count": 7,
      "outputs": []
    },
    {
      "cell_type": "code",
      "metadata": {
        "id": "YG44_0Ua0EEk",
        "colab": {
          "base_uri": "https://localhost:8080/"
        },
        "outputId": "c636e887-767c-4d03-acfe-098bd23bb4e7"
      },
      "source": [
        "stops = stopwords.words(\"russian\") + ['это', 'наш' , 'тыс', 'млн', 'млрд', 'также',  'т', 'д']\n",
        "for word in ['хорошо', 'плохо', 'быстро', 'медленно']: # понадобятся в задании\n",
        "    if word in stops:\n",
        "        stops.remove(word)\n",
        "sentences = []\n",
        "for response in tqdm(responses, position=0, leave=True):\n",
        "    sentences += review_to_sentences(response[\"text\"], tokenizer, stops)"
      ],
      "execution_count": 8,
      "outputs": [
        {
          "output_type": "stream",
          "text": [
            "100%|██████████| 153499/153499 [03:49<00:00, 669.90it/s] \n"
          ],
          "name": "stderr"
        }
      ]
    },
    {
      "cell_type": "code",
      "metadata": {
        "colab": {
          "base_uri": "https://localhost:8080/"
        },
        "id": "irhV6cwwtYuK",
        "outputId": "72718bca-ab3f-4196-bdff-69cb49c8511f"
      },
      "source": [
        "len(sentences), sentences[0]"
      ],
      "execution_count": 9,
      "outputs": [
        {
          "output_type": "execute_result",
          "data": {
            "text/plain": [
              "(2462655, ['добрый', 'день'])"
            ]
          },
          "metadata": {
            "tags": []
          },
          "execution_count": 9
        }
      ]
    },
    {
      "cell_type": "markdown",
      "metadata": {
        "id": "d0QvgLvBMPPs"
      },
      "source": [
        "Сохраним список банков, он нам потребуется далее."
      ]
    },
    {
      "cell_type": "code",
      "metadata": {
        "colab": {
          "base_uri": "https://localhost:8080/"
        },
        "id": "UD_hO9i4HmW-",
        "outputId": "7208859f-6974-4377-96fa-273a2065d358"
      },
      "source": [
        "from collections import Counter\n",
        "\n",
        "counter = Counter([response[\"bank_name\"] for response in responses])\n",
        "banks = list(counter.keys())\n",
        "banks[:10]"
      ],
      "execution_count": 10,
      "outputs": [
        {
          "output_type": "execute_result",
          "data": {
            "text/plain": [
              "['Бинбанк',\n",
              " 'Сбербанк России',\n",
              " 'ОТП Банк',\n",
              " 'Гагаринский',\n",
              " 'Тинькофф Банк',\n",
              " 'Восточный Экспресс Банк',\n",
              " 'ВТБ 24',\n",
              " 'Альфа-Банк',\n",
              " 'БИНБАНК кредитные карты',\n",
              " 'МТС Банк']"
            ]
          },
          "metadata": {
            "tags": []
          },
          "execution_count": 10
        }
      ]
    },
    {
      "cell_type": "code",
      "metadata": {
        "colab": {
          "base_uri": "https://localhost:8080/"
        },
        "id": "fdHykr-xnEob",
        "outputId": "7020cf07-25d4-4d1b-b11a-dd8e1fc74dad"
      },
      "source": [
        "# clear memory\n",
        "del responses\n",
        "del counter\n",
        "del stops\n",
        "\n",
        "show_memory_usage()"
      ],
      "execution_count": 11,
      "outputs": [
        {
          "output_type": "stream",
          "text": [
            "                     sentences: 20.5 MiB\n",
            "                         banks:  6.0 KiB\n",
            "                          tqdm:  2.0 KiB\n",
            "                       Counter:  1.0 KiB\n",
            "                      response:  376.0 B\n"
          ],
          "name": "stdout"
        }
      ]
    },
    {
      "cell_type": "code",
      "metadata": {
        "colab": {
          "base_uri": "https://localhost:8080/"
        },
        "id": "8Ph2eUQ9RKIA",
        "outputId": "34c49c5e-57c5-4a80-f1ce-2d513602a1de"
      },
      "source": [
        "save_pickle(sentences, \"sentences.pickle\")\n",
        "save_pickle(banks, \"banks.pickle\")"
      ],
      "execution_count": 12,
      "outputs": [
        {
          "output_type": "stream",
          "text": [
            "saved \"sentences.pickle\" (526.3 MiB).\n",
            "saved \"banks.pickle\" (23.4 KiB).\n"
          ],
          "name": "stdout"
        }
      ]
    },
    {
      "cell_type": "code",
      "metadata": {
        "id": "SrwjTjr6nEkT"
      },
      "source": [
        "!pip install pymorphy2 >/dev/null"
      ],
      "execution_count": 13,
      "outputs": []
    },
    {
      "cell_type": "code",
      "metadata": {
        "id": "i2Dee_CXnEiC",
        "colab": {
          "base_uri": "https://localhost:8080/"
        },
        "outputId": "3e21ba6f-5880-42ff-8561-55d2432b18cd"
      },
      "source": [
        "from pymorphy2 import MorphAnalyzer # https://pymorphy2.readthedocs.io/en/0.2/user/index.html\n",
        "\n",
        "\n",
        "analyzer = MorphAnalyzer()\n",
        "sentences_lemmas = []\n",
        "for sentence in tqdm(sentences, position=0, leave=True):\n",
        "    lms = []\n",
        "    for word in sentence:\n",
        "        lms.append(analyzer.parse(word)[0].normal_form)\n",
        "    sentences_lemmas.append(lms)"
      ],
      "execution_count": 14,
      "outputs": [
        {
          "output_type": "stream",
          "text": [
            "100%|██████████| 2462655/2462655 [1:18:22<00:00, 523.72it/s]\n"
          ],
          "name": "stderr"
        }
      ]
    },
    {
      "cell_type": "code",
      "metadata": {
        "colab": {
          "base_uri": "https://localhost:8080/"
        },
        "id": "0G0qKp86nEgM",
        "outputId": "204990b0-5fde-436a-ce32-194ed7057897"
      },
      "source": [
        "save_pickle(sentences_lemmas, \"sentences_lemmas.pickle\")"
      ],
      "execution_count": 15,
      "outputs": [
        {
          "output_type": "stream",
          "text": [
            "saved \"sentences_lemmas.pickle\" (515.5 MiB).\n"
          ],
          "name": "stdout"
        }
      ]
    },
    {
      "cell_type": "code",
      "metadata": {
        "colab": {
          "base_uri": "https://localhost:8080/"
        },
        "id": "vHqrKR6lreEH",
        "outputId": "d7f0c285-0f8c-4185-cca9-902d7a88a162"
      },
      "source": [
        "# clear memory\n",
        "del sentences\n",
        "\n",
        "show_memory_usage()"
      ],
      "execution_count": 16,
      "outputs": [
        {
          "output_type": "stream",
          "text": [
            "              sentences_lemmas: 18.9 MiB\n",
            "                         banks:  6.0 KiB\n",
            "                          tqdm:  2.0 KiB\n",
            "                 MorphAnalyzer:  1.2 KiB\n",
            "                       Counter:  1.0 KiB\n"
          ],
          "name": "stdout"
        }
      ]
    },
    {
      "cell_type": "markdown",
      "metadata": {
        "id": "8vj_wF-RHaSI"
      },
      "source": [
        "Обучаем модель"
      ]
    },
    {
      "cell_type": "code",
      "metadata": {
        "id": "wSabNt1PnEcF"
      },
      "source": [
        "from gensim.models import word2vec\n",
        "\n",
        "# данные должны быть итерируемым объектом:\n",
        "# size — размер вектора,\n",
        "# window — размер окна наблюдения,\n",
        "# min_count — мин. частотность слова в корпусе,\n",
        "# sg — используемый алгоритм обучения (0 — CBOW, 1 — Skip-gram),\n",
        "# sample — порог для downsampling'a высокочастотных слов,\n",
        "# workers — количество потоков,\n",
        "# alpha — learning rate,\n",
        "# iter — количество итераций,\n",
        "# max_vocab_size — позволяет выставить ограничение по памяти при создании словаря\n",
        "# (т.е. если ограничение превышается, то низкочастотные слова будут выбрасываться).\n",
        "# Для сравнения: 10 млн слов = 1Гб RAM.\n",
        "\n",
        "model = word2vec.Word2Vec(sentences_lemmas, workers=8, size=300, min_count=10, window=10, sample=1e-3)"
      ],
      "execution_count": 17,
      "outputs": []
    },
    {
      "cell_type": "code",
      "metadata": {
        "colab": {
          "base_uri": "https://localhost:8080/"
        },
        "id": "xbpALJkjs4IC",
        "outputId": "0ebca9c9-e96f-458e-83b1-8ef77c90905c"
      },
      "source": [
        "save_pickle(model, \"model.pickle\")"
      ],
      "execution_count": 18,
      "outputs": [
        {
          "output_type": "stream",
          "text": [
            "saved \"model.pickle\" (57.7 MiB).\n"
          ],
          "name": "stdout"
        }
      ]
    },
    {
      "cell_type": "markdown",
      "metadata": {
        "id": "R5dMqFqgnD-B"
      },
      "source": [
        "2) Приведите несколько удачных и неудачных примеров решения стандартных текстов для word2vec:\n",
        "\n",
        "- тест на определение ближайших слов\n",
        "- тест на аналогии (мужчина – король : женщина – королева)\n",
        "- тест на определение лишнего слова."
      ]
    },
    {
      "cell_type": "code",
      "metadata": {
        "colab": {
          "base_uri": "https://localhost:8080/",
          "height": 1000
        },
        "id": "W9Dy2zs_nEYk",
        "outputId": "0b46ef99-dbc5-4dbe-cc1e-0ef99f324aa1"
      },
      "source": [
        "warnings.simplefilter(action='ignore', category=FutureWarning)\n",
        "warnings.simplefilter(action='ignore', category=DeprecationWarning)\n",
        "\n",
        "rows = []\n",
        "count = 10\n",
        "words = [\"доход\", \"стол\", \"коллайдер\", \"солнце\", \"сбербанк\", \"баба\"]\n",
        "for word in words:\n",
        "    if word in model:\n",
        "        for wrd, sim in model.most_similar(positive=[word], topn=count):\n",
        "            rows.append([word, wrd, round(sim, 4)])\n",
        "    else:\n",
        "        rows.append([word, None, None])\n",
        "\n",
        "words = pd.DataFrame(rows, columns=[\"слово\", \"ближайшее\", \"близость\"]).set_index([\"слово\", \"ближайшее\"])\n",
        "words"
      ],
      "execution_count": 19,
      "outputs": [
        {
          "output_type": "execute_result",
          "data": {
            "text/html": [
              "<div>\n",
              "<style scoped>\n",
              "    .dataframe tbody tr th:only-of-type {\n",
              "        vertical-align: middle;\n",
              "    }\n",
              "\n",
              "    .dataframe tbody tr th {\n",
              "        vertical-align: top;\n",
              "    }\n",
              "\n",
              "    .dataframe thead th {\n",
              "        text-align: right;\n",
              "    }\n",
              "</style>\n",
              "<table border=\"1\" class=\"dataframe\">\n",
              "  <thead>\n",
              "    <tr style=\"text-align: right;\">\n",
              "      <th></th>\n",
              "      <th></th>\n",
              "      <th>близость</th>\n",
              "    </tr>\n",
              "    <tr>\n",
              "      <th>слово</th>\n",
              "      <th>ближайшее</th>\n",
              "      <th></th>\n",
              "    </tr>\n",
              "  </thead>\n",
              "  <tbody>\n",
              "    <tr>\n",
              "      <th rowspan=\"10\" valign=\"top\">доход</th>\n",
              "      <th>заработок</th>\n",
              "      <td>0.7114</td>\n",
              "    </tr>\n",
              "    <tr>\n",
              "      <th>ндфл</th>\n",
              "      <td>0.6674</td>\n",
              "    </tr>\n",
              "    <tr>\n",
              "      <th>оклад</th>\n",
              "      <td>0.6258</td>\n",
              "    </tr>\n",
              "    <tr>\n",
              "      <th>зарплата</th>\n",
              "      <td>0.5289</td>\n",
              "    </tr>\n",
              "    <tr>\n",
              "      <th>зп</th>\n",
              "      <td>0.5261</td>\n",
              "    </tr>\n",
              "    <tr>\n",
              "      <th>иждивенец</th>\n",
              "      <td>0.5210</td>\n",
              "    </tr>\n",
              "    <tr>\n",
              "      <th>платёжеспособность</th>\n",
              "      <td>0.4966</td>\n",
              "    </tr>\n",
              "    <tr>\n",
              "      <th>доходность</th>\n",
              "      <td>0.4942</td>\n",
              "    </tr>\n",
              "    <tr>\n",
              "      <th>оборот</th>\n",
              "      <td>0.4887</td>\n",
              "    </tr>\n",
              "    <tr>\n",
              "      <th>стабильный</th>\n",
              "      <td>0.4886</td>\n",
              "    </tr>\n",
              "    <tr>\n",
              "      <th rowspan=\"10\" valign=\"top\">стол</th>\n",
              "      <th>столик</th>\n",
              "      <td>0.7258</td>\n",
              "    </tr>\n",
              "    <tr>\n",
              "      <th>стойка</th>\n",
              "      <td>0.7044</td>\n",
              "    </tr>\n",
              "    <tr>\n",
              "      <th>шкаф</th>\n",
              "      <td>0.6270</td>\n",
              "    </tr>\n",
              "    <tr>\n",
              "      <th>стул</th>\n",
              "      <td>0.6182</td>\n",
              "    </tr>\n",
              "    <tr>\n",
              "      <th>кресло</th>\n",
              "      <td>0.6099</td>\n",
              "    </tr>\n",
              "    <tr>\n",
              "      <th>стекло</th>\n",
              "      <td>0.6072</td>\n",
              "    </tr>\n",
              "    <tr>\n",
              "      <th>спина</th>\n",
              "      <td>0.6034</td>\n",
              "    </tr>\n",
              "    <tr>\n",
              "      <th>перегородка</th>\n",
              "      <td>0.5906</td>\n",
              "    </tr>\n",
              "    <tr>\n",
              "      <th>комната</th>\n",
              "      <td>0.5878</td>\n",
              "    </tr>\n",
              "    <tr>\n",
              "      <th>коридор</th>\n",
              "      <td>0.5834</td>\n",
              "    </tr>\n",
              "    <tr>\n",
              "      <th>коллайдер</th>\n",
              "      <th>NaN</th>\n",
              "      <td>NaN</td>\n",
              "    </tr>\n",
              "    <tr>\n",
              "      <th rowspan=\"10\" valign=\"top\">солнце</th>\n",
              "      <th>снег</th>\n",
              "      <td>0.7216</td>\n",
              "    </tr>\n",
              "    <tr>\n",
              "      <th>луч</th>\n",
              "      <td>0.6896</td>\n",
              "    </tr>\n",
              "    <tr>\n",
              "      <th>солнышко</th>\n",
              "      <td>0.6833</td>\n",
              "    </tr>\n",
              "    <tr>\n",
              "      <th>блестеть</th>\n",
              "      <td>0.6739</td>\n",
              "    </tr>\n",
              "    <tr>\n",
              "      <th>мрамор</th>\n",
              "      <td>0.6680</td>\n",
              "    </tr>\n",
              "    <tr>\n",
              "      <th>пуховик</th>\n",
              "      <td>0.6660</td>\n",
              "    </tr>\n",
              "    <tr>\n",
              "      <th>дождь</th>\n",
              "      <td>0.6649</td>\n",
              "    </tr>\n",
              "    <tr>\n",
              "      <th>шорты</th>\n",
              "      <td>0.6641</td>\n",
              "    </tr>\n",
              "    <tr>\n",
              "      <th>пиво</th>\n",
              "      <td>0.6596</td>\n",
              "    </tr>\n",
              "    <tr>\n",
              "      <th>птица</th>\n",
              "      <td>0.6585</td>\n",
              "    </tr>\n",
              "    <tr>\n",
              "      <th rowspan=\"10\" valign=\"top\">сбербанк</th>\n",
              "      <th>сб</th>\n",
              "      <td>0.6300</td>\n",
              "    </tr>\n",
              "    <tr>\n",
              "      <th>сбер</th>\n",
              "      <td>0.5876</td>\n",
              "    </tr>\n",
              "    <tr>\n",
              "      <th>сбрф</th>\n",
              "      <td>0.5031</td>\n",
              "    </tr>\n",
              "    <tr>\n",
              "      <th>осб</th>\n",
              "      <td>0.4830</td>\n",
              "    </tr>\n",
              "    <tr>\n",
              "      <th>мкб</th>\n",
              "      <td>0.4729</td>\n",
              "    </tr>\n",
              "    <tr>\n",
              "      <th>россельхозбанк</th>\n",
              "      <td>0.4546</td>\n",
              "    </tr>\n",
              "    <tr>\n",
              "      <th>умвд</th>\n",
              "      <td>0.4392</td>\n",
              "    </tr>\n",
              "    <tr>\n",
              "      <th>ситибанк</th>\n",
              "      <td>0.4265</td>\n",
              "    </tr>\n",
              "    <tr>\n",
              "      <th>сбербанковский</th>\n",
              "      <td>0.4236</td>\n",
              "    </tr>\n",
              "    <tr>\n",
              "      <th>атб</th>\n",
              "      <td>0.4217</td>\n",
              "    </tr>\n",
              "    <tr>\n",
              "      <th rowspan=\"10\" valign=\"top\">баба</th>\n",
              "      <th>мужик</th>\n",
              "      <td>0.6845</td>\n",
              "    </tr>\n",
              "    <tr>\n",
              "      <th>пьяный</th>\n",
              "      <td>0.6740</td>\n",
              "    </tr>\n",
              "    <tr>\n",
              "      <th>кукла</th>\n",
              "      <td>0.6688</td>\n",
              "    </tr>\n",
              "    <tr>\n",
              "      <th>некультурный</th>\n",
              "      <td>0.6674</td>\n",
              "    </tr>\n",
              "    <tr>\n",
              "      <th>жилетка</th>\n",
              "      <td>0.6503</td>\n",
              "    </tr>\n",
              "    <tr>\n",
              "      <th>семечко</th>\n",
              "      <td>0.6479</td>\n",
              "    </tr>\n",
              "    <tr>\n",
              "      <th>ботинок</th>\n",
              "      <td>0.6476</td>\n",
              "    </tr>\n",
              "    <tr>\n",
              "      <th>сука</th>\n",
              "      <td>0.6461</td>\n",
              "    </tr>\n",
              "    <tr>\n",
              "      <th>носка</th>\n",
              "      <td>0.6442</td>\n",
              "    </tr>\n",
              "    <tr>\n",
              "      <th>пуховик</th>\n",
              "      <td>0.6424</td>\n",
              "    </tr>\n",
              "  </tbody>\n",
              "</table>\n",
              "</div>"
            ],
            "text/plain": [
              "                              близость\n",
              "слово     ближайшее                   \n",
              "доход     заработок             0.7114\n",
              "          ндфл                  0.6674\n",
              "          оклад                 0.6258\n",
              "          зарплата              0.5289\n",
              "          зп                    0.5261\n",
              "          иждивенец             0.5210\n",
              "          платёжеспособность    0.4966\n",
              "          доходность            0.4942\n",
              "          оборот                0.4887\n",
              "          стабильный            0.4886\n",
              "стол      столик                0.7258\n",
              "          стойка                0.7044\n",
              "          шкаф                  0.6270\n",
              "          стул                  0.6182\n",
              "          кресло                0.6099\n",
              "          стекло                0.6072\n",
              "          спина                 0.6034\n",
              "          перегородка           0.5906\n",
              "          комната               0.5878\n",
              "          коридор               0.5834\n",
              "коллайдер NaN                      NaN\n",
              "солнце    снег                  0.7216\n",
              "          луч                   0.6896\n",
              "          солнышко              0.6833\n",
              "          блестеть              0.6739\n",
              "          мрамор                0.6680\n",
              "          пуховик               0.6660\n",
              "          дождь                 0.6649\n",
              "          шорты                 0.6641\n",
              "          пиво                  0.6596\n",
              "          птица                 0.6585\n",
              "сбербанк  сб                    0.6300\n",
              "          сбер                  0.5876\n",
              "          сбрф                  0.5031\n",
              "          осб                   0.4830\n",
              "          мкб                   0.4729\n",
              "          россельхозбанк        0.4546\n",
              "          умвд                  0.4392\n",
              "          ситибанк              0.4265\n",
              "          сбербанковский        0.4236\n",
              "          атб                   0.4217\n",
              "баба      мужик                 0.6845\n",
              "          пьяный                0.6740\n",
              "          кукла                 0.6688\n",
              "          некультурный          0.6674\n",
              "          жилетка               0.6503\n",
              "          семечко               0.6479\n",
              "          ботинок               0.6476\n",
              "          сука                  0.6461\n",
              "          носка                 0.6442\n",
              "          пуховик               0.6424"
            ]
          },
          "metadata": {
            "tags": []
          },
          "execution_count": 19
        }
      ]
    },
    {
      "cell_type": "markdown",
      "metadata": {
        "id": "h_gVUxvOIZ1f"
      },
      "source": [
        "Со словом \"доход\" модель отлично справилась, что не удивительно, т.к. это слово из тематики.\n",
        "\n",
        "Со словом \"стол\" уже больше неоднозначности. Так в списке соседей есть слова: \"спина\", \"перегородка\", \"коридор\", \"демонстративно\".\n",
        "\n",
        "Слово \"коллайдер\" ожидаемо не было найдено.\n",
        "\n",
        "Слово \"солнце\" тоже собрало немало странных \"соседей\" типа: \"снег\", \"пуховик\", \"шорты\", \"пиво\".\n",
        "\n",
        "Слово \"сбербанк\" в качестве соседей получило другие варианты своего названия и названия других банков, а также набор довольно странных слов.\n",
        "\n",
        "Слово \"баба\" оказалось самым забавным. По списку его соседей сразу можно понять эмочиональный посыл людей употребляющих его и его соседей =)"
      ]
    },
    {
      "cell_type": "markdown",
      "metadata": {
        "id": "9-r9QRMDlsJW"
      },
      "source": [
        "- тест на аналогии (мужчина – король : женщина – королева)"
      ]
    },
    {
      "cell_type": "code",
      "metadata": {
        "colab": {
          "base_uri": "https://localhost:8080/"
        },
        "id": "52yaGlVU1Ya0",
        "outputId": "15e4e1e5-f83b-4fdd-ce6a-b2290eea667b"
      },
      "source": [
        "print(model.wv.most_similar(positive=['должник', 'женщина'], negative=['мужчина'])[0][0]) # если мужчина - это должник, то женщина - ?"
      ],
      "execution_count": 20,
      "outputs": [
        {
          "output_type": "stream",
          "text": [
            "должница\n"
          ],
          "name": "stdout"
        }
      ]
    },
    {
      "cell_type": "markdown",
      "metadata": {
        "id": "VHGEPsNk2pHe"
      },
      "source": [
        "сработало! а если так?"
      ]
    },
    {
      "cell_type": "code",
      "metadata": {
        "colab": {
          "base_uri": "https://localhost:8080/"
        },
        "id": "fvJFqry92zZu",
        "outputId": "febab41f-6912-4fef-9443-72d93d19307e"
      },
      "source": [
        "print(model.wv.most_similar(positive=['молодой', 'женщина'], negative=['мужчина'])[0][0]) # если мужчина - это молодой, то женщина - ?"
      ],
      "execution_count": 21,
      "outputs": [
        {
          "output_type": "stream",
          "text": [
            "пожилое\n"
          ],
          "name": "stdout"
        }
      ]
    },
    {
      "cell_type": "code",
      "metadata": {
        "colab": {
          "base_uri": "https://localhost:8080/"
        },
        "id": "W5CbZmzc5J5c",
        "outputId": "9b2fd33f-db10-48ca-a999-65ac6bc05794"
      },
      "source": [
        "print(model.wv.most_similar(positive=['молодой', 'мужчина'], negative=['мужчина'])[0][0]) # если мужчина - это молодой, то мужчина (снова) - ?"
      ],
      "execution_count": 22,
      "outputs": [
        {
          "output_type": "stream",
          "text": [
            "подневольный\n"
          ],
          "name": "stdout"
        }
      ]
    },
    {
      "cell_type": "markdown",
      "metadata": {
        "id": "uHq39cxb4PK_"
      },
      "source": [
        "Без комметариев =)"
      ]
    },
    {
      "cell_type": "code",
      "metadata": {
        "colab": {
          "base_uri": "https://localhost:8080/"
        },
        "id": "1ILzgroanRwf",
        "outputId": "435a875f-445c-40b4-9b06-6d6298b2ae01"
      },
      "source": [
        "print(model.wv.most_similar(positive=['сбербанк'], negative=['деньга'])[0][0])"
      ],
      "execution_count": 23,
      "outputs": [
        {
          "output_type": "stream",
          "text": [
            "сб\n"
          ],
          "name": "stdout"
        }
      ]
    },
    {
      "cell_type": "markdown",
      "metadata": {
        "id": "3n_Tkwsx5uet"
      },
      "source": [
        "Сбербанк без денег - всё равно Сбербанк. Плохой маркетинг."
      ]
    },
    {
      "cell_type": "code",
      "metadata": {
        "colab": {
          "base_uri": "https://localhost:8080/"
        },
        "id": "6ZfbSuYkIVrj",
        "outputId": "06f8b63d-2300-4b94-d1f9-07537da7683b"
      },
      "source": [
        "print(model.wv.most_similar(positive=['должник', 'деньга'], negative=['долг'])[0][0])"
      ],
      "execution_count": 24,
      "outputs": [
        {
          "output_type": "stream",
          "text": [
            "денежка\n"
          ],
          "name": "stdout"
        }
      ]
    },
    {
      "cell_type": "markdown",
      "metadata": {
        "id": "iaDMVqXG6DqQ"
      },
      "source": [
        "Превращение из должника в кредитора не сработало. В реальной жизни такое тоже, как правило, не работает."
      ]
    },
    {
      "cell_type": "markdown",
      "metadata": {
        "id": "5XUkP-7goI9m"
      },
      "source": [
        "- тест на определение лишнего слова"
      ]
    },
    {
      "cell_type": "code",
      "metadata": {
        "colab": {
          "base_uri": "https://localhost:8080/",
          "height": 35
        },
        "id": "MwTLDX9xnRqC",
        "outputId": "f186b5c4-8e57-43bb-9682-883339195e73"
      },
      "source": [
        "model.wv.doesnt_match(['стол', 'стул', 'яма', 'табурет'])"
      ],
      "execution_count": 25,
      "outputs": [
        {
          "output_type": "execute_result",
          "data": {
            "application/vnd.google.colaboratory.intrinsic+json": {
              "type": "string"
            },
            "text/plain": [
              "'яма'"
            ]
          },
          "metadata": {
            "tags": []
          },
          "execution_count": 25
        }
      ]
    },
    {
      "cell_type": "code",
      "metadata": {
        "colab": {
          "base_uri": "https://localhost:8080/",
          "height": 35
        },
        "id": "3wNHi89ZnRoH",
        "outputId": "48821f22-2376-4b36-d1c8-f01f1ce4bdb6"
      },
      "source": [
        "model.wv.doesnt_match(['наука', 'знание', 'достижение', 'открытие', 'телевизор'])"
      ],
      "execution_count": 26,
      "outputs": [
        {
          "output_type": "execute_result",
          "data": {
            "application/vnd.google.colaboratory.intrinsic+json": {
              "type": "string"
            },
            "text/plain": [
              "'телевизор'"
            ]
          },
          "metadata": {
            "tags": []
          },
          "execution_count": 26
        }
      ]
    },
    {
      "cell_type": "code",
      "metadata": {
        "colab": {
          "base_uri": "https://localhost:8080/",
          "height": 35
        },
        "id": "2eaveGzinRlf",
        "outputId": "439f044a-9d29-41c1-8b57-da9efcd0c87d"
      },
      "source": [
        "model.wv.doesnt_match(['прибыль', 'долг', 'кредит', 'налог', 'задолженность'])"
      ],
      "execution_count": 27,
      "outputs": [
        {
          "output_type": "execute_result",
          "data": {
            "application/vnd.google.colaboratory.intrinsic+json": {
              "type": "string"
            },
            "text/plain": [
              "'прибыль'"
            ]
          },
          "metadata": {
            "tags": []
          },
          "execution_count": 27
        }
      ]
    },
    {
      "cell_type": "code",
      "metadata": {
        "colab": {
          "base_uri": "https://localhost:8080/",
          "height": 35
        },
        "id": "OyfD02I7nRjm",
        "outputId": "bbe77e67-1dea-456f-a845-b4bc0cd222a5"
      },
      "source": [
        "model.wv.doesnt_match(['смысл', 'логика', 'ввод', 'вывод', 'итог', 'результат'])"
      ],
      "execution_count": 28,
      "outputs": [
        {
          "output_type": "execute_result",
          "data": {
            "application/vnd.google.colaboratory.intrinsic+json": {
              "type": "string"
            },
            "text/plain": [
              "'ввод'"
            ]
          },
          "metadata": {
            "tags": []
          },
          "execution_count": 28
        }
      ]
    },
    {
      "cell_type": "code",
      "metadata": {
        "colab": {
          "base_uri": "https://localhost:8080/",
          "height": 35
        },
        "id": "uSXpqdCt8wVv",
        "outputId": "2ec5b0db-5fab-4ef0-cca4-d1d87000071c"
      },
      "source": [
        "model.wv.doesnt_match(['кошка', 'утка', 'собака', 'свинья'])"
      ],
      "execution_count": 37,
      "outputs": [
        {
          "output_type": "execute_result",
          "data": {
            "application/vnd.google.colaboratory.intrinsic+json": {
              "type": "string"
            },
            "text/plain": [
              "'утка'"
            ]
          },
          "metadata": {
            "tags": []
          },
          "execution_count": 37
        }
      ]
    },
    {
      "cell_type": "markdown",
      "metadata": {
        "id": "8oGsH0nq9Nf4"
      },
      "source": [
        "С тестом на поиск лишнего модель отлично справилась."
      ]
    },
    {
      "cell_type": "code",
      "metadata": {
        "colab": {
          "base_uri": "https://localhost:8080/"
        },
        "id": "oLi20Gk6q4Uq",
        "outputId": "c534ccc1-00ba-4692-ad64-0f1e51087f54"
      },
      "source": [
        "show_memory_usage()"
      ],
      "execution_count": 30,
      "outputs": [
        {
          "output_type": "stream",
          "text": [
            "              sentences_lemmas: 18.9 MiB\n",
            "                         words:  7.9 KiB\n",
            "                         banks:  6.0 KiB\n",
            "                          tqdm:  2.0 KiB\n",
            "                 MorphAnalyzer:  1.2 KiB\n",
            "                       Counter:  1.0 KiB\n"
          ],
          "name": "stdout"
        }
      ]
    },
    {
      "cell_type": "markdown",
      "metadata": {
        "id": "CqKB22JZydcI"
      },
      "source": [
        "3) Постройте несколько визуализаций:\n",
        "\n",
        "- TSNE для топ-100 (или топ-500) слов и найдите осмысленные кластеры слов"
      ]
    },
    {
      "cell_type": "code",
      "metadata": {
        "id": "X2mMsXqi-JBN"
      },
      "source": [
        "from nltk import FreqDist\n",
        "from sklearn.manifold import TSNE\n",
        "from bokeh.models import ColumnDataSource, LabelSet\n",
        "from bokeh.plotting import figure, show, output_file\n",
        "from bokeh.io import output_notebook\n",
        "\n",
        "\n",
        "def show_top_words_map(model, sentences_lemmas, top_count):\n",
        "    top_words = []\n",
        "\n",
        "    fd = FreqDist()\n",
        "    for s in tqdm(sentences_lemmas, position=0, leave=True):\n",
        "        fd.update(s)\n",
        "\n",
        "    for w in fd.most_common(top_count):\n",
        "        top_words.append(w[0])\n",
        "        \n",
        "    top_words_vec = model[top_words]\n",
        "\n",
        "    tsne = TSNE(n_components=2, random_state=0)\n",
        "    top_words_tsne = tsne.fit_transform(top_words_vec)\n",
        "\n",
        "    output_notebook()\n",
        "\n",
        "    p = figure(tools=\"pan,wheel_zoom,reset,save\",\n",
        "            toolbar_location=\"above\",\n",
        "            title=f\"word2vec T-SNE (топ-{top_count} слов)\")\n",
        "\n",
        "    source = ColumnDataSource(data=dict(x1=top_words_tsne[:,0],\n",
        "                                        x2=top_words_tsne[:,1],\n",
        "                                        names=top_words))\n",
        "\n",
        "    p.scatter(x=\"x1\", y=\"x2\", size=8, source=source)\n",
        "\n",
        "    labels = LabelSet(x=\"x1\", y=\"x2\", text=\"names\", y_offset=6,\n",
        "                    text_font_size=\"8pt\", text_color=\"#555555\",\n",
        "                    source=source, text_align='center')\n",
        "    p.add_layout(labels)\n",
        "\n",
        "    show(p)"
      ],
      "execution_count": 31,
      "outputs": []
    },
    {
      "cell_type": "code",
      "metadata": {
        "colab": {
          "base_uri": "https://localhost:8080/",
          "height": 634
        },
        "id": "aexBSBPTFydl",
        "outputId": "689bfff6-e136-4ca0-9bef-0a196a19539d"
      },
      "source": [
        "show_top_words_map(model, sentences_lemmas, 100)"
      ],
      "execution_count": 32,
      "outputs": [
        {
          "output_type": "stream",
          "text": [
            "100%|██████████| 2462655/2462655 [00:26<00:00, 94427.97it/s] \n"
          ],
          "name": "stderr"
        },
        {
          "output_type": "display_data",
          "data": {
            "application/javascript": [
              "\n",
              "(function(root) {\n",
              "  function now() {\n",
              "    return new Date();\n",
              "  }\n",
              "\n",
              "  var force = true;\n",
              "\n",
              "  if (typeof root._bokeh_onload_callbacks === \"undefined\" || force === true) {\n",
              "    root._bokeh_onload_callbacks = [];\n",
              "    root._bokeh_is_loading = undefined;\n",
              "  }\n",
              "\n",
              "  var JS_MIME_TYPE = 'application/javascript';\n",
              "  var HTML_MIME_TYPE = 'text/html';\n",
              "  var EXEC_MIME_TYPE = 'application/vnd.bokehjs_exec.v0+json';\n",
              "  var CLASS_NAME = 'output_bokeh rendered_html';\n",
              "\n",
              "  /**\n",
              "   * Render data to the DOM node\n",
              "   */\n",
              "  function render(props, node) {\n",
              "    var script = document.createElement(\"script\");\n",
              "    node.appendChild(script);\n",
              "  }\n",
              "\n",
              "  /**\n",
              "   * Handle when an output is cleared or removed\n",
              "   */\n",
              "  function handleClearOutput(event, handle) {\n",
              "    var cell = handle.cell;\n",
              "\n",
              "    var id = cell.output_area._bokeh_element_id;\n",
              "    var server_id = cell.output_area._bokeh_server_id;\n",
              "    // Clean up Bokeh references\n",
              "    if (id != null && id in Bokeh.index) {\n",
              "      Bokeh.index[id].model.document.clear();\n",
              "      delete Bokeh.index[id];\n",
              "    }\n",
              "\n",
              "    if (server_id !== undefined) {\n",
              "      // Clean up Bokeh references\n",
              "      var cmd = \"from bokeh.io.state import curstate; print(curstate().uuid_to_server['\" + server_id + \"'].get_sessions()[0].document.roots[0]._id)\";\n",
              "      cell.notebook.kernel.execute(cmd, {\n",
              "        iopub: {\n",
              "          output: function(msg) {\n",
              "            var id = msg.content.text.trim();\n",
              "            if (id in Bokeh.index) {\n",
              "              Bokeh.index[id].model.document.clear();\n",
              "              delete Bokeh.index[id];\n",
              "            }\n",
              "          }\n",
              "        }\n",
              "      });\n",
              "      // Destroy server and session\n",
              "      var cmd = \"import bokeh.io.notebook as ion; ion.destroy_server('\" + server_id + \"')\";\n",
              "      cell.notebook.kernel.execute(cmd);\n",
              "    }\n",
              "  }\n",
              "\n",
              "  /**\n",
              "   * Handle when a new output is added\n",
              "   */\n",
              "  function handleAddOutput(event, handle) {\n",
              "    var output_area = handle.output_area;\n",
              "    var output = handle.output;\n",
              "\n",
              "    // limit handleAddOutput to display_data with EXEC_MIME_TYPE content only\n",
              "    if ((output.output_type != \"display_data\") || (!Object.prototype.hasOwnProperty.call(output.data, EXEC_MIME_TYPE))) {\n",
              "      return\n",
              "    }\n",
              "\n",
              "    var toinsert = output_area.element.find(\".\" + CLASS_NAME.split(' ')[0]);\n",
              "\n",
              "    if (output.metadata[EXEC_MIME_TYPE][\"id\"] !== undefined) {\n",
              "      toinsert[toinsert.length - 1].firstChild.textContent = output.data[JS_MIME_TYPE];\n",
              "      // store reference to embed id on output_area\n",
              "      output_area._bokeh_element_id = output.metadata[EXEC_MIME_TYPE][\"id\"];\n",
              "    }\n",
              "    if (output.metadata[EXEC_MIME_TYPE][\"server_id\"] !== undefined) {\n",
              "      var bk_div = document.createElement(\"div\");\n",
              "      bk_div.innerHTML = output.data[HTML_MIME_TYPE];\n",
              "      var script_attrs = bk_div.children[0].attributes;\n",
              "      for (var i = 0; i < script_attrs.length; i++) {\n",
              "        toinsert[toinsert.length - 1].firstChild.setAttribute(script_attrs[i].name, script_attrs[i].value);\n",
              "        toinsert[toinsert.length - 1].firstChild.textContent = bk_div.children[0].textContent\n",
              "      }\n",
              "      // store reference to server id on output_area\n",
              "      output_area._bokeh_server_id = output.metadata[EXEC_MIME_TYPE][\"server_id\"];\n",
              "    }\n",
              "  }\n",
              "\n",
              "  function register_renderer(events, OutputArea) {\n",
              "\n",
              "    function append_mime(data, metadata, element) {\n",
              "      // create a DOM node to render to\n",
              "      var toinsert = this.create_output_subarea(\n",
              "        metadata,\n",
              "        CLASS_NAME,\n",
              "        EXEC_MIME_TYPE\n",
              "      );\n",
              "      this.keyboard_manager.register_events(toinsert);\n",
              "      // Render to node\n",
              "      var props = {data: data, metadata: metadata[EXEC_MIME_TYPE]};\n",
              "      render(props, toinsert[toinsert.length - 1]);\n",
              "      element.append(toinsert);\n",
              "      return toinsert\n",
              "    }\n",
              "\n",
              "    /* Handle when an output is cleared or removed */\n",
              "    events.on('clear_output.CodeCell', handleClearOutput);\n",
              "    events.on('delete.Cell', handleClearOutput);\n",
              "\n",
              "    /* Handle when a new output is added */\n",
              "    events.on('output_added.OutputArea', handleAddOutput);\n",
              "\n",
              "    /**\n",
              "     * Register the mime type and append_mime function with output_area\n",
              "     */\n",
              "    OutputArea.prototype.register_mime_type(EXEC_MIME_TYPE, append_mime, {\n",
              "      /* Is output safe? */\n",
              "      safe: true,\n",
              "      /* Index of renderer in `output_area.display_order` */\n",
              "      index: 0\n",
              "    });\n",
              "  }\n",
              "\n",
              "  // register the mime type if in Jupyter Notebook environment and previously unregistered\n",
              "  if (root.Jupyter !== undefined) {\n",
              "    var events = require('base/js/events');\n",
              "    var OutputArea = require('notebook/js/outputarea').OutputArea;\n",
              "\n",
              "    if (OutputArea.prototype.mime_types().indexOf(EXEC_MIME_TYPE) == -1) {\n",
              "      register_renderer(events, OutputArea);\n",
              "    }\n",
              "  }\n",
              "\n",
              "  \n",
              "  if (typeof (root._bokeh_timeout) === \"undefined\" || force === true) {\n",
              "    root._bokeh_timeout = Date.now() + 5000;\n",
              "    root._bokeh_failed_load = false;\n",
              "  }\n",
              "\n",
              "  var NB_LOAD_WARNING = {'data': {'text/html':\n",
              "     \"<div style='background-color: #fdd'>\\n\"+\n",
              "     \"<p>\\n\"+\n",
              "     \"BokehJS does not appear to have successfully loaded. If loading BokehJS from CDN, this \\n\"+\n",
              "     \"may be due to a slow or bad network connection. Possible fixes:\\n\"+\n",
              "     \"</p>\\n\"+\n",
              "     \"<ul>\\n\"+\n",
              "     \"<li>re-rerun `output_notebook()` to attempt to load from CDN again, or</li>\\n\"+\n",
              "     \"<li>use INLINE resources instead, as so:</li>\\n\"+\n",
              "     \"</ul>\\n\"+\n",
              "     \"<code>\\n\"+\n",
              "     \"from bokeh.resources import INLINE\\n\"+\n",
              "     \"output_notebook(resources=INLINE)\\n\"+\n",
              "     \"</code>\\n\"+\n",
              "     \"</div>\"}};\n",
              "\n",
              "  function display_loaded() {\n",
              "    var el = document.getElementById(null);\n",
              "    if (el != null) {\n",
              "      el.textContent = \"BokehJS is loading...\";\n",
              "    }\n",
              "    if (root.Bokeh !== undefined) {\n",
              "      if (el != null) {\n",
              "        el.textContent = \"BokehJS \" + root.Bokeh.version + \" successfully loaded.\";\n",
              "      }\n",
              "    } else if (Date.now() < root._bokeh_timeout) {\n",
              "      setTimeout(display_loaded, 100)\n",
              "    }\n",
              "  }\n",
              "\n",
              "\n",
              "  function run_callbacks() {\n",
              "    try {\n",
              "      root._bokeh_onload_callbacks.forEach(function(callback) {\n",
              "        if (callback != null)\n",
              "          callback();\n",
              "      });\n",
              "    } finally {\n",
              "      delete root._bokeh_onload_callbacks\n",
              "    }\n",
              "    console.debug(\"Bokeh: all callbacks have finished\");\n",
              "  }\n",
              "\n",
              "  function load_libs(css_urls, js_urls, callback) {\n",
              "    if (css_urls == null) css_urls = [];\n",
              "    if (js_urls == null) js_urls = [];\n",
              "\n",
              "    root._bokeh_onload_callbacks.push(callback);\n",
              "    if (root._bokeh_is_loading > 0) {\n",
              "      console.debug(\"Bokeh: BokehJS is being loaded, scheduling callback at\", now());\n",
              "      return null;\n",
              "    }\n",
              "    if (js_urls == null || js_urls.length === 0) {\n",
              "      run_callbacks();\n",
              "      return null;\n",
              "    }\n",
              "    console.debug(\"Bokeh: BokehJS not loaded, scheduling load and callback at\", now());\n",
              "    root._bokeh_is_loading = css_urls.length + js_urls.length;\n",
              "\n",
              "    function on_load() {\n",
              "      root._bokeh_is_loading--;\n",
              "      if (root._bokeh_is_loading === 0) {\n",
              "        console.debug(\"Bokeh: all BokehJS libraries/stylesheets loaded\");\n",
              "        run_callbacks()\n",
              "      }\n",
              "    }\n",
              "\n",
              "    function on_error(url) {\n",
              "      console.error(\"failed to load \" + url);\n",
              "    }\n",
              "\n",
              "    for (let i = 0; i < css_urls.length; i++) {\n",
              "      const url = css_urls[i];\n",
              "      const element = document.createElement(\"link\");\n",
              "      element.onload = on_load;\n",
              "      element.onerror = on_error.bind(null, url);\n",
              "      element.rel = \"stylesheet\";\n",
              "      element.type = \"text/css\";\n",
              "      element.href = url;\n",
              "      console.debug(\"Bokeh: injecting link tag for BokehJS stylesheet: \", url);\n",
              "      document.body.appendChild(element);\n",
              "    }\n",
              "\n",
              "    const hashes = {\"https://cdn.bokeh.org/bokeh/release/bokeh-2.3.1.min.js\": \"YF85VygJKMVnHE+lLv2AM93Vbstr0yo2TbIu5v8se5Rq3UQAUmcuh4aaJwNlpKwa\", \"https://cdn.bokeh.org/bokeh/release/bokeh-widgets-2.3.1.min.js\": \"KKuas3gevv3PvrlkyCMzffFeaMq5we/a2QsP5AUoS3mJ0jmaCL7jirFJN3GoE/lM\", \"https://cdn.bokeh.org/bokeh/release/bokeh-tables-2.3.1.min.js\": \"MK/uFc3YT18pkvvXRl66tTHjP0/dxoSH2e/eiNMFIguKlun2+WVqaPTWmUy/zvh4\"};\n",
              "\n",
              "    for (let i = 0; i < js_urls.length; i++) {\n",
              "      const url = js_urls[i];\n",
              "      const element = document.createElement('script');\n",
              "      element.onload = on_load;\n",
              "      element.onerror = on_error.bind(null, url);\n",
              "      element.async = false;\n",
              "      element.src = url;\n",
              "      if (url in hashes) {\n",
              "        element.crossOrigin = \"anonymous\";\n",
              "        element.integrity = \"sha384-\" + hashes[url];\n",
              "      }\n",
              "      console.debug(\"Bokeh: injecting script tag for BokehJS library: \", url);\n",
              "      document.head.appendChild(element);\n",
              "    }\n",
              "  };\n",
              "\n",
              "  function inject_raw_css(css) {\n",
              "    const element = document.createElement(\"style\");\n",
              "    element.appendChild(document.createTextNode(css));\n",
              "    document.body.appendChild(element);\n",
              "  }\n",
              "\n",
              "  \n",
              "  var js_urls = [\"https://cdn.bokeh.org/bokeh/release/bokeh-2.3.1.min.js\", \"https://cdn.bokeh.org/bokeh/release/bokeh-widgets-2.3.1.min.js\", \"https://cdn.bokeh.org/bokeh/release/bokeh-tables-2.3.1.min.js\"];\n",
              "  var css_urls = [];\n",
              "  \n",
              "\n",
              "  var inline_js = [\n",
              "    function(Bokeh) {\n",
              "      Bokeh.set_log_level(\"info\");\n",
              "    },\n",
              "    function(Bokeh) {\n",
              "    \n",
              "    \n",
              "    }\n",
              "  ];\n",
              "\n",
              "  function run_inline_js() {\n",
              "    \n",
              "    if (root.Bokeh !== undefined || force === true) {\n",
              "      \n",
              "    for (var i = 0; i < inline_js.length; i++) {\n",
              "      inline_js[i].call(root, root.Bokeh);\n",
              "    }\n",
              "    } else if (Date.now() < root._bokeh_timeout) {\n",
              "      setTimeout(run_inline_js, 100);\n",
              "    } else if (!root._bokeh_failed_load) {\n",
              "      console.log(\"Bokeh: BokehJS failed to load within specified timeout.\");\n",
              "      root._bokeh_failed_load = true;\n",
              "    } else if (force !== true) {\n",
              "      var cell = $(document.getElementById(null)).parents('.cell').data().cell;\n",
              "      cell.output_area.append_execute_result(NB_LOAD_WARNING)\n",
              "    }\n",
              "\n",
              "  }\n",
              "\n",
              "  if (root._bokeh_is_loading === 0) {\n",
              "    console.debug(\"Bokeh: BokehJS loaded, going straight to plotting\");\n",
              "    run_inline_js();\n",
              "  } else {\n",
              "    load_libs(css_urls, js_urls, function() {\n",
              "      console.debug(\"Bokeh: BokehJS plotting callback run at\", now());\n",
              "      run_inline_js();\n",
              "    });\n",
              "  }\n",
              "}(window));"
            ],
            "application/vnd.bokehjs_load.v0+json": "\n(function(root) {\n  function now() {\n    return new Date();\n  }\n\n  var force = true;\n\n  if (typeof root._bokeh_onload_callbacks === \"undefined\" || force === true) {\n    root._bokeh_onload_callbacks = [];\n    root._bokeh_is_loading = undefined;\n  }\n\n  \n\n  \n  if (typeof (root._bokeh_timeout) === \"undefined\" || force === true) {\n    root._bokeh_timeout = Date.now() + 5000;\n    root._bokeh_failed_load = false;\n  }\n\n  var NB_LOAD_WARNING = {'data': {'text/html':\n     \"<div style='background-color: #fdd'>\\n\"+\n     \"<p>\\n\"+\n     \"BokehJS does not appear to have successfully loaded. If loading BokehJS from CDN, this \\n\"+\n     \"may be due to a slow or bad network connection. Possible fixes:\\n\"+\n     \"</p>\\n\"+\n     \"<ul>\\n\"+\n     \"<li>re-rerun `output_notebook()` to attempt to load from CDN again, or</li>\\n\"+\n     \"<li>use INLINE resources instead, as so:</li>\\n\"+\n     \"</ul>\\n\"+\n     \"<code>\\n\"+\n     \"from bokeh.resources import INLINE\\n\"+\n     \"output_notebook(resources=INLINE)\\n\"+\n     \"</code>\\n\"+\n     \"</div>\"}};\n\n  function display_loaded() {\n    var el = document.getElementById(null);\n    if (el != null) {\n      el.textContent = \"BokehJS is loading...\";\n    }\n    if (root.Bokeh !== undefined) {\n      if (el != null) {\n        el.textContent = \"BokehJS \" + root.Bokeh.version + \" successfully loaded.\";\n      }\n    } else if (Date.now() < root._bokeh_timeout) {\n      setTimeout(display_loaded, 100)\n    }\n  }\n\n\n  function run_callbacks() {\n    try {\n      root._bokeh_onload_callbacks.forEach(function(callback) {\n        if (callback != null)\n          callback();\n      });\n    } finally {\n      delete root._bokeh_onload_callbacks\n    }\n    console.debug(\"Bokeh: all callbacks have finished\");\n  }\n\n  function load_libs(css_urls, js_urls, callback) {\n    if (css_urls == null) css_urls = [];\n    if (js_urls == null) js_urls = [];\n\n    root._bokeh_onload_callbacks.push(callback);\n    if (root._bokeh_is_loading > 0) {\n      console.debug(\"Bokeh: BokehJS is being loaded, scheduling callback at\", now());\n      return null;\n    }\n    if (js_urls == null || js_urls.length === 0) {\n      run_callbacks();\n      return null;\n    }\n    console.debug(\"Bokeh: BokehJS not loaded, scheduling load and callback at\", now());\n    root._bokeh_is_loading = css_urls.length + js_urls.length;\n\n    function on_load() {\n      root._bokeh_is_loading--;\n      if (root._bokeh_is_loading === 0) {\n        console.debug(\"Bokeh: all BokehJS libraries/stylesheets loaded\");\n        run_callbacks()\n      }\n    }\n\n    function on_error(url) {\n      console.error(\"failed to load \" + url);\n    }\n\n    for (let i = 0; i < css_urls.length; i++) {\n      const url = css_urls[i];\n      const element = document.createElement(\"link\");\n      element.onload = on_load;\n      element.onerror = on_error.bind(null, url);\n      element.rel = \"stylesheet\";\n      element.type = \"text/css\";\n      element.href = url;\n      console.debug(\"Bokeh: injecting link tag for BokehJS stylesheet: \", url);\n      document.body.appendChild(element);\n    }\n\n    const hashes = {\"https://cdn.bokeh.org/bokeh/release/bokeh-2.3.1.min.js\": \"YF85VygJKMVnHE+lLv2AM93Vbstr0yo2TbIu5v8se5Rq3UQAUmcuh4aaJwNlpKwa\", \"https://cdn.bokeh.org/bokeh/release/bokeh-widgets-2.3.1.min.js\": \"KKuas3gevv3PvrlkyCMzffFeaMq5we/a2QsP5AUoS3mJ0jmaCL7jirFJN3GoE/lM\", \"https://cdn.bokeh.org/bokeh/release/bokeh-tables-2.3.1.min.js\": \"MK/uFc3YT18pkvvXRl66tTHjP0/dxoSH2e/eiNMFIguKlun2+WVqaPTWmUy/zvh4\"};\n\n    for (let i = 0; i < js_urls.length; i++) {\n      const url = js_urls[i];\n      const element = document.createElement('script');\n      element.onload = on_load;\n      element.onerror = on_error.bind(null, url);\n      element.async = false;\n      element.src = url;\n      if (url in hashes) {\n        element.crossOrigin = \"anonymous\";\n        element.integrity = \"sha384-\" + hashes[url];\n      }\n      console.debug(\"Bokeh: injecting script tag for BokehJS library: \", url);\n      document.head.appendChild(element);\n    }\n  };\n\n  function inject_raw_css(css) {\n    const element = document.createElement(\"style\");\n    element.appendChild(document.createTextNode(css));\n    document.body.appendChild(element);\n  }\n\n  \n  var js_urls = [\"https://cdn.bokeh.org/bokeh/release/bokeh-2.3.1.min.js\", \"https://cdn.bokeh.org/bokeh/release/bokeh-widgets-2.3.1.min.js\", \"https://cdn.bokeh.org/bokeh/release/bokeh-tables-2.3.1.min.js\"];\n  var css_urls = [];\n  \n\n  var inline_js = [\n    function(Bokeh) {\n      Bokeh.set_log_level(\"info\");\n    },\n    function(Bokeh) {\n    \n    \n    }\n  ];\n\n  function run_inline_js() {\n    \n    if (root.Bokeh !== undefined || force === true) {\n      \n    for (var i = 0; i < inline_js.length; i++) {\n      inline_js[i].call(root, root.Bokeh);\n    }\n    } else if (Date.now() < root._bokeh_timeout) {\n      setTimeout(run_inline_js, 100);\n    } else if (!root._bokeh_failed_load) {\n      console.log(\"Bokeh: BokehJS failed to load within specified timeout.\");\n      root._bokeh_failed_load = true;\n    } else if (force !== true) {\n      var cell = $(document.getElementById(null)).parents('.cell').data().cell;\n      cell.output_area.append_execute_result(NB_LOAD_WARNING)\n    }\n\n  }\n\n  if (root._bokeh_is_loading === 0) {\n    console.debug(\"Bokeh: BokehJS loaded, going straight to plotting\");\n    run_inline_js();\n  } else {\n    load_libs(css_urls, js_urls, function() {\n      console.debug(\"Bokeh: BokehJS plotting callback run at\", now());\n      run_inline_js();\n    });\n  }\n}(window));"
          },
          "metadata": {
            "tags": []
          }
        },
        {
          "output_type": "display_data",
          "data": {
            "text/html": [
              "\n",
              "\n",
              "\n",
              "\n",
              "\n",
              "\n",
              "  <div class=\"bk-root\" id=\"0421da95-50f9-473c-9429-6d82a95038b7\" data-root-id=\"1002\"></div>\n"
            ]
          },
          "metadata": {
            "tags": []
          }
        },
        {
          "output_type": "display_data",
          "data": {
            "application/javascript": [
              "(function(root) {\n",
              "  function embed_document(root) {\n",
              "    \n",
              "  var docs_json = {\"f9c85929-7a6e-40a9-9424-257196913033\":{\"defs\":[],\"roots\":{\"references\":[{\"attributes\":{\"below\":[{\"id\":\"1013\"}],\"center\":[{\"id\":\"1016\"},{\"id\":\"1020\"},{\"id\":\"1036\"}],\"left\":[{\"id\":\"1017\"}],\"renderers\":[{\"id\":\"1034\"}],\"title\":{\"id\":\"1003\"},\"toolbar\":{\"id\":\"1025\"},\"toolbar_location\":\"above\",\"x_range\":{\"id\":\"1005\"},\"x_scale\":{\"id\":\"1009\"},\"y_range\":{\"id\":\"1007\"},\"y_scale\":{\"id\":\"1011\"}},\"id\":\"1002\",\"subtype\":\"Figure\",\"type\":\"Plot\"},{\"attributes\":{},\"id\":\"1014\",\"type\":\"BasicTicker\"},{\"attributes\":{},\"id\":\"1005\",\"type\":\"DataRange1d\"},{\"attributes\":{},\"id\":\"1024\",\"type\":\"SaveTool\"},{\"attributes\":{\"axis\":{\"id\":\"1013\"},\"ticker\":null},\"id\":\"1016\",\"type\":\"Grid\"},{\"attributes\":{},\"id\":\"1045\",\"type\":\"Selection\"},{\"attributes\":{},\"id\":\"1021\",\"type\":\"PanTool\"},{\"attributes\":{},\"id\":\"1039\",\"type\":\"AllLabels\"},{\"attributes\":{},\"id\":\"1018\",\"type\":\"BasicTicker\"},{\"attributes\":{\"formatter\":{\"id\":\"1040\"},\"major_label_policy\":{\"id\":\"1039\"},\"ticker\":{\"id\":\"1018\"}},\"id\":\"1017\",\"type\":\"LinearAxis\"},{\"attributes\":{\"fill_alpha\":{\"value\":0.1},\"fill_color\":{\"value\":\"#1f77b4\"},\"line_alpha\":{\"value\":0.1},\"line_color\":{\"value\":\"#1f77b4\"},\"size\":{\"value\":8},\"x\":{\"field\":\"x1\"},\"y\":{\"field\":\"x2\"}},\"id\":\"1033\",\"type\":\"Scatter\"},{\"attributes\":{\"active_multi\":null,\"tools\":[{\"id\":\"1021\"},{\"id\":\"1022\"},{\"id\":\"1023\"},{\"id\":\"1024\"}]},\"id\":\"1025\",\"type\":\"Toolbar\"},{\"attributes\":{\"text\":\"word2vec T-SNE (\\u0442\\u043e\\u043f-100 \\u0441\\u043b\\u043e\\u0432)\"},\"id\":\"1003\",\"type\":\"Title\"},{\"attributes\":{\"source\":{\"id\":\"1030\"}},\"id\":\"1035\",\"type\":\"CDSView\"},{\"attributes\":{},\"id\":\"1023\",\"type\":\"ResetTool\"},{\"attributes\":{},\"id\":\"1046\",\"type\":\"UnionRenderers\"},{\"attributes\":{},\"id\":\"1011\",\"type\":\"LinearScale\"},{\"attributes\":{\"source\":{\"id\":\"1030\"},\"text\":{\"field\":\"names\"},\"text_align\":{\"value\":\"center\"},\"text_color\":{\"value\":\"#555555\"},\"text_font_size\":{\"value\":\"8pt\"},\"x\":{\"field\":\"x1\"},\"y\":{\"field\":\"x2\"},\"y_offset\":{\"value\":6}},\"id\":\"1036\",\"type\":\"LabelSet\"},{\"attributes\":{\"data_source\":{\"id\":\"1030\"},\"glyph\":{\"id\":\"1032\"},\"hover_glyph\":null,\"muted_glyph\":null,\"nonselection_glyph\":{\"id\":\"1033\"},\"view\":{\"id\":\"1035\"}},\"id\":\"1034\",\"type\":\"GlyphRenderer\"},{\"attributes\":{\"axis\":{\"id\":\"1017\"},\"dimension\":1,\"ticker\":null},\"id\":\"1020\",\"type\":\"Grid\"},{\"attributes\":{\"data\":{\"names\":[\"\\u0431\\u0430\\u043d\\u043a\",\"\\u043a\\u0430\\u0440\\u0442\\u0430\",\"\\u0434\\u0435\\u043d\\u044c\\u0433\\u0430\",\"\\u0434\\u0435\\u043d\\u044c\",\"\\u043c\\u043e\\u0439\",\"\\u043a\\u0440\\u0435\\u0434\\u0438\\u0442\",\"\\u043a\\u043e\\u0442\\u043e\\u0440\\u044b\\u0439\",\"\\u043e\\u0442\\u0434\\u0435\\u043b\\u0435\\u043d\\u0438\\u0435\",\"\\u043a\\u043b\\u0438\\u0435\\u043d\\u0442\",\"\\u0441\\u043e\\u0442\\u0440\\u0443\\u0434\\u043d\\u0438\\u043a\",\"\\u0441\\u0447\\u0451\\u0442\",\"\\u0441\\u043a\\u0430\\u0437\\u0430\\u0442\\u044c\",\"\\u0441\\u0443\\u043c\\u043c\\u0430\",\"\\u0437\\u0430\\u044f\\u0432\\u043b\\u0435\\u043d\\u0438\\u0435\",\"\\u0433\\u043e\\u0434\",\"\\u0441\\u0432\\u043e\\u0439\",\"\\u0432\\u043e\\u043f\\u0440\\u043e\\u0441\",\"\\u0432\\u0440\\u0435\\u043c\\u044f\",\"\\u043c\\u043e\\u0447\\u044c\",\"\\u0431\\u044b\\u0442\\u044c\",\"\\u0442\\u0430\\u043a\\u043e\\u0439\",\"\\u043f\\u043e\\u043b\\u0443\\u0447\\u0438\\u0442\\u044c\",\"\\u043a\\u0440\\u0435\\u0434\\u0438\\u0442\\u043d\\u044b\\u0439\",\"\\u043e\\u0442\\u0432\\u0435\\u0442\",\"\\u0432\\u043a\\u043b\\u0430\\u0434\",\"\\u043e\\u0444\\u0438\\u0441\",\"\\u0442\\u0435\\u043b\\u0435\\u0444\\u043e\\u043d\",\"\\u043f\\u043b\\u0430\\u0442\\u0451\\u0436\",\"\\u0434\\u043e\\u0433\\u043e\\u0432\\u043e\\u0440\",\"\\u0432\\u0430\\u0448\",\"\\u0434\\u0430\\u0442\\u044c\",\"\\u043d\\u043e\\u043c\\u0435\\u0440\",\"\\u0437\\u0432\\u043e\\u043d\\u0438\\u0442\\u044c\",\"\\u0431\\u0430\\u043d\\u043a\\u043e\\u043c\\u0430\\u0442\",\"\\u0441\\u0431\\u0435\\u0440\\u0431\\u0430\\u043d\\u043a\",\"\\u043e\\u0447\\u0435\\u043d\\u044c\",\"\\u043f\\u043e\\u0437\\u0432\\u043e\\u043d\\u0438\\u0442\\u044c\",\"\\u0433\",\"\\u043c\\u0435\\u0441\\u044f\\u0446\",\"\\u043d\\u0430\\u043f\\u0438\\u0441\\u0430\\u0442\\u044c\",\"\\u043f\\u0440\\u043e\\u0431\\u043b\\u0435\\u043c\\u0430\",\"\\u0440\\u0430\\u0431\\u043e\\u0442\\u0430\\u0442\\u044c\",\"\\u043a\\u0430\\u043a\\u043e\\u0439\",\"\\u0441\\u0440\\u0435\\u0434\\u0441\\u0442\\u0432\\u043e\",\"\\u0440\\u0443\\u0431\\u043b\\u044c\",\"\\u0440\\u0430\\u0431\\u043e\\u0442\\u0430\",\"\\u0434\\u043e\\u043a\\u0443\\u043c\\u0435\\u043d\\u0442\",\"\\u0441\\u0438\\u0442\\u0443\\u0430\\u0446\\u0438\\u044f\",\"\\u0437\\u0432\\u043e\\u043d\\u043e\\u043a\",\"\\u043f\\u0440\\u0438\\u0439\\u0442\\u0438\",\"\\u0440\\u0435\\u0448\\u0438\\u0442\\u044c\",\"\\u0433\\u043e\\u0432\\u043e\\u0440\\u0438\\u0442\\u044c\",\"\\u043e\\u0434\\u0438\\u043d\",\"\\u0447\\u0435\\u043b\\u043e\\u0432\\u0435\\u043a\",\"\\u0434\\u0440\\u0443\\u0433\\u043e\\u0439\",\"\\u0445\\u043e\\u0442\\u0435\\u0442\\u044c\",\"\\u043e\\u043f\\u0435\\u0440\\u0430\\u0446\\u0438\\u044f\",\"\\u043f\\u043e\\u0447\\u0435\\u043c\\u0443\",\"\\u0434\\u043e\\u043b\\u0436\\u043d\\u044b\\u0439\",\"\\u0438\\u043d\\u0444\\u043e\\u0440\\u043c\\u0430\\u0446\\u0438\\u044f\",\"\\u0441\\u0434\\u0435\\u043b\\u0430\\u0442\\u044c\",\"\\u0441\\u043c\\u0441\",\"\\u0441\\u0440\\u043e\\u043a\",\"\\u0443\\u0441\\u043b\\u0443\\u0433\\u0430\",\"\\u0437\\u0430\\u044f\\u0432\\u043a\\u0430\",\"\\u0437\\u043d\\u0430\\u0442\\u044c\",\"\\u043f\\u0440\\u043e\\u0441\\u0442\\u043e\",\"\\u043e\\u0431\\u0441\\u043b\\u0443\\u0436\\u0438\\u0432\\u0430\\u043d\\u0438\\u0435\",\"\\u043e\\u0447\\u0435\\u0440\\u0435\\u0434\\u044c\",\"\\u043c\\u0438\\u043d\\u0443\\u0442\\u0430\",\"\\u043e\\u0431\\u0440\\u0430\\u0442\\u0438\\u0442\\u044c\\u0441\\u044f\",\"\\u0442\\u043e\\u0442\",\"\\u0434\\u0430\\u043d\\u043d\\u044b\\u0439\",\"\\u043f\\u0435\\u0440\\u0432\\u044b\\u0439\",\"\\u0441\\u0435\\u0433\\u043e\\u0434\\u043d\\u044f\",\"\\u0434\\u0435\\u0432\\u0443\\u0448\\u043a\\u0430\",\"\\u0436\\u0434\\u0430\\u0442\\u044c\",\"\\u0441\\u0430\\u0439\\u0442\",\"\\u0440\\u0443\\u0431\",\"\\u043f\\u0440\\u0435\\u0442\\u0435\\u043d\\u0437\\u0438\\u044f\",\"\\u043d\\u043e\\u0432\\u044b\\u0439\",\"\\u043f\\u0440\\u043e\\u0441\\u0438\\u0442\\u044c\",\"\\u0438\\u043d\\u0442\\u0435\\u0440\\u043d\\u0435\\u0442\",\"\\u043f\\u0440\\u043e\\u0446\\u0435\\u043d\\u0442\",\"\\u043d\\u0435\\u0434\\u0435\\u043b\\u044f\",\"\\u043d\\u0438\\u043a\\u0430\\u043a\\u043e\\u0439\",\"\\u043e\\u043f\\u0435\\u0440\\u0430\\u0442\\u043e\\u0440\",\"\\u0441\\u043e\\u043e\\u0431\\u0449\\u0438\\u0442\\u044c\",\"\\u044f\",\"\\u0432\\u0435\\u0441\\u044c\",\"\\u043e\\u0442\\u0432\\u0435\\u0442\\u0438\\u0442\\u044c\",\"\\u0441\\u0430\\u043c\",\"\\u044f\\u0432\\u043b\\u044f\\u0442\\u044c\\u0441\\u044f\",\"\\u0441\\u0442\\u0430\\u0442\\u044c\",\"\\u043d\\u0443\\u0436\\u043d\\u043e\",\"\\u0447\\u0430\\u0441\",\"\\u043d\\u0435\\u0441\\u043a\\u043e\\u043b\\u044c\\u043a\\u043e\",\"\\u043e\\u0444\\u043e\\u0440\\u043c\\u0438\\u0442\\u044c\",\"\\u043f\\u0435\\u0440\\u0435\\u0432\\u043e\\u0434\",\"\\u043f\\u0438\\u0441\\u0430\\u0442\\u044c\"],\"x1\":{\"__ndarray__\":\"XiaqQfrtGcK5ogPC/vIYQZuBsUF9L2BCA1lKQQbDCMLv8o3AhABKwbDeMcLODu7BsqziQdJNe8LMRNhBd6KjQaKBjEK7R0vCJTcxQdNUnkAuCSdAqzsGQUHxNULmU+jBiQFQwsRFEL30nsjBBScdQpDyI0LkC0BB3+J1QYIJ48GBA2rBonOQwsm09UE9AOJByDHmwBzygkJwT6VBIQO+Qdsxi0L6cj/BIthGQAEuEMICjmrCflSfwTYMgMLf3IpCbbCuwWma1UAMIXhBBAizwe/KO8FCuHrAoUpEwf29EUGDNqLC9XqDQAj/1UDy7zxC2aWhwP0TR0Iba2XCI5gFQnEPcsL8xhPBreRpwE31oEGZz95A1HIvweoyBEGjbw/BsHZJQbA7mcFtNojBxBM4wWrrD8IxIDrC5zZswus5YcJEwuDBUCovQpl8KMI8GozCY8xsQUYsAEJY4Y3BMfwTwmIJ6UFyaqxBvPLdwWn4PcBtuTBC1GnpwbyyC0CKro3AhICywQo70sBkqJHCbV3vQQ==\",\"dtype\":\"float32\",\"order\":\"little\",\"shape\":[100]},\"x2\":{\"__ndarray__\":\"MB8gQDqW8kHPCEJCS6Wmwmv9tUFgD73ApfJCPuvKO8Ijk0RBwqcjwjvGEkIQ/5TBW8E+wnFBfcLKmprCSfRGQSqpW0HZIJ3BOFikweLUPsBE5I1BdbM9QlxWhr+ieA3CLxY7QspoQ8IVTWfCMOpgwpTAN0JupDNBO5QCQkS2gMJP9phCbE6Jwddqf0Axr9vBc4+SQo3+y8FTTaTC276IQuVSqUF2crXB2ZDhQQHVX0LT/u1BSisDQoNwIsKeCe9Bvo+gQur5X0LnLRPCayF0wdLhlEDO7gTCwb9twMnm5MFphfpAOw+9QMlzTcGTDGBBi3UnQoMFHcJMt5bAlcQVwT25VMJqoVDBS3mOP2LMiMBxnnnCSJKmwiTwhkKNK8NBvyaiQSic+kBmCopBSqZVwpBIvMDHXddAvri6QUB7fMIpmppB8+3kQX6QXUFGTRJC6oeywpxUikGHqj3CN6+2wUQ0BUJ/SXXBD5bSwbFJ4MBseZ/BhvO7QPcUncFxgaTCTbQOwCSCSEJjYAxBS72EQg==\",\"dtype\":\"float32\",\"order\":\"little\",\"shape\":[100]}},\"selected\":{\"id\":\"1045\"},\"selection_policy\":{\"id\":\"1046\"}},\"id\":\"1030\",\"type\":\"ColumnDataSource\"},{\"attributes\":{\"fill_color\":{\"value\":\"#1f77b4\"},\"line_color\":{\"value\":\"#1f77b4\"},\"size\":{\"value\":8},\"x\":{\"field\":\"x1\"},\"y\":{\"field\":\"x2\"}},\"id\":\"1032\",\"type\":\"Scatter\"},{\"attributes\":{\"formatter\":{\"id\":\"1043\"},\"major_label_policy\":{\"id\":\"1042\"},\"ticker\":{\"id\":\"1014\"}},\"id\":\"1013\",\"type\":\"LinearAxis\"},{\"attributes\":{},\"id\":\"1043\",\"type\":\"BasicTickFormatter\"},{\"attributes\":{},\"id\":\"1007\",\"type\":\"DataRange1d\"},{\"attributes\":{},\"id\":\"1040\",\"type\":\"BasicTickFormatter\"},{\"attributes\":{},\"id\":\"1042\",\"type\":\"AllLabels\"},{\"attributes\":{},\"id\":\"1022\",\"type\":\"WheelZoomTool\"},{\"attributes\":{},\"id\":\"1009\",\"type\":\"LinearScale\"}],\"root_ids\":[\"1002\"]},\"title\":\"Bokeh Application\",\"version\":\"2.3.1\"}};\n",
              "  var render_items = [{\"docid\":\"f9c85929-7a6e-40a9-9424-257196913033\",\"root_ids\":[\"1002\"],\"roots\":{\"1002\":\"0421da95-50f9-473c-9429-6d82a95038b7\"}}];\n",
              "  root.Bokeh.embed.embed_items_notebook(docs_json, render_items);\n",
              "\n",
              "  }\n",
              "  if (root.Bokeh !== undefined) {\n",
              "    embed_document(root);\n",
              "  } else {\n",
              "    var attempts = 0;\n",
              "    var timer = setInterval(function(root) {\n",
              "      if (root.Bokeh !== undefined) {\n",
              "        clearInterval(timer);\n",
              "        embed_document(root);\n",
              "      } else {\n",
              "        attempts++;\n",
              "        if (attempts > 100) {\n",
              "          clearInterval(timer);\n",
              "          console.log(\"Bokeh: ERROR: Unable to run BokehJS code because BokehJS library is missing\");\n",
              "        }\n",
              "      }\n",
              "    }, 10, root)\n",
              "  }\n",
              "})(window);"
            ],
            "application/vnd.bokehjs_exec.v0+json": ""
          },
          "metadata": {
            "tags": [],
            "application/vnd.bokehjs_exec.v0+json": {
              "id": "1002"
            }
          }
        }
      ]
    },
    {
      "cell_type": "markdown",
      "metadata": {
        "id": "nvP-qQSD9nEj"
      },
      "source": [
        "Также каких-то явных крупных кластеров не видно, но есть тесно сгруппированные слова, такие как:\n",
        "- \"год\", \"месяц\", \"день\", \"час\" и \"минута\";\n",
        "- \"офис\", \"отделение\";\n",
        "- \"позвонить\", \"звонить\", \"звонок\";\n",
        "- \"ситуация\", \"проблема\", \"вопрос\".\n",
        "\n",
        "Есть и другие."
      ]
    },
    {
      "cell_type": "code",
      "metadata": {
        "colab": {
          "base_uri": "https://localhost:8080/",
          "height": 634
        },
        "id": "4qDXTezXGPwd",
        "outputId": "f12cce27-83fb-4fd9-fa7f-d559dc9bab9d"
      },
      "source": [
        "show_top_words_map(model, sentences_lemmas, 500)"
      ],
      "execution_count": 39,
      "outputs": [
        {
          "output_type": "stream",
          "text": [
            "100%|██████████| 2462655/2462655 [00:27<00:00, 91119.12it/s]\n"
          ],
          "name": "stderr"
        },
        {
          "output_type": "display_data",
          "data": {
            "application/javascript": [
              "\n",
              "(function(root) {\n",
              "  function now() {\n",
              "    return new Date();\n",
              "  }\n",
              "\n",
              "  var force = true;\n",
              "\n",
              "  if (typeof root._bokeh_onload_callbacks === \"undefined\" || force === true) {\n",
              "    root._bokeh_onload_callbacks = [];\n",
              "    root._bokeh_is_loading = undefined;\n",
              "  }\n",
              "\n",
              "  var JS_MIME_TYPE = 'application/javascript';\n",
              "  var HTML_MIME_TYPE = 'text/html';\n",
              "  var EXEC_MIME_TYPE = 'application/vnd.bokehjs_exec.v0+json';\n",
              "  var CLASS_NAME = 'output_bokeh rendered_html';\n",
              "\n",
              "  /**\n",
              "   * Render data to the DOM node\n",
              "   */\n",
              "  function render(props, node) {\n",
              "    var script = document.createElement(\"script\");\n",
              "    node.appendChild(script);\n",
              "  }\n",
              "\n",
              "  /**\n",
              "   * Handle when an output is cleared or removed\n",
              "   */\n",
              "  function handleClearOutput(event, handle) {\n",
              "    var cell = handle.cell;\n",
              "\n",
              "    var id = cell.output_area._bokeh_element_id;\n",
              "    var server_id = cell.output_area._bokeh_server_id;\n",
              "    // Clean up Bokeh references\n",
              "    if (id != null && id in Bokeh.index) {\n",
              "      Bokeh.index[id].model.document.clear();\n",
              "      delete Bokeh.index[id];\n",
              "    }\n",
              "\n",
              "    if (server_id !== undefined) {\n",
              "      // Clean up Bokeh references\n",
              "      var cmd = \"from bokeh.io.state import curstate; print(curstate().uuid_to_server['\" + server_id + \"'].get_sessions()[0].document.roots[0]._id)\";\n",
              "      cell.notebook.kernel.execute(cmd, {\n",
              "        iopub: {\n",
              "          output: function(msg) {\n",
              "            var id = msg.content.text.trim();\n",
              "            if (id in Bokeh.index) {\n",
              "              Bokeh.index[id].model.document.clear();\n",
              "              delete Bokeh.index[id];\n",
              "            }\n",
              "          }\n",
              "        }\n",
              "      });\n",
              "      // Destroy server and session\n",
              "      var cmd = \"import bokeh.io.notebook as ion; ion.destroy_server('\" + server_id + \"')\";\n",
              "      cell.notebook.kernel.execute(cmd);\n",
              "    }\n",
              "  }\n",
              "\n",
              "  /**\n",
              "   * Handle when a new output is added\n",
              "   */\n",
              "  function handleAddOutput(event, handle) {\n",
              "    var output_area = handle.output_area;\n",
              "    var output = handle.output;\n",
              "\n",
              "    // limit handleAddOutput to display_data with EXEC_MIME_TYPE content only\n",
              "    if ((output.output_type != \"display_data\") || (!Object.prototype.hasOwnProperty.call(output.data, EXEC_MIME_TYPE))) {\n",
              "      return\n",
              "    }\n",
              "\n",
              "    var toinsert = output_area.element.find(\".\" + CLASS_NAME.split(' ')[0]);\n",
              "\n",
              "    if (output.metadata[EXEC_MIME_TYPE][\"id\"] !== undefined) {\n",
              "      toinsert[toinsert.length - 1].firstChild.textContent = output.data[JS_MIME_TYPE];\n",
              "      // store reference to embed id on output_area\n",
              "      output_area._bokeh_element_id = output.metadata[EXEC_MIME_TYPE][\"id\"];\n",
              "    }\n",
              "    if (output.metadata[EXEC_MIME_TYPE][\"server_id\"] !== undefined) {\n",
              "      var bk_div = document.createElement(\"div\");\n",
              "      bk_div.innerHTML = output.data[HTML_MIME_TYPE];\n",
              "      var script_attrs = bk_div.children[0].attributes;\n",
              "      for (var i = 0; i < script_attrs.length; i++) {\n",
              "        toinsert[toinsert.length - 1].firstChild.setAttribute(script_attrs[i].name, script_attrs[i].value);\n",
              "        toinsert[toinsert.length - 1].firstChild.textContent = bk_div.children[0].textContent\n",
              "      }\n",
              "      // store reference to server id on output_area\n",
              "      output_area._bokeh_server_id = output.metadata[EXEC_MIME_TYPE][\"server_id\"];\n",
              "    }\n",
              "  }\n",
              "\n",
              "  function register_renderer(events, OutputArea) {\n",
              "\n",
              "    function append_mime(data, metadata, element) {\n",
              "      // create a DOM node to render to\n",
              "      var toinsert = this.create_output_subarea(\n",
              "        metadata,\n",
              "        CLASS_NAME,\n",
              "        EXEC_MIME_TYPE\n",
              "      );\n",
              "      this.keyboard_manager.register_events(toinsert);\n",
              "      // Render to node\n",
              "      var props = {data: data, metadata: metadata[EXEC_MIME_TYPE]};\n",
              "      render(props, toinsert[toinsert.length - 1]);\n",
              "      element.append(toinsert);\n",
              "      return toinsert\n",
              "    }\n",
              "\n",
              "    /* Handle when an output is cleared or removed */\n",
              "    events.on('clear_output.CodeCell', handleClearOutput);\n",
              "    events.on('delete.Cell', handleClearOutput);\n",
              "\n",
              "    /* Handle when a new output is added */\n",
              "    events.on('output_added.OutputArea', handleAddOutput);\n",
              "\n",
              "    /**\n",
              "     * Register the mime type and append_mime function with output_area\n",
              "     */\n",
              "    OutputArea.prototype.register_mime_type(EXEC_MIME_TYPE, append_mime, {\n",
              "      /* Is output safe? */\n",
              "      safe: true,\n",
              "      /* Index of renderer in `output_area.display_order` */\n",
              "      index: 0\n",
              "    });\n",
              "  }\n",
              "\n",
              "  // register the mime type if in Jupyter Notebook environment and previously unregistered\n",
              "  if (root.Jupyter !== undefined) {\n",
              "    var events = require('base/js/events');\n",
              "    var OutputArea = require('notebook/js/outputarea').OutputArea;\n",
              "\n",
              "    if (OutputArea.prototype.mime_types().indexOf(EXEC_MIME_TYPE) == -1) {\n",
              "      register_renderer(events, OutputArea);\n",
              "    }\n",
              "  }\n",
              "\n",
              "  \n",
              "  if (typeof (root._bokeh_timeout) === \"undefined\" || force === true) {\n",
              "    root._bokeh_timeout = Date.now() + 5000;\n",
              "    root._bokeh_failed_load = false;\n",
              "  }\n",
              "\n",
              "  var NB_LOAD_WARNING = {'data': {'text/html':\n",
              "     \"<div style='background-color: #fdd'>\\n\"+\n",
              "     \"<p>\\n\"+\n",
              "     \"BokehJS does not appear to have successfully loaded. If loading BokehJS from CDN, this \\n\"+\n",
              "     \"may be due to a slow or bad network connection. Possible fixes:\\n\"+\n",
              "     \"</p>\\n\"+\n",
              "     \"<ul>\\n\"+\n",
              "     \"<li>re-rerun `output_notebook()` to attempt to load from CDN again, or</li>\\n\"+\n",
              "     \"<li>use INLINE resources instead, as so:</li>\\n\"+\n",
              "     \"</ul>\\n\"+\n",
              "     \"<code>\\n\"+\n",
              "     \"from bokeh.resources import INLINE\\n\"+\n",
              "     \"output_notebook(resources=INLINE)\\n\"+\n",
              "     \"</code>\\n\"+\n",
              "     \"</div>\"}};\n",
              "\n",
              "  function display_loaded() {\n",
              "    var el = document.getElementById(null);\n",
              "    if (el != null) {\n",
              "      el.textContent = \"BokehJS is loading...\";\n",
              "    }\n",
              "    if (root.Bokeh !== undefined) {\n",
              "      if (el != null) {\n",
              "        el.textContent = \"BokehJS \" + root.Bokeh.version + \" successfully loaded.\";\n",
              "      }\n",
              "    } else if (Date.now() < root._bokeh_timeout) {\n",
              "      setTimeout(display_loaded, 100)\n",
              "    }\n",
              "  }\n",
              "\n",
              "\n",
              "  function run_callbacks() {\n",
              "    try {\n",
              "      root._bokeh_onload_callbacks.forEach(function(callback) {\n",
              "        if (callback != null)\n",
              "          callback();\n",
              "      });\n",
              "    } finally {\n",
              "      delete root._bokeh_onload_callbacks\n",
              "    }\n",
              "    console.debug(\"Bokeh: all callbacks have finished\");\n",
              "  }\n",
              "\n",
              "  function load_libs(css_urls, js_urls, callback) {\n",
              "    if (css_urls == null) css_urls = [];\n",
              "    if (js_urls == null) js_urls = [];\n",
              "\n",
              "    root._bokeh_onload_callbacks.push(callback);\n",
              "    if (root._bokeh_is_loading > 0) {\n",
              "      console.debug(\"Bokeh: BokehJS is being loaded, scheduling callback at\", now());\n",
              "      return null;\n",
              "    }\n",
              "    if (js_urls == null || js_urls.length === 0) {\n",
              "      run_callbacks();\n",
              "      return null;\n",
              "    }\n",
              "    console.debug(\"Bokeh: BokehJS not loaded, scheduling load and callback at\", now());\n",
              "    root._bokeh_is_loading = css_urls.length + js_urls.length;\n",
              "\n",
              "    function on_load() {\n",
              "      root._bokeh_is_loading--;\n",
              "      if (root._bokeh_is_loading === 0) {\n",
              "        console.debug(\"Bokeh: all BokehJS libraries/stylesheets loaded\");\n",
              "        run_callbacks()\n",
              "      }\n",
              "    }\n",
              "\n",
              "    function on_error(url) {\n",
              "      console.error(\"failed to load \" + url);\n",
              "    }\n",
              "\n",
              "    for (let i = 0; i < css_urls.length; i++) {\n",
              "      const url = css_urls[i];\n",
              "      const element = document.createElement(\"link\");\n",
              "      element.onload = on_load;\n",
              "      element.onerror = on_error.bind(null, url);\n",
              "      element.rel = \"stylesheet\";\n",
              "      element.type = \"text/css\";\n",
              "      element.href = url;\n",
              "      console.debug(\"Bokeh: injecting link tag for BokehJS stylesheet: \", url);\n",
              "      document.body.appendChild(element);\n",
              "    }\n",
              "\n",
              "    const hashes = {\"https://cdn.bokeh.org/bokeh/release/bokeh-2.3.1.min.js\": \"YF85VygJKMVnHE+lLv2AM93Vbstr0yo2TbIu5v8se5Rq3UQAUmcuh4aaJwNlpKwa\", \"https://cdn.bokeh.org/bokeh/release/bokeh-widgets-2.3.1.min.js\": \"KKuas3gevv3PvrlkyCMzffFeaMq5we/a2QsP5AUoS3mJ0jmaCL7jirFJN3GoE/lM\", \"https://cdn.bokeh.org/bokeh/release/bokeh-tables-2.3.1.min.js\": \"MK/uFc3YT18pkvvXRl66tTHjP0/dxoSH2e/eiNMFIguKlun2+WVqaPTWmUy/zvh4\"};\n",
              "\n",
              "    for (let i = 0; i < js_urls.length; i++) {\n",
              "      const url = js_urls[i];\n",
              "      const element = document.createElement('script');\n",
              "      element.onload = on_load;\n",
              "      element.onerror = on_error.bind(null, url);\n",
              "      element.async = false;\n",
              "      element.src = url;\n",
              "      if (url in hashes) {\n",
              "        element.crossOrigin = \"anonymous\";\n",
              "        element.integrity = \"sha384-\" + hashes[url];\n",
              "      }\n",
              "      console.debug(\"Bokeh: injecting script tag for BokehJS library: \", url);\n",
              "      document.head.appendChild(element);\n",
              "    }\n",
              "  };\n",
              "\n",
              "  function inject_raw_css(css) {\n",
              "    const element = document.createElement(\"style\");\n",
              "    element.appendChild(document.createTextNode(css));\n",
              "    document.body.appendChild(element);\n",
              "  }\n",
              "\n",
              "  \n",
              "  var js_urls = [\"https://cdn.bokeh.org/bokeh/release/bokeh-2.3.1.min.js\", \"https://cdn.bokeh.org/bokeh/release/bokeh-widgets-2.3.1.min.js\", \"https://cdn.bokeh.org/bokeh/release/bokeh-tables-2.3.1.min.js\"];\n",
              "  var css_urls = [];\n",
              "  \n",
              "\n",
              "  var inline_js = [\n",
              "    function(Bokeh) {\n",
              "      Bokeh.set_log_level(\"info\");\n",
              "    },\n",
              "    function(Bokeh) {\n",
              "    \n",
              "    \n",
              "    }\n",
              "  ];\n",
              "\n",
              "  function run_inline_js() {\n",
              "    \n",
              "    if (root.Bokeh !== undefined || force === true) {\n",
              "      \n",
              "    for (var i = 0; i < inline_js.length; i++) {\n",
              "      inline_js[i].call(root, root.Bokeh);\n",
              "    }\n",
              "    } else if (Date.now() < root._bokeh_timeout) {\n",
              "      setTimeout(run_inline_js, 100);\n",
              "    } else if (!root._bokeh_failed_load) {\n",
              "      console.log(\"Bokeh: BokehJS failed to load within specified timeout.\");\n",
              "      root._bokeh_failed_load = true;\n",
              "    } else if (force !== true) {\n",
              "      var cell = $(document.getElementById(null)).parents('.cell').data().cell;\n",
              "      cell.output_area.append_execute_result(NB_LOAD_WARNING)\n",
              "    }\n",
              "\n",
              "  }\n",
              "\n",
              "  if (root._bokeh_is_loading === 0) {\n",
              "    console.debug(\"Bokeh: BokehJS loaded, going straight to plotting\");\n",
              "    run_inline_js();\n",
              "  } else {\n",
              "    load_libs(css_urls, js_urls, function() {\n",
              "      console.debug(\"Bokeh: BokehJS plotting callback run at\", now());\n",
              "      run_inline_js();\n",
              "    });\n",
              "  }\n",
              "}(window));"
            ],
            "application/vnd.bokehjs_load.v0+json": "\n(function(root) {\n  function now() {\n    return new Date();\n  }\n\n  var force = true;\n\n  if (typeof root._bokeh_onload_callbacks === \"undefined\" || force === true) {\n    root._bokeh_onload_callbacks = [];\n    root._bokeh_is_loading = undefined;\n  }\n\n  \n\n  \n  if (typeof (root._bokeh_timeout) === \"undefined\" || force === true) {\n    root._bokeh_timeout = Date.now() + 5000;\n    root._bokeh_failed_load = false;\n  }\n\n  var NB_LOAD_WARNING = {'data': {'text/html':\n     \"<div style='background-color: #fdd'>\\n\"+\n     \"<p>\\n\"+\n     \"BokehJS does not appear to have successfully loaded. If loading BokehJS from CDN, this \\n\"+\n     \"may be due to a slow or bad network connection. Possible fixes:\\n\"+\n     \"</p>\\n\"+\n     \"<ul>\\n\"+\n     \"<li>re-rerun `output_notebook()` to attempt to load from CDN again, or</li>\\n\"+\n     \"<li>use INLINE resources instead, as so:</li>\\n\"+\n     \"</ul>\\n\"+\n     \"<code>\\n\"+\n     \"from bokeh.resources import INLINE\\n\"+\n     \"output_notebook(resources=INLINE)\\n\"+\n     \"</code>\\n\"+\n     \"</div>\"}};\n\n  function display_loaded() {\n    var el = document.getElementById(null);\n    if (el != null) {\n      el.textContent = \"BokehJS is loading...\";\n    }\n    if (root.Bokeh !== undefined) {\n      if (el != null) {\n        el.textContent = \"BokehJS \" + root.Bokeh.version + \" successfully loaded.\";\n      }\n    } else if (Date.now() < root._bokeh_timeout) {\n      setTimeout(display_loaded, 100)\n    }\n  }\n\n\n  function run_callbacks() {\n    try {\n      root._bokeh_onload_callbacks.forEach(function(callback) {\n        if (callback != null)\n          callback();\n      });\n    } finally {\n      delete root._bokeh_onload_callbacks\n    }\n    console.debug(\"Bokeh: all callbacks have finished\");\n  }\n\n  function load_libs(css_urls, js_urls, callback) {\n    if (css_urls == null) css_urls = [];\n    if (js_urls == null) js_urls = [];\n\n    root._bokeh_onload_callbacks.push(callback);\n    if (root._bokeh_is_loading > 0) {\n      console.debug(\"Bokeh: BokehJS is being loaded, scheduling callback at\", now());\n      return null;\n    }\n    if (js_urls == null || js_urls.length === 0) {\n      run_callbacks();\n      return null;\n    }\n    console.debug(\"Bokeh: BokehJS not loaded, scheduling load and callback at\", now());\n    root._bokeh_is_loading = css_urls.length + js_urls.length;\n\n    function on_load() {\n      root._bokeh_is_loading--;\n      if (root._bokeh_is_loading === 0) {\n        console.debug(\"Bokeh: all BokehJS libraries/stylesheets loaded\");\n        run_callbacks()\n      }\n    }\n\n    function on_error(url) {\n      console.error(\"failed to load \" + url);\n    }\n\n    for (let i = 0; i < css_urls.length; i++) {\n      const url = css_urls[i];\n      const element = document.createElement(\"link\");\n      element.onload = on_load;\n      element.onerror = on_error.bind(null, url);\n      element.rel = \"stylesheet\";\n      element.type = \"text/css\";\n      element.href = url;\n      console.debug(\"Bokeh: injecting link tag for BokehJS stylesheet: \", url);\n      document.body.appendChild(element);\n    }\n\n    const hashes = {\"https://cdn.bokeh.org/bokeh/release/bokeh-2.3.1.min.js\": \"YF85VygJKMVnHE+lLv2AM93Vbstr0yo2TbIu5v8se5Rq3UQAUmcuh4aaJwNlpKwa\", \"https://cdn.bokeh.org/bokeh/release/bokeh-widgets-2.3.1.min.js\": \"KKuas3gevv3PvrlkyCMzffFeaMq5we/a2QsP5AUoS3mJ0jmaCL7jirFJN3GoE/lM\", \"https://cdn.bokeh.org/bokeh/release/bokeh-tables-2.3.1.min.js\": \"MK/uFc3YT18pkvvXRl66tTHjP0/dxoSH2e/eiNMFIguKlun2+WVqaPTWmUy/zvh4\"};\n\n    for (let i = 0; i < js_urls.length; i++) {\n      const url = js_urls[i];\n      const element = document.createElement('script');\n      element.onload = on_load;\n      element.onerror = on_error.bind(null, url);\n      element.async = false;\n      element.src = url;\n      if (url in hashes) {\n        element.crossOrigin = \"anonymous\";\n        element.integrity = \"sha384-\" + hashes[url];\n      }\n      console.debug(\"Bokeh: injecting script tag for BokehJS library: \", url);\n      document.head.appendChild(element);\n    }\n  };\n\n  function inject_raw_css(css) {\n    const element = document.createElement(\"style\");\n    element.appendChild(document.createTextNode(css));\n    document.body.appendChild(element);\n  }\n\n  \n  var js_urls = [\"https://cdn.bokeh.org/bokeh/release/bokeh-2.3.1.min.js\", \"https://cdn.bokeh.org/bokeh/release/bokeh-widgets-2.3.1.min.js\", \"https://cdn.bokeh.org/bokeh/release/bokeh-tables-2.3.1.min.js\"];\n  var css_urls = [];\n  \n\n  var inline_js = [\n    function(Bokeh) {\n      Bokeh.set_log_level(\"info\");\n    },\n    function(Bokeh) {\n    \n    \n    }\n  ];\n\n  function run_inline_js() {\n    \n    if (root.Bokeh !== undefined || force === true) {\n      \n    for (var i = 0; i < inline_js.length; i++) {\n      inline_js[i].call(root, root.Bokeh);\n    }\n    } else if (Date.now() < root._bokeh_timeout) {\n      setTimeout(run_inline_js, 100);\n    } else if (!root._bokeh_failed_load) {\n      console.log(\"Bokeh: BokehJS failed to load within specified timeout.\");\n      root._bokeh_failed_load = true;\n    } else if (force !== true) {\n      var cell = $(document.getElementById(null)).parents('.cell').data().cell;\n      cell.output_area.append_execute_result(NB_LOAD_WARNING)\n    }\n\n  }\n\n  if (root._bokeh_is_loading === 0) {\n    console.debug(\"Bokeh: BokehJS loaded, going straight to plotting\");\n    run_inline_js();\n  } else {\n    load_libs(css_urls, js_urls, function() {\n      console.debug(\"Bokeh: BokehJS plotting callback run at\", now());\n      run_inline_js();\n    });\n  }\n}(window));"
          },
          "metadata": {
            "tags": []
          }
        },
        {
          "output_type": "display_data",
          "data": {
            "text/html": [
              "\n",
              "\n",
              "\n",
              "\n",
              "\n",
              "\n",
              "  <div class=\"bk-root\" id=\"088d34f7-0a66-4e82-9040-2118f577afed\" data-root-id=\"1299\"></div>\n"
            ]
          },
          "metadata": {
            "tags": []
          }
        },
        {
          "output_type": "display_data",
          "data": {
            "application/javascript": [
              "(function(root) {\n",
              "  function embed_document(root) {\n",
              "    \n",
              "  var docs_json = {\"3089fd7e-e120-40d4-af74-82d6e031e391\":{\"defs\":[],\"roots\":{\"references\":[{\"attributes\":{\"below\":[{\"id\":\"1310\"}],\"center\":[{\"id\":\"1313\"},{\"id\":\"1317\"},{\"id\":\"1333\"}],\"left\":[{\"id\":\"1314\"}],\"renderers\":[{\"id\":\"1331\"}],\"title\":{\"id\":\"1300\"},\"toolbar\":{\"id\":\"1322\"},\"toolbar_location\":\"above\",\"x_range\":{\"id\":\"1302\"},\"x_scale\":{\"id\":\"1306\"},\"y_range\":{\"id\":\"1304\"},\"y_scale\":{\"id\":\"1308\"}},\"id\":\"1299\",\"subtype\":\"Figure\",\"type\":\"Plot\"},{\"attributes\":{},\"id\":\"1364\",\"type\":\"BasicTickFormatter\"},{\"attributes\":{},\"id\":\"1321\",\"type\":\"SaveTool\"},{\"attributes\":{\"active_multi\":null,\"tools\":[{\"id\":\"1318\"},{\"id\":\"1319\"},{\"id\":\"1320\"},{\"id\":\"1321\"}]},\"id\":\"1322\",\"type\":\"Toolbar\"},{\"attributes\":{},\"id\":\"1302\",\"type\":\"DataRange1d\"},{\"attributes\":{},\"id\":\"1369\",\"type\":\"Selection\"},{\"attributes\":{\"text\":\"word2vec T-SNE (\\u0442\\u043e\\u043f-500 \\u0441\\u043b\\u043e\\u0432)\"},\"id\":\"1300\",\"type\":\"Title\"},{\"attributes\":{},\"id\":\"1319\",\"type\":\"WheelZoomTool\"},{\"attributes\":{},\"id\":\"1306\",\"type\":\"LinearScale\"},{\"attributes\":{\"formatter\":{\"id\":\"1367\"},\"major_label_policy\":{\"id\":\"1366\"},\"ticker\":{\"id\":\"1311\"}},\"id\":\"1310\",\"type\":\"LinearAxis\"},{\"attributes\":{},\"id\":\"1370\",\"type\":\"UnionRenderers\"},{\"attributes\":{\"source\":{\"id\":\"1327\"}},\"id\":\"1332\",\"type\":\"CDSView\"},{\"attributes\":{\"data_source\":{\"id\":\"1327\"},\"glyph\":{\"id\":\"1329\"},\"hover_glyph\":null,\"muted_glyph\":null,\"nonselection_glyph\":{\"id\":\"1330\"},\"view\":{\"id\":\"1332\"}},\"id\":\"1331\",\"type\":\"GlyphRenderer\"},{\"attributes\":{},\"id\":\"1315\",\"type\":\"BasicTicker\"},{\"attributes\":{\"formatter\":{\"id\":\"1364\"},\"major_label_policy\":{\"id\":\"1363\"},\"ticker\":{\"id\":\"1315\"}},\"id\":\"1314\",\"type\":\"LinearAxis\"},{\"attributes\":{\"axis\":{\"id\":\"1310\"},\"ticker\":null},\"id\":\"1313\",\"type\":\"Grid\"},{\"attributes\":{\"source\":{\"id\":\"1327\"},\"text\":{\"field\":\"names\"},\"text_align\":{\"value\":\"center\"},\"text_color\":{\"value\":\"#555555\"},\"text_font_size\":{\"value\":\"8pt\"},\"x\":{\"field\":\"x1\"},\"y\":{\"field\":\"x2\"},\"y_offset\":{\"value\":6}},\"id\":\"1333\",\"type\":\"LabelSet\"},{\"attributes\":{\"fill_color\":{\"value\":\"#1f77b4\"},\"line_color\":{\"value\":\"#1f77b4\"},\"size\":{\"value\":8},\"x\":{\"field\":\"x1\"},\"y\":{\"field\":\"x2\"}},\"id\":\"1329\",\"type\":\"Scatter\"},{\"attributes\":{},\"id\":\"1318\",\"type\":\"PanTool\"},{\"attributes\":{},\"id\":\"1311\",\"type\":\"BasicTicker\"},{\"attributes\":{},\"id\":\"1308\",\"type\":\"LinearScale\"},{\"attributes\":{\"data\":{\"names\":[\"\\u0431\\u0430\\u043d\\u043a\",\"\\u043a\\u0430\\u0440\\u0442\\u0430\",\"\\u0434\\u0435\\u043d\\u044c\\u0433\\u0430\",\"\\u0434\\u0435\\u043d\\u044c\",\"\\u043c\\u043e\\u0439\",\"\\u043a\\u0440\\u0435\\u0434\\u0438\\u0442\",\"\\u043a\\u043e\\u0442\\u043e\\u0440\\u044b\\u0439\",\"\\u043e\\u0442\\u0434\\u0435\\u043b\\u0435\\u043d\\u0438\\u0435\",\"\\u043a\\u043b\\u0438\\u0435\\u043d\\u0442\",\"\\u0441\\u043e\\u0442\\u0440\\u0443\\u0434\\u043d\\u0438\\u043a\",\"\\u0441\\u0447\\u0451\\u0442\",\"\\u0441\\u043a\\u0430\\u0437\\u0430\\u0442\\u044c\",\"\\u0441\\u0443\\u043c\\u043c\\u0430\",\"\\u0437\\u0430\\u044f\\u0432\\u043b\\u0435\\u043d\\u0438\\u0435\",\"\\u0433\\u043e\\u0434\",\"\\u0441\\u0432\\u043e\\u0439\",\"\\u0432\\u043e\\u043f\\u0440\\u043e\\u0441\",\"\\u0432\\u0440\\u0435\\u043c\\u044f\",\"\\u043c\\u043e\\u0447\\u044c\",\"\\u0431\\u044b\\u0442\\u044c\",\"\\u0442\\u0430\\u043a\\u043e\\u0439\",\"\\u043f\\u043e\\u043b\\u0443\\u0447\\u0438\\u0442\\u044c\",\"\\u043a\\u0440\\u0435\\u0434\\u0438\\u0442\\u043d\\u044b\\u0439\",\"\\u043e\\u0442\\u0432\\u0435\\u0442\",\"\\u0432\\u043a\\u043b\\u0430\\u0434\",\"\\u043e\\u0444\\u0438\\u0441\",\"\\u0442\\u0435\\u043b\\u0435\\u0444\\u043e\\u043d\",\"\\u043f\\u043b\\u0430\\u0442\\u0451\\u0436\",\"\\u0434\\u043e\\u0433\\u043e\\u0432\\u043e\\u0440\",\"\\u0432\\u0430\\u0448\",\"\\u0434\\u0430\\u0442\\u044c\",\"\\u043d\\u043e\\u043c\\u0435\\u0440\",\"\\u0437\\u0432\\u043e\\u043d\\u0438\\u0442\\u044c\",\"\\u0431\\u0430\\u043d\\u043a\\u043e\\u043c\\u0430\\u0442\",\"\\u0441\\u0431\\u0435\\u0440\\u0431\\u0430\\u043d\\u043a\",\"\\u043e\\u0447\\u0435\\u043d\\u044c\",\"\\u043f\\u043e\\u0437\\u0432\\u043e\\u043d\\u0438\\u0442\\u044c\",\"\\u0433\",\"\\u043c\\u0435\\u0441\\u044f\\u0446\",\"\\u043d\\u0430\\u043f\\u0438\\u0441\\u0430\\u0442\\u044c\",\"\\u043f\\u0440\\u043e\\u0431\\u043b\\u0435\\u043c\\u0430\",\"\\u0440\\u0430\\u0431\\u043e\\u0442\\u0430\\u0442\\u044c\",\"\\u043a\\u0430\\u043a\\u043e\\u0439\",\"\\u0441\\u0440\\u0435\\u0434\\u0441\\u0442\\u0432\\u043e\",\"\\u0440\\u0443\\u0431\\u043b\\u044c\",\"\\u0440\\u0430\\u0431\\u043e\\u0442\\u0430\",\"\\u0434\\u043e\\u043a\\u0443\\u043c\\u0435\\u043d\\u0442\",\"\\u0441\\u0438\\u0442\\u0443\\u0430\\u0446\\u0438\\u044f\",\"\\u0437\\u0432\\u043e\\u043d\\u043e\\u043a\",\"\\u043f\\u0440\\u0438\\u0439\\u0442\\u0438\",\"\\u0440\\u0435\\u0448\\u0438\\u0442\\u044c\",\"\\u0433\\u043e\\u0432\\u043e\\u0440\\u0438\\u0442\\u044c\",\"\\u043e\\u0434\\u0438\\u043d\",\"\\u0447\\u0435\\u043b\\u043e\\u0432\\u0435\\u043a\",\"\\u0434\\u0440\\u0443\\u0433\\u043e\\u0439\",\"\\u0445\\u043e\\u0442\\u0435\\u0442\\u044c\",\"\\u043e\\u043f\\u0435\\u0440\\u0430\\u0446\\u0438\\u044f\",\"\\u043f\\u043e\\u0447\\u0435\\u043c\\u0443\",\"\\u0434\\u043e\\u043b\\u0436\\u043d\\u044b\\u0439\",\"\\u0438\\u043d\\u0444\\u043e\\u0440\\u043c\\u0430\\u0446\\u0438\\u044f\",\"\\u0441\\u0434\\u0435\\u043b\\u0430\\u0442\\u044c\",\"\\u0441\\u043c\\u0441\",\"\\u0441\\u0440\\u043e\\u043a\",\"\\u0443\\u0441\\u043b\\u0443\\u0433\\u0430\",\"\\u0437\\u0430\\u044f\\u0432\\u043a\\u0430\",\"\\u0437\\u043d\\u0430\\u0442\\u044c\",\"\\u043f\\u0440\\u043e\\u0441\\u0442\\u043e\",\"\\u043e\\u0431\\u0441\\u043b\\u0443\\u0436\\u0438\\u0432\\u0430\\u043d\\u0438\\u0435\",\"\\u043e\\u0447\\u0435\\u0440\\u0435\\u0434\\u044c\",\"\\u043c\\u0438\\u043d\\u0443\\u0442\\u0430\",\"\\u043e\\u0431\\u0440\\u0430\\u0442\\u0438\\u0442\\u044c\\u0441\\u044f\",\"\\u0442\\u043e\\u0442\",\"\\u0434\\u0430\\u043d\\u043d\\u044b\\u0439\",\"\\u043f\\u0435\\u0440\\u0432\\u044b\\u0439\",\"\\u0441\\u0435\\u0433\\u043e\\u0434\\u043d\\u044f\",\"\\u0434\\u0435\\u0432\\u0443\\u0448\\u043a\\u0430\",\"\\u0436\\u0434\\u0430\\u0442\\u044c\",\"\\u0441\\u0430\\u0439\\u0442\",\"\\u0440\\u0443\\u0431\",\"\\u043f\\u0440\\u0435\\u0442\\u0435\\u043d\\u0437\\u0438\\u044f\",\"\\u043d\\u043e\\u0432\\u044b\\u0439\",\"\\u043f\\u0440\\u043e\\u0441\\u0438\\u0442\\u044c\",\"\\u0438\\u043d\\u0442\\u0435\\u0440\\u043d\\u0435\\u0442\",\"\\u043f\\u0440\\u043e\\u0446\\u0435\\u043d\\u0442\",\"\\u043d\\u0435\\u0434\\u0435\\u043b\\u044f\",\"\\u043d\\u0438\\u043a\\u0430\\u043a\\u043e\\u0439\",\"\\u043e\\u043f\\u0435\\u0440\\u0430\\u0442\\u043e\\u0440\",\"\\u0441\\u043e\\u043e\\u0431\\u0449\\u0438\\u0442\\u044c\",\"\\u044f\",\"\\u0432\\u0435\\u0441\\u044c\",\"\\u043e\\u0442\\u0432\\u0435\\u0442\\u0438\\u0442\\u044c\",\"\\u0441\\u0430\\u043c\",\"\\u044f\\u0432\\u043b\\u044f\\u0442\\u044c\\u0441\\u044f\",\"\\u0441\\u0442\\u0430\\u0442\\u044c\",\"\\u043d\\u0443\\u0436\\u043d\\u043e\",\"\\u0447\\u0430\\u0441\",\"\\u043d\\u0435\\u0441\\u043a\\u043e\\u043b\\u044c\\u043a\\u043e\",\"\\u043e\\u0444\\u043e\\u0440\\u043c\\u0438\\u0442\\u044c\",\"\\u043f\\u0435\\u0440\\u0435\\u0432\\u043e\\u0434\",\"\\u043f\\u0438\\u0441\\u0430\\u0442\\u044c\",\"\\u043a\\u043e\\u043c\\u0438\\u0441\\u0441\\u0438\\u044f\",\"\\u0441\\u043b\\u0435\\u0434\\u0443\\u044e\\u0449\\u0438\\u0439\",\"\\u0445\\u043e\\u0442\\u044f\",\"\\u0438\\u043c\\u0435\\u0442\\u044c\",\"\\u043f\\u043e\\u043b\\u044c\\u0437\\u043e\\u0432\\u0430\\u0442\\u044c\\u0441\\u044f\",\"\\u0443\\u0441\\u043b\\u043e\\u0432\\u0438\\u0435\",\"\\u0446\\u0435\\u043d\\u0442\\u0440\",\"\\u043c\\u043e\\u043c\\u0435\\u043d\\u0442\",\"\\u0437\\u0430\\u0434\\u043e\\u043b\\u0436\\u0435\\u043d\\u043d\\u043e\\u0441\\u0442\\u044c\",\"\\u0432\\u0437\\u044f\\u0442\\u044c\",\"\\u0442\\u0435\\u0447\\u0435\\u043d\\u0438\\u0435\",\"\\u0441\\u043b\\u0443\\u0447\\u0430\\u0439\",\"\\u0432\\u043e\\u043e\\u0431\\u0449\\u0435\",\"\\u0434\\u0435\\u043b\\u0430\\u0442\\u044c\",\"\\u0441\\u0440\\u0430\\u0437\\u0443\",\"\\u0432\\u0441\",\"\\u0434\\u0435\\u043b\\u043e\",\"\\u043f\\u0440\\u0438\\u0445\\u043e\\u0434\\u0438\\u0442\\u044c\",\"\\u0432\\u044b\\u0434\\u0430\\u0442\\u044c\",\"\\u043d\\u0438\\u043a\\u0442\\u043e\",\"\\u0440\\u0435\\u0448\\u0435\\u043d\\u0438\\u0435\",\"\\u0441\\u043b\\u0443\\u0436\\u0431\\u0430\",\"\\u0441\\u043f\\u0435\\u0446\\u0438\\u0430\\u043b\\u0438\\u0441\\u0442\",\"\\u044d\\u0442\\u043e\\u0442\",\"\\u043e\\u0442\\u043a\\u0440\\u044b\\u0442\\u044c\",\"\\u0441\\u0438\\u0441\\u0442\\u0435\\u043c\\u0430\",\"\\u043f\\u0440\\u0438\\u043d\\u044f\\u0442\\u044c\",\"\\u043f\\u0440\\u043e\\u0439\\u0442\\u0438\",\"\\u0434\\u0435\\u043d\\u0435\\u0436\\u043d\\u044b\\u0439\",\"\\u043e\\u0431\\u0440\\u0430\\u0449\\u0435\\u043d\\u0438\\u0435\",\"\\u043e\\u0442\\u0437\\u044b\\u0432\",\"\\u0430\\u0434\\u0440\\u0435\\u0441\",\"\\u0441\\u043c\\u043e\\u0447\\u044c\",\"\\u043c\\u043e\\u0441\\u043a\\u0432\\u0430\",\"\\u043e\\u043f\\u043b\\u0430\\u0442\\u0430\",\"\\u0438\\u0442\\u043e\\u0433\",\"\\u043c\\u0435\\u043d\\u0435\\u0434\\u0436\\u0435\\u0440\",\"\\u0443\\u0437\\u043d\\u0430\\u0442\\u044c\",\"\\u0443\\u043a\\u0430\\u0437\\u0430\\u0442\\u044c\",\"\\u0441\\u043d\\u044f\\u0442\\u044c\",\"\\u043a\\u0430\\u0436\\u0434\\u044b\\u0439\",\"\\u043f\\u043e\\u043a\\u0430\",\"\\u0440\",\"\\u043d\\u0443\\u0436\\u043d\\u044b\\u0439\",\"\\u043a\\u0430\\u0441\\u0441\\u0430\",\"\\u0438\\u0441\\u0442\\u043e\\u0440\\u0438\\u044f\",\"\\u043e\\u0431\\u0449\\u0438\\u0439\",\"\\u0434\\u0443\\u043c\\u0430\\u0442\\u044c\",\"\\u0441\\u043b\\u043e\\u0432\\u043e\",\"\\u043e\\u043f\\u043b\\u0430\\u0442\\u0438\\u0442\\u044c\",\"\\u043e\\u043a\\u0430\\u0437\\u0430\\u0442\\u044c\\u0441\\u044f\",\"\\u043f\\u0440\\u0435\\u0434\\u043b\\u043e\\u0436\\u0438\\u0442\\u044c\",\"\\u0432\\u0435\\u0440\\u043d\\u0443\\u0442\\u044c\",\"\\u043f\\u043e\\u0433\\u0430\\u0448\\u0435\\u043d\\u0438\\u0435\",\"\\u0434\\u043e\\u0431\\u0440\\u044b\\u0439\",\"\\u043e\\u0442\\u043d\\u043e\\u0448\\u0435\\u043d\\u0438\\u0435\",\"\\u043f\\u0440\\u0438\\u0439\\u0442\\u0438\\u0441\\u044c\",\"\\u0441\\u0430\\u043c\\u044b\\u0439\",\"\\u0438\\u0434\\u0442\\u0438\",\"\\u043f\\u043e\\u0434\\u0434\\u0435\\u0440\\u0436\\u043a\\u0430\",\"\\u0431\\u0440\\u0430\\u0442\\u044c\",\"\\u043f\\u043e\\u0441\\u043b\\u0435\\u0434\\u043d\\u0438\\u0439\",\"\\u043f\\u043e\\u043b\\u0443\\u0447\\u0430\\u0442\\u044c\",\"\\u043f\\u043e\\u043f\\u0440\\u043e\\u0441\\u0438\\u0442\\u044c\",\"\\u043f\\u043e\\u043b\\u0443\\u0447\\u0435\\u043d\\u0438\\u0435\",\"\\u043e\\u0431\\u044a\\u044f\\u0441\\u043d\\u0438\\u0442\\u044c\",\"\\u0432\\u0442\\u043e\\u0440\\u043e\\u0439\",\"\\u043b\\u0438\\u0446\\u043e\",\"\\u0441\\u043f\\u0430\\u0441\\u0438\\u0431\\u043e\",\"\\u043f\\u0438\\u0441\\u044c\\u043c\\u043e\",\"\\u043d\\u0430\\u0448\",\"\\u043c\\u044b\",\"\\u043b\\u0438\\u043c\\u0438\\u0442\",\"\\u0434\\u0430\\u0442\\u0430\",\"\\u043b\\u0438\\u043d\\u0438\\u044f\",\"\\u0440\\u0430\\u0431\\u043e\\u0447\\u0438\\u0439\",\"\\u043f\\u043b\\u0430\\u0442\\u0438\\u0442\\u044c\",\"\\u043e\\u0442\\u043f\\u0440\\u0430\\u0432\\u0438\\u0442\\u044c\",\"\\u0441\\u0432\\u044f\\u0437\\u044c\",\"\\u0432\\u043e\\u0437\\u043c\\u043e\\u0436\\u043d\\u043e\\u0441\\u0442\\u044c\",\"\\u043f\\u0440\\u0438\\u0447\\u0438\\u043d\\u0430\",\"\\u0434\\u0432\\u0430\",\"\\u043e\\u0448\\u0438\\u0431\\u043a\\u0430\",\"\\u0441\\u043e\\u0442\\u0440\\u0443\\u0434\\u043d\\u0438\\u0446\\u0430\",\"\\u043f\\u0440\\u043e\\u0441\\u044c\\u0431\\u0430\",\"\\u0431\\u0430\\u043d\\u043a\\u043e\\u0432\\u0441\\u043a\\u0438\\u0439\",\"\\u043d\\u0430\\u0445\\u043e\\u0434\\u0438\\u0442\\u044c\\u0441\\u044f\",\"\\u0441\\u043d\\u043e\\u0432\\u0430\",\"\\u043b\\u0438\\u0431\\u043e\",\"\\u043f\\u0430\\u0441\\u043f\\u043e\\u0440\\u0442\",\"\\u043e\\u043a\\u043e\\u043b\\u043e\",\"\\u0432\\u043d\\u0435\\u0441\\u0442\\u0438\",\"\\u0430\\u043b\\u044c\\u0444\\u0430\",\"\\u043c\",\"\\u043f\\u0440\\u0435\\u0434\\u043e\\u0441\\u0442\\u0430\\u0432\\u0438\\u0442\\u044c\",\"\\u043a\\u043e\\u043d\\u0435\\u0446\",\"\\u043f\\u043e\\u043d\\u0438\\u043c\\u0430\\u0442\\u044c\",\"\\u043c\\u0435\\u0441\\u0442\\u043e\",\"\\u0438\\u043c\\u0435\\u043d\\u043d\\u043e\",\"\\u0434\\u0440\\u0443\\u0433\",\"\\u043e\\u0442\\u0432\\u0435\\u0447\\u0430\\u0442\\u044c\",\"\\u0445\\u043e\\u0440\\u043e\\u0448\\u0438\\u0439\",\"\\u0437\\u0430\\u043a\\u0440\\u044b\\u0442\\u044c\",\"\\u0434\\u043e\\u043b\\u0433\",\"\\u043e\\u0431\\u0440\\u0430\\u0449\\u0430\\u0442\\u044c\\u0441\\u044f\",\"\\u0434\\u0435\\u0439\\u0441\\u0442\\u0432\\u0438\\u0435\",\"\\u0432\\u044b\\u043f\\u0438\\u0441\\u043a\\u0430\",\"\\u0441\\u043f\\u0440\\u0430\\u0432\\u043a\\u0430\",\"\\u0445\\u043e\\u0442\\u0435\\u0442\\u044c\\u0441\\u044f\",\"\\u0441\\u0442\\u0440\\u0430\\u0445\\u043e\\u0432\\u043a\\u0430\",\"\\u0435\\u0449\",\"\\u043a\\u0430\\u0440\\u0442\\u043e\\u0447\\u043a\\u0430\",\"\\u043e\\u0444\\u043e\\u0440\\u043c\\u043b\\u0435\\u043d\\u0438\\u0435\",\"\\u0440\\u0430\\u0441\\u0441\\u043c\\u043e\\u0442\\u0440\\u0435\\u043d\\u0438\\u0435\",\"\\u043f\\u043e\\u043c\\u043e\\u0447\\u044c\",\"\\u0432\\u0438\\u0434\\u0435\\u0442\\u044c\",\"\\u0440\\u0430\\u0437\",\"\\u043d\\u0430\\u0437\\u0430\\u0434\",\"\\u043e\\u0442\\u043a\\u0430\\u0437\",\"\\u043f\\u043e\\u044d\\u0442\\u043e\\u043c\\u0443\",\"\\u0434\\u0430\\u043d\\u043d\\u044b\\u0435\",\"\\u043f\\u043e\\u043b\\u043d\\u044b\\u0439\",\"\\u043f\\u043e\\u0433\\u0430\\u0441\\u0438\\u0442\\u044c\",\"\\u0434\\u0430\\u0432\\u0430\\u0442\\u044c\",\"\\u043f\\u044b\\u0442\\u0430\\u0442\\u044c\\u0441\\u044f\",\"\\u043e\\u0441\\u0442\\u0430\\u0442\\u044c\\u0441\\u044f\",\"\\u0437\\u0430\\u0431\\u043b\\u043e\\u043a\\u0438\\u0440\\u043e\\u0432\\u0430\\u0442\\u044c\",\"\\u043e\\u043f\\u0435\\u0440\\u0430\\u0446\\u0438\\u043e\\u043d\\u0438\\u0441\\u0442\",\"\\u043b\\u044e\\u0431\\u043e\\u0439\",\"\\u0430\\u0434\\u043c\\u0438\\u043d\\u0438\\u0441\\u0442\\u0440\\u0430\\u0442\\u043e\\u0440\",\"\\u0440\\u0435\\u0437\\u0443\\u043b\\u044c\\u0442\\u0430\\u0442\",\"\\u0433\\u043e\\u0440\\u044f\\u0447\\u0438\\u0439\",\"\\u0443\\u0442\\u043e\\u0447\\u043d\\u0438\\u0442\\u044c\",\"\\u0441\\u043e\\u043e\\u0431\\u0449\\u0435\\u043d\\u0438\\u0435\",\"\\u043f\\u0440\\u0438\\u0435\\u0445\\u0430\\u0442\\u044c\",\"\\u0442\\u0435\\u0440\\u043c\\u0438\\u043d\\u0430\\u043b\",\"\\u0447\\u0438\\u0441\\u043b\\u043e\",\"\\u0441\\u0442\\u0430\\u0432\\u043a\\u0430\",\"\\u0440\\u0430\\u0437\\u043e\\u0431\\u0440\\u0430\\u0442\\u044c\\u0441\\u044f\",\"\\u0437\\u0430\\u043a\\u0440\\u044b\\u0442\\u0438\\u0435\",\"\\u043a\\u0442\\u043e\",\"\\u044d\\u0442\\u043e\",\"\\u0432\\u0442\\u0431\",\"\\u043f\\u0440\\u043e\\u0441\\u0440\\u043e\\u0447\\u043a\\u0430\",\"\\u043c\\u043e\\u0431\\u0438\\u043b\\u044c\\u043d\\u044b\\u0439\",\"\\u043f\\u043e\\u043d\\u044f\\u0442\\u044c\",\"\\u0443\\u043b\",\"\\u043e\\u0442\\u0434\\u0435\\u043b\",\"\\u0433\\u043e\\u0440\\u043e\\u0434\",\"\\u043e\\u0441\\u0442\\u0430\\u0432\\u0438\\u0442\\u044c\",\"\\u043f\\u043e\\u043a\\u0443\\u043f\\u043a\\u0430\",\"\\u043f\\u0440\\u0430\\u0432\\u043e\",\"\\u0441\\u0447\",\"\\u0444\\u0438\\u043b\\u0438\\u0430\\u043b\",\"\\u0434\\u0435\\u043a\\u0430\\u0431\\u0440\\u044c\",\"\\u043f\\u043e\\u0447\\u0442\\u0430\",\"\\u043f\\u043e\\u0440\\u0430\",\"\\u0441\\u043f\\u0438\\u0441\\u0430\\u0442\\u044c\",\"\\u0441\\u043f\\u0438\\u0441\\u0430\\u043d\\u0438\\u0435\",\"\\u043f\\u0435\\u0440\\u0435\\u0437\\u0432\\u043e\\u043d\\u0438\\u0442\\u044c\",\"\\u0442\\u0430\\u043a\\u0438\",\"\\u0431\\u044b\\u0441\\u0442\\u0440\\u043e\",\"\\u043e\\u0442\\u043a\\u0440\\u044b\\u0442\\u0438\\u0435\",\"\\u0441\\u0447\\u0438\\u0442\\u0430\\u0442\\u044c\",\"\\u0441\\u0442\\u043e\\u0440\\u043e\\u043d\\u0430\",\"\\u0434\\u0435\\u0431\\u0435\\u0442\\u043e\\u0432\\u044b\\u0439\",\"\\u043f\\u043e\\u0439\\u0442\\u0438\",\"\\u0440\\u0430\\u0437\\u043c\\u0435\\u0440\",\"\\u043f\\u0435\\u0440\\u0435\\u0432\\u0435\\u0441\\u0442\\u0438\",\"\\u0441\\u043d\\u044f\\u0442\\u0438\\u0435\",\"\\u043f\\u043e\\u0441\\u0442\\u0443\\u043f\\u0438\\u0442\\u044c\",\"\\u0445\\u043e\\u0440\\u043e\\u0448\\u043e\",\"\\u0441\\u043f\\u0440\\u043e\\u0441\\u0438\\u0442\\u044c\",\"\\u043e\\u0442\\u043a\\u0430\\u0437\\u0430\\u0442\\u044c\\u0441\\u044f\",\"\\u043f\\u0440\\u043e\\u0438\\u0437\\u043e\\u0439\\u0442\\u0438\",\"\\u043e\\u043d\\u043b\\u0430\\u0439\\u043d\",\"\\u043d\\u0430\\u0447\\u0430\\u0442\\u044c\",\"\\u043d\\u0430\\u0434\\u0435\\u044f\\u0442\\u044c\\u0441\\u044f\",\"\\u043d\\u0430\\u0447\\u0430\\u043b\\u043e\",\"\\u043e\\u0434\\u043d\\u0430\\u043a\\u043e\",\"\\u043f\\u0440\\u043e\\u0433\\u0440\\u0430\\u043c\\u043c\\u0430\",\"\\u043d\\u0430\\u0439\\u0442\\u0438\",\"\\u043e\\u0431\\u0435\\u0449\\u0430\\u0442\\u044c\",\"\\u043a\\u043e\\u043b\\u043b\",\"\\u043a\\u043e\\u043f\\u0438\\u044f\",\"\\u043f\",\"\\u043f\\u043e\\u0434\\u0430\\u0442\\u044c\",\"\\u0437\\u0434\\u0440\\u0430\\u0432\\u0441\\u0442\\u0432\\u0443\\u0439\\u0442\\u0435\",\"\\u043d\\u0430\\u043b\\u0438\\u0447\\u043d\\u044b\\u0439\",\"\\u0441\\u043a\\u043e\\u043b\\u044c\\u043a\\u043e\",\"\\u043f\\u0440\\u0435\\u0434\\u043b\\u043e\\u0436\\u0435\\u043d\\u0438\\u0435\",\"\\u0441\\u0443\\u0434\",\"\\u043f\\u043e\\u043b\\u043e\\u0436\\u0438\\u0442\\u044c\",\"\\u0438\\u043c\\u044f\",\"\\u0436\\u0430\\u043b\\u043e\\u0431\\u0430\",\"\\u043f\\u043e\\u0440\\u044f\\u0434\\u043e\\u043a\",\"\\u0441\\u0435\\u0439\",\"\\u043e\\u0447\\u0435\\u0440\\u0435\\u0434\\u043d\\u043e\\u0439\",\"\\u0441\\u0442\\u043e\\u0438\\u0442\\u044c\",\"\\u0432\\u0438\\u0434\\u0438\\u043c\\u043e\",\"\\u043e\\u0444\\u043e\\u0440\\u043c\\u043b\\u044f\\u0442\\u044c\",\"\\u0432\\u043e\\u0437\\u0432\\u0440\\u0430\\u0442\",\"\\u043c\\u0430\\u0433\\u0430\\u0437\\u0438\\u043d\",\"\\u043a\\u043e\\u0434\",\"\\u0447\\u0435\\u043a\",\"\\u0442\\u0430\\u0440\\u0438\\u0444\",\"\\u0434\\u0430\\u043b\\u0435\\u0435\",\"\\u0440\\u0443\\u043a\\u0430\",\"\\u0443\\u0439\\u0442\\u0438\",\"\\u0434\\u043e\\u043f\\u043e\\u043b\\u043d\\u0438\\u0442\\u0435\\u043b\\u044c\\u043d\\u044b\\u0439\",\"\\u0442\\u044b\\u0441\\u044f\\u0447\\u0430\",\"\\u043f\\u0440\\u0438\\u0441\\u043b\\u0430\\u0442\\u044c\",\"\\u043e\\u0441\\u0442\\u0430\\u0442\\u043e\\u043a\",\"\\u0432\\u044b\\u0434\\u0430\\u0447\\u0430\",\"\\u0440\\u0430\\u0437\\u0433\\u043e\\u0432\\u043e\\u0440\",\"\\u043b\\u0438\\u0447\\u043d\\u044b\\u0439\",\"\\u044d\\u043b\\u0435\\u043a\\u0442\\u0440\\u043e\\u043d\\u043d\\u044b\\u0439\",\"\\u0443\\u0432\\u0430\\u0436\\u0430\\u0435\\u043c\\u044b\\u0439\",\"\\u043c\\u0430\\u0440\\u0442\",\"\\u0437\\u0430\\u0440\\u043f\\u043b\\u0430\\u0442\\u043d\\u044b\\u0439\",\"\\u0441\\u043f\\u0440\\u0430\\u0448\\u0438\\u0432\\u0430\\u0442\\u044c\",\"\\u0434\\u043e\\u043b\\u0433\\u043e\",\"\\u0440\\u043e\\u0441\\u0441\\u0438\\u044f\",\"\\u0432\\u043d\\u0438\\u043c\\u0430\\u043d\\u0438\\u0435\",\"\\u0433\\u043e\\u0442\\u043e\\u0432\\u044b\\u0439\",\"\\u043f\\u0440\\u043e\\u0432\\u0435\\u0441\\u0442\\u0438\",\"\\u0431\\u043b\\u0438\\u0437\\u043a\\u0438\\u0439\",\"\\u043e\\u0434\\u043e\\u0431\\u0440\\u0438\\u0442\\u044c\",\"\\u0442\\u0440\\u0435\\u0431\\u043e\\u0432\\u0430\\u0442\\u044c\",\"\\u043c\\u0430\\u043b\\u0435\\u043d\\u044c\\u043a\\u0438\\u0439\",\"\\u043e\\u0442\\u043a\\u0430\\u0437\\u0430\\u0442\\u044c\",\"\\u0437\\u0430\\u043f\\u0440\\u043e\\u0441\",\"\\u043f\\u0430\\u0440\\u0430\",\"\\u044f\\u043d\\u0432\\u0430\\u0440\\u044c\",\"\\u043f\\u0440\\u0435\\u0434\\u0441\\u0442\\u0430\\u0432\\u0438\\u0442\\u0435\\u043b\\u044c\",\"\\u043d\\u0435\\u043e\\u0431\\u0445\\u043e\\u0434\\u0438\\u043c\\u043e\",\"\\u043a\\u0443\\u0440\\u0441\",\"\\u043f\\u0440\\u0438\\u0447\\u0451\\u043c\",\"\\u0437\\u0430\\u0431\\u0440\\u0430\\u0442\\u044c\",\"\\u0440\\u0444\",\"\\u0441\\u0435\\u0440\\u0432\\u0438\\u0441\",\"\\u043e\\u0431\\u0440\\u0430\\u0437\",\"\\u043a\\u0430\\u0441\\u0441\\u0438\\u0440\",\"\\u0443\\u043a\\u0430\\u0437\\u0430\\u043d\\u043d\\u044b\\u0439\",\"\\u0440\\u0430\\u0431\\u043e\\u0442\\u043d\\u0438\\u043a\",\"\\u043f\\u0440\\u0438\\u043d\\u0438\\u043c\\u0430\\u0442\\u044c\",\"\\u0434\\u043e\\u0441\\u0440\\u043e\\u0447\\u043d\\u044b\\u0439\",\"\\u043e\\u0440\\u0433\\u0430\\u043d\\u0438\\u0437\\u0430\\u0446\\u0438\\u044f\",\"\\u043f\\u0440\\u043e\\u0432\\u0435\\u0440\\u0438\\u0442\\u044c\",\"\\u0434\\u0435\\u043f\\u043e\\u0437\\u0438\\u0442\",\"\\u0441\\u0432\\u044f\\u0437\\u0430\\u0442\\u044c\\u0441\\u044f\",\"\\u0432\\u043e\\u0437\\u043c\\u043e\\u0436\\u043d\\u043e\",\"\\u0432\\u0435\\u0436\\u043b\\u0438\\u0432\\u044b\\u0439\",\"\\u0431\\u043e\\u043b\\u044c\\u0448\\u0438\\u0439\",\"\\u0440\\u0430\\u0437\\u043d\\u044b\\u0439\",\"\\u0430\\u043d\\u043a\\u0435\\u0442\\u0430\",\"\\u0444\\u0430\\u043a\\u0442\",\"\\u043f\\u043e\\u0436\\u0430\\u043b\\u0443\\u0439\\u0441\\u0442\\u0430\",\"\\u0434\\u0430\\u043b\\u0451\\u043a\\u0438\\u0439\",\"\\u0430\\u043f\\u0440\\u0435\\u043b\\u044c\",\"\\u043e\\u0446\\u0435\\u043d\\u043a\\u0430\",\"\\u043f\\u0435\\u0440\\u0438\\u043e\\u0434\",\"\\u043d\\u0435\\u043a\\u043e\\u0442\\u043e\\u0440\\u044b\\u0439\",\"\\u043a\\u043e\\u043c\\u043f\\u0430\\u043d\\u0438\\u044f\",\"\\u043b\",\"\\u043c\\u0430\\u0439\",\"\\u0437\\u0430\\u043f\\u043b\\u0430\\u0442\\u0438\\u0442\\u044c\",\"\\u0437\\u0430\\u0439\\u0442\\u0438\",\"\\u0437\\u0430\\u043f\\u043e\\u043b\\u043d\\u0438\\u0442\\u044c\",\"\\u0448\\u0442\\u0440\\u0430\\u0444\",\"\\u0441\\u0442\\u0440\\u0430\\u0445\\u043e\\u0432\\u0430\\u043d\\u0438\\u0435\",\"\\u043f\\u0440\\u0435\\u0434\\u043b\\u0430\\u0433\\u0430\\u0442\\u044c\",\"\\u0441\\u043d\\u0430\\u0447\\u0430\\u043b\\u0430\",\"\\u043f\\u043e\\u0432\\u043e\\u0434\",\"\\u0441\\u043e\\u043e\\u0431\\u0449\\u0430\\u0442\\u044c\",\"\\u0437\\u0430\\u043a\\u0440\\u044b\\u0442\\u044b\\u0439\",\"\\u043d\\u0435\\u043e\\u0431\\u0445\\u043e\\u0434\\u0438\\u043c\\u044b\\u0439\",\"\\u043e\\u043f\\u043b\\u0430\\u0447\\u0438\\u0432\\u0430\\u0442\\u044c\",\"\\u0441\\u043d\\u0438\\u043c\\u0430\\u0442\\u044c\",\"\\u0442\\u0440\\u0435\\u0431\\u043e\\u0432\\u0430\\u043d\\u0438\\u0435\",\"\\u043f\\u043e\\u043b\\u043e\\u0436\\u0438\\u0442\\u0435\\u043b\\u044c\\u043d\\u044b\\u0439\",\"\\u0442\\u0435\\u0445\\u043d\\u0438\\u0447\\u0435\\u0441\\u043a\\u0438\\u0439\",\"\\u0443\\u0432\\u0438\\u0434\\u0435\\u0442\\u044c\",\"\\u043f\\u043e\\u0434\\u043a\\u043b\\u044e\\u0447\\u0438\\u0442\\u044c\",\"\\u043f\\u043e\\u043f\\u044b\\u0442\\u043a\\u0430\",\"\\u043f\\u043b\\u0430\\u0442\\u0430\",\"\\u0444\\u043e\\u0440\\u043c\\u0430\",\"\\u043f\\u0440\\u043e\\u0434\\u0443\\u043a\\u0442\",\"\\u0434\\u043e\\u043c\",\"\\u0440\\u0430\\u043d\\u043d\\u0438\\u0439\",\"\\u0444\\u0435\\u0432\\u0440\\u0430\\u043b\\u044c\",\"\\u043d\\u043e\\u044f\\u0431\\u0440\\u044c\",\"\\u0442\\u0440\\u0435\\u0442\\u0438\\u0439\",\"\\u043b\\u0430\\u0434\\u043d\\u044b\\u0439\",\"\\u043a\\u0430\\u0447\\u0435\\u0441\\u0442\\u0432\\u043e\",\"\\u043a\\u0432\\u0430\\u0440\\u0442\\u0438\\u0440\\u0430\",\"\\u043a\\u0440\\u043e\\u043c\\u0435\",\"\\u0432\\u043e\\u0437\\u043d\\u0438\\u043a\\u043d\\u0443\\u0442\\u044c\",\"\\u0432\\u0438\\u0434\",\"\\u043d\\u0430\\u0447\\u0430\\u0442\\u044c\\u0441\\u044f\",\"\\u0433\\u043e\\u0434\\u043e\\u0432\\u043e\\u0439\",\"\\u0432\\u0447\\u0435\\u0440\\u0430\",\"\\u043f\\u043e\\u0434\\u043e\\u0431\\u043d\\u044b\\u0439\",\"\\u043e\\u043a\\u0442\\u044f\\u0431\\u0440\\u044c\",\"\\u0445\",\"\\u043f\\u043e\\u0434\\u043f\\u0438\\u0441\\u0430\\u0442\\u044c\",\"\\u043f\\u043e\\u0441\\u0442\\u0443\\u043f\\u0430\\u0442\\u044c\",\"\\u0447\\u0430\\u0441\\u0442\\u044c\",\"\\u043f\\u043e\\u0441\\u043c\\u043e\\u0442\\u0440\\u0435\\u0442\\u044c\",\"\\u0434\\u0435\\u0439\\u0441\\u0442\\u0432\\u0438\\u0442\\u0435\\u043b\\u044c\\u043d\\u043e\",\"\\u0441\\u043e\\u0436\\u0430\\u043b\\u0435\\u043d\\u0438\\u0435\",\"\\u0443\\u0432\\u0435\\u0434\\u043e\\u043c\\u043b\\u0435\\u043d\\u0438\\u0435\",\"\\u0431\\u043e\\u043b\\u044c\\u0448\\u043e\\u0439\",\"\\u0442\\u0443\\u0434\\u0430\",\"\\u043e\\u0431\\u0449\\u0435\\u043d\\u0438\\u0435\",\"\\u043f\\u0440\\u043e\\u0438\\u0441\\u0445\\u043e\\u0434\\u0438\\u0442\\u044c\",\"\\u043f\\u043e\\u043b\\u0443\\u0447\\u0430\\u0442\\u044c\\u0441\\u044f\",\"\\u0441\\u0431\\u0435\\u0440\",\"\\u043e\\u0431\\u044a\\u044f\\u0441\\u043d\\u044f\\u0442\\u044c\",\"\\u0442\\u0440\\u0443\\u0431\\u043a\\u0430\",\"\\u043a\\u0443\\u043f\\u044e\\u0440\\u0430\",\"\\u0432\\u043e\\u0441\\u043f\\u043e\\u043b\\u044c\\u0437\\u043e\\u0432\\u0430\\u0442\\u044c\\u0441\\u044f\",\"\\u0430\\u0432\\u0433\\u0443\\u0441\\u0442\",\"\\u043f\\u043e\\u043c\\u043e\\u0449\\u044c\",\"\\u0441\\u0438\\u0434\\u0435\\u0442\\u044c\",\"\\u0440\\u0443\\u043a\\u043e\\u0432\\u043e\\u0434\\u0441\\u0442\\u0432\\u043e\",\"\\u0442\\u043e\\u0447\\u043d\\u043e\",\"\\u043f\\u0440\\u0438\\u043c\\u0435\\u0440\\u043d\\u043e\",\"\\u0434\\u0430\\u0432\\u043d\\u043e\",\"\\u0441\\u0435\\u043d\\u0442\\u044f\\u0431\\u0440\\u044c\",\"\\u043e\\u043a\\u0430\\u0437\\u044b\\u0432\\u0430\\u0442\\u044c\\u0441\\u044f\",\"\\u043f\\u043e\\u0434\\u043e\\u0439\\u0442\\u0438\",\"\\u043f\\u043e\\u0434\\u043e\\u0436\\u0434\\u0430\\u0442\\u044c\",\"\\u0434\\u043e\\u0437\\u0432\\u043e\\u043d\\u0438\\u0442\\u044c\\u0441\\u044f\",\"\\u043e\\u0436\\u0438\\u0434\\u0430\\u043d\\u0438\\u0435\",\"\\u043a\\u0441\\u0442\\u0430\\u0442\\u0438\",\"\\u043f\\u043b\\u044e\\u0441\",\"\\u0432\\u043f\\u0435\\u0447\\u0430\\u0442\\u043b\\u0435\\u043d\\u0438\\u0435\",\"\\u0441\\u0431\\u043e\\u0439\",\"\\u043f\\u043e\\u0437\\u0434\\u043d\\u0438\\u0439\",\"\\u043e\\u0441\\u043d\\u043e\\u0432\\u0430\\u043d\\u0438\\u0435\",\"\\u0435\\u0441\\u0442\\u0435\\u0441\\u0442\\u0432\\u0435\\u043d\\u043d\\u043e\",\"\\u0437\\u0430\\u043a\\u043e\\u043d\",\"\\u0434\\u043e\\u0441\\u0442\\u0430\\u0442\\u043e\\u0447\\u043d\\u043e\",\"\\u0441\\u043e\\u0441\\u0442\\u0430\\u0432\\u0438\\u0442\\u044c\",\"\\u043e\\u0442\\u043a\\u0440\\u044b\\u0432\\u0430\\u0442\\u044c\",\"\\u0441\\u043c\\u043e\\u0442\\u0440\\u0435\\u0442\\u044c\",\"\\u0440\\u0430\\u0441\\u0441\\u043a\\u0430\\u0437\\u0430\\u0442\\u044c\",\"\\u043f\\u043e\\u0442\\u0440\\u0430\\u0442\\u0438\\u0442\\u044c\",\"\\u0431\\u0435\\u0437\\u043e\\u043f\\u0430\\u0441\\u043d\\u043e\\u0441\\u0442\\u044c\",\"\\u0432\\u044b\\u0434\\u0430\\u0432\\u0430\\u0442\\u044c\",\"\\u0440\\u0430\\u0441\\u0441\\u043c\\u043e\\u0442\\u0440\\u0435\\u0442\\u044c\",\"\\u043f\\u043e\\u0441\\u0442\\u0430\\u0432\\u0438\\u0442\\u044c\",\"\\u0441\\u0442\\u0440\\u0430\\u0445\\u043e\\u0432\\u043e\\u0439\",\"\\u043f\\u043e\\u0441\\u043a\\u043e\\u043b\\u044c\\u043a\\u0443\",\"\\u0432\\u0440\\u043e\\u0434\\u0435\",\"\\u0435\\u0436\\u0435\\u043c\\u0435\\u0441\\u044f\\u0447\\u043d\\u044b\\u0439\",\"\\u0432\\u044b\\u044f\\u0441\\u043d\\u0438\\u0442\\u044c\",\"\\u0446\\u0435\\u043b\\u044c\",\"\\u043f\\u043e\\u043b\\u043d\\u043e\\u0441\\u0442\\u044c\\u044e\",\"\\u043f\\u0440\\u0430\\u0432\\u0434\\u0430\",\"\\u043b\\u0438\\u0447\\u043d\\u043e\",\"\\u0432\\u044b\\u044f\\u0441\\u043d\\u0438\\u0442\\u044c\\u0441\\u044f\",\"\\u043f\\u0435\\u0440\\u0435\\u0432\\u044b\\u043f\\u0443\\u0441\\u043a\",\"\\u043c\\u0438\\u043d\\u0443\\u0441\",\"\\u0442\\u0435\\u043a\\u0443\\u0449\\u0438\\u0439\",\"\\u0441\\u0443\\u0442\\u043a\\u0438\",\"\\u043d\\u0430\\u0437\\u0432\\u0430\\u0442\\u044c\",\"\\u043e\\u0442\\u0441\\u0443\\u0442\\u0441\\u0442\\u0432\\u0438\\u0435\",\"\\u043f\\u0435\\u0440\\u0435\\u0434\\u0430\\u0442\\u044c\",\"\\u0443\\u0434\\u043e\\u0431\\u043d\\u044b\\u0439\",\"\\u043f\\u043e\\u0434\\u0442\\u0432\\u0435\\u0440\\u0434\\u0438\\u0442\\u044c\",\"\\u0436\\u0438\\u0437\\u043d\\u044c\",\"\\u0444\\u0430\\u043c\\u0438\\u043b\\u0438\\u044f\",\"\\u0438\\u044e\\u043b\\u044c\",\"\\u0437\\u0430\\u0432\\u0442\\u0440\\u0430\",\"\\u0440\\u0443\\u043a\\u043e\\u0432\\u043e\\u0434\\u0438\\u0442\\u0435\\u043b\\u044c\",\"\\u0433\\u043e\",\"\\u043d\\u0430\\u0447\\u0438\\u043d\\u0430\\u0442\\u044c\",\"\\u0440\\u0430\\u043d\\u0435\\u0435\",\"\\u043f\\u043e\\u044f\\u0432\\u0438\\u0442\\u044c\\u0441\\u044f\",\"\\u0431\\u0435\\u0441\\u043f\\u043b\\u0430\\u0442\\u043d\\u044b\\u0439\",\"\\u0432\\u0430\\u043b\\u044e\\u0442\\u0430\",\"\\u0440\\u0443\\u0441\\u0441\\u043a\\u0438\\u0439\",\"\\u043e\\u0431\\u0449\\u0430\\u0442\\u044c\\u0441\\u044f\",\"\\u0434\\u043e\\u043f\",\"\\u0438\\u043f\\u043e\\u0442\\u0435\\u043a\\u0430\",\"\\u043f\\u043e\\u0441\\u0442\\u043e\\u044f\\u043d\\u043d\\u043e\",\"\\u043a\",\"\\u043f\\u0440\\u0430\\u0432\\u0438\\u043b\\u043e\",\"\\u0435\\u0434\\u0438\\u043d\\u0441\\u0442\\u0432\\u0435\\u043d\\u043d\\u044b\\u0439\",\"\\u043f\\u0443\\u043d\\u043a\\u0442\",\"\\u043f\\u043e\\u0442\\u0435\\u0440\\u044f\\u0442\\u044c\",\"\\u0432\\u043d\\u043e\\u0441\\u0438\\u0442\\u044c\",\"\\u0437\\u0430\\u0447\\u0438\\u0441\\u043b\\u0438\\u0442\\u044c\",\"\\u043b\\u0438\\u0448\\u044c\",\"\\u0438\\u044e\\u043d\\u044c\",\"\\u0441\\u0432\\u044f\\u0437\\u043d\\u044b\\u0439\",\"\\u0443\\u0442\\u0440\\u043e\",\"\\u0431\\u0430\\u043b\\u0430\\u043d\\u0441\"],\"x1\":{\"__ndarray__\":\"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\",\"dtype\":\"float32\",\"order\":\"little\",\"shape\":[500]},\"x2\":{\"__ndarray__\":\"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\",\"dtype\":\"float32\",\"order\":\"little\",\"shape\":[500]}},\"selected\":{\"id\":\"1369\"},\"selection_policy\":{\"id\":\"1370\"}},\"id\":\"1327\",\"type\":\"ColumnDataSource\"},{\"attributes\":{},\"id\":\"1367\",\"type\":\"BasicTickFormatter\"},{\"attributes\":{},\"id\":\"1366\",\"type\":\"AllLabels\"},{\"attributes\":{\"axis\":{\"id\":\"1314\"},\"dimension\":1,\"ticker\":null},\"id\":\"1317\",\"type\":\"Grid\"},{\"attributes\":{},\"id\":\"1320\",\"type\":\"ResetTool\"},{\"attributes\":{},\"id\":\"1304\",\"type\":\"DataRange1d\"},{\"attributes\":{},\"id\":\"1363\",\"type\":\"AllLabels\"},{\"attributes\":{\"fill_alpha\":{\"value\":0.1},\"fill_color\":{\"value\":\"#1f77b4\"},\"line_alpha\":{\"value\":0.1},\"line_color\":{\"value\":\"#1f77b4\"},\"size\":{\"value\":8},\"x\":{\"field\":\"x1\"},\"y\":{\"field\":\"x2\"}},\"id\":\"1330\",\"type\":\"Scatter\"}],\"root_ids\":[\"1299\"]},\"title\":\"Bokeh Application\",\"version\":\"2.3.1\"}};\n",
              "  var render_items = [{\"docid\":\"3089fd7e-e120-40d4-af74-82d6e031e391\",\"root_ids\":[\"1299\"],\"roots\":{\"1299\":\"088d34f7-0a66-4e82-9040-2118f577afed\"}}];\n",
              "  root.Bokeh.embed.embed_items_notebook(docs_json, render_items);\n",
              "\n",
              "  }\n",
              "  if (root.Bokeh !== undefined) {\n",
              "    embed_document(root);\n",
              "  } else {\n",
              "    var attempts = 0;\n",
              "    var timer = setInterval(function(root) {\n",
              "      if (root.Bokeh !== undefined) {\n",
              "        clearInterval(timer);\n",
              "        embed_document(root);\n",
              "      } else {\n",
              "        attempts++;\n",
              "        if (attempts > 100) {\n",
              "          clearInterval(timer);\n",
              "          console.log(\"Bokeh: ERROR: Unable to run BokehJS code because BokehJS library is missing\");\n",
              "        }\n",
              "      }\n",
              "    }, 10, root)\n",
              "  }\n",
              "})(window);"
            ],
            "application/vnd.bokehjs_exec.v0+json": ""
          },
          "metadata": {
            "tags": [],
            "application/vnd.bokehjs_exec.v0+json": {
              "id": "1299"
            }
          }
        }
      ]
    },
    {
      "cell_type": "markdown",
      "metadata": {
        "id": "DppvGTlg-MC3"
      },
      "source": [
        "Сразу бросается в глаза отдельно стоящее слово \"срок\". Слишком большая разница с другими словами, вероятно, ошибка.\n",
        "Также каких-то явных крупных кластеров не видно, но есть тесно сгруппированные слова, такие как:\n",
        "- \"год\", \"месяц\", \"сутки\", \"неделя\" и \"день\";\n",
        "- \"запрос\", \"обращение\", \"жалоба\", \"претензия\", \"заявление\";\n",
        "- \"офис\", \"отделение\", \"филиал\";\n",
        "- \"предложение\", \"предлагать\", \"предложить\";\n",
        "- названия месяцев.\n",
        "\n",
        "Есть и другие.\n",
        "\n",
        "В целом, визуализации получились очень наглядными."
      ]
    },
    {
      "cell_type": "code",
      "metadata": {
        "colab": {
          "base_uri": "https://localhost:8080/"
        },
        "id": "qYJ54SQmQHBi",
        "outputId": "5d6f545b-116d-4425-8bed-ae883c4217f5"
      },
      "source": [
        "# clear memory\n",
        "del sentences_lemmas\n",
        "\n",
        "show_memory_usage()"
      ],
      "execution_count": 42,
      "outputs": [
        {
          "output_type": "stream",
          "text": [
            "                         words:  7.9 KiB\n",
            "                         banks:  6.0 KiB\n",
            "                          tqdm:  2.0 KiB\n",
            "                          TSNE:  1.4 KiB\n",
            "                         stops:  1.3 KiB\n",
            "                          x_ax:  1.3 KiB\n",
            "                          y_ax:  1.3 KiB\n"
          ],
          "name": "stdout"
        }
      ]
    },
    {
      "cell_type": "markdown",
      "metadata": {
        "id": "EVcU2UVjHzGD"
      },
      "source": [
        "- задайте координаты для нового пространства следующим образом: одна ось описывает отношение \"плохо – хорошо\", вторая – \"медленно – быстро\" и найдите координаты названий банков в этих координатах. Более формально: берем вектор слова \"хорошо\", вычитаем из него вектор слова \"плохо\", получаем новый вектор, который описывает разницу между хорошими и плохими словами. Берем вектор слова \"сбербанк\" и умножаем его на этот новый вектор – получаем координату по первой оси. Аналогично – для второй оси. Две координаты уже можно нарисовать на плоскости.\n",
        "\n",
        "Ссылка на примеры визуализаций: [https://towardsdatascience.com/game-of-thrones-word-embeddings-does-r-l-j-part-2-30290b1c0b4b](https://towardsdatascience.com/game-of-thrones-word-embeddings-does-r-l-j-part-2-30290b1c0b4b)\n"
      ]
    },
    {
      "cell_type": "markdown",
      "metadata": {
        "id": "EY9ztAMsEXU8"
      },
      "source": [
        "Если делать по-правильному, то надо из исходного датасета из столбца bank_name выбрать уникальные названия и использовать их здесь вместо ручного списка. Но всё упирается в предобработку.\n",
        "Итак, что нужно сделать в предобработке:\n",
        "1. сменить на нижний регистр\n",
        "2. заменить пробелы и тире на подчеркивания или просто их удалить, т.к. текст разбивается на отдельные слова\n",
        "3. удалить отдельностоящее слово \"банк\" в конце и вначале, т.к. мало кто так будет называть банк в отзывах\n",
        "4. убрать скобки и содержимое внутри них\n",
        "5. убрать разные лишние символы типа Unicode-кавычек и пр.\n",
        "6. в текстах отзывов сделать соответствующие замены\n",
        "7. в текстах отзывов сделать замены подобных названий (\"сбербанк\", \"сбер\", \"сб\")\n",
        "\n",
        "Последний пункт особенно интересен, т.к. выявить похожесть можно построив модель, но работать мы должны с моделью, которая обучалась на корпусе с соответтвующими моделями. Кроме того, не ясно что делать с банком \"с\" или банками с сокращениями, которые могут совпадать с отдельными словами и модель их не отличит.\n",
        "\n",
        "Задача получается довольно объемная. Для упрощения оставим односложные названия банков с длиной 5 и более символов.\n"
      ]
    },
    {
      "cell_type": "code",
      "metadata": {
        "colab": {
          "base_uri": "https://localhost:8080/"
        },
        "id": "E36S-6enESb-",
        "outputId": "46cc9fa4-da11-434d-8f92-eb5d68b09970"
      },
      "source": [
        "banks2 = []\n",
        "for i in range(len(banks)):\n",
        "    bank = banks[i].lower()\n",
        "    bank = re.sub(r' россии', '', bank)\n",
        "    bank = re.sub(r'-', ' ', bank)\n",
        "    bank = re.sub(r'[«»]', '', bank)\n",
        "    bank = re.sub(r' \\(\\w+\\)', '', bank)\n",
        "    bank = re.sub(r' банк$', '', bank)\n",
        "    bank = re.sub(r'^банк ', '', bank)\n",
        "    bank = re.sub(r' ', '_', bank)\n",
        "    if \"_\" not in bank and len(bank) >= 5 and bank in model:\n",
        "        banks2.append(bank)\n",
        "\n",
        "banks2[:10]"
      ],
      "execution_count": 43,
      "outputs": [
        {
          "output_type": "execute_result",
          "data": {
            "text/plain": [
              "['бинбанк',\n",
              " 'сбербанк',\n",
              " 'гагаринский',\n",
              " 'тинькофф',\n",
              " 'альфа',\n",
              " 'совкомбанк',\n",
              " 'россельхозбанк',\n",
              " 'петрокоммерц',\n",
              " 'русфинанс',\n",
              " 'русславбанк']"
            ]
          },
          "metadata": {
            "tags": []
          },
          "execution_count": 43
        }
      ]
    },
    {
      "cell_type": "markdown",
      "metadata": {
        "id": "5oEwd9o8FoM0"
      },
      "source": [
        "Построим визуализацию для 30 банков с наибольшим числом отзывов."
      ]
    },
    {
      "cell_type": "code",
      "metadata": {
        "colab": {
          "base_uri": "https://localhost:8080/",
          "height": 497
        },
        "id": "q6UHD3PFnRYv",
        "outputId": "c3a3b7bd-bc39-4cd3-88e2-7df9d416693b"
      },
      "source": [
        "n = 30\n",
        "good = model[['хорошо']][0]\n",
        "bad = model[['плохо']][0]\n",
        "fast = model[['быстро']][0]\n",
        "slow = model[['медленно']][0]\n",
        "x_ax = fast - slow\n",
        "y_ax = good - bad\n",
        "\n",
        "xb = []\n",
        "yb = []\n",
        "plt.figure(figsize=(14, 8))\n",
        "for bank in banks2[:n]:\n",
        "    bank_vector = model[[bank]][0]\n",
        "    x = np.dot(x_ax, bank_vector)\n",
        "    y = np.dot(y_ax, bank_vector)\n",
        "    xb.append(x)\n",
        "    yb.append(y)\n",
        "    plt.text(x - len(bank) // 5, y - 1, bank)\n",
        "\n",
        "plt.scatter(xb, yb)\n",
        "plt.xlabel('быстро - медленно')\n",
        "plt.ylabel('хорошо - плохо')\n",
        "plt.show()"
      ],
      "execution_count": 44,
      "outputs": [
        {
          "output_type": "display_data",
          "data": {
            "image/png": "[encoded data removed]",
            "text/plain": [
              "<Figure size 1008x576 with 1 Axes>"
            ]
          },
          "metadata": {
            "tags": [],
            "needs_background": "light"
          }
        }
      ]
    },
    {
      "cell_type": "markdown",
      "metadata": {
        "id": "3n-MsaoiAA5m"
      },
      "source": [
        "Согласно визуализацие: наиболее быстрое и хорошое обслуживание в банке \"Тинькофф\", а наименнее быстрое и наихудшее в банке \"Интеркоммерц\"."
      ]
    },
    {
      "cell_type": "code",
      "metadata": {
        "colab": {
          "base_uri": "https://localhost:8080/"
        },
        "id": "aqlpdWPMPyln",
        "outputId": "c07bb55f-4944-499a-a59c-ec003c412b63"
      },
      "source": [
        "show_memory_usage()"
      ],
      "execution_count": 45,
      "outputs": [
        {
          "output_type": "stream",
          "text": [
            "                         words:  7.9 KiB\n",
            "                         banks:  6.0 KiB\n",
            "                          tqdm:  2.0 KiB\n",
            "                        banks2:  1.6 KiB\n",
            "                          TSNE:  1.4 KiB\n",
            "                         stops:  1.3 KiB\n",
            "                          x_ax:  1.3 KiB\n"
          ],
          "name": "stdout"
        }
      ]
    }
  ]
}